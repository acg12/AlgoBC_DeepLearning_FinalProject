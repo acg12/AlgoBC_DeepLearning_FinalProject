{
  "nbformat": 4,
  "nbformat_minor": 0,
  "metadata": {
    "colab": {
      "name": "03_Methodology.ipynb",
      "provenance": [],
      "authorship_tag": "ABX9TyOAXGpXop5LLv0A2tp+2Xy0",
      "include_colab_link": true
    },
    "kernelspec": {
      "name": "python3",
      "display_name": "Python 3"
    },
    "language_info": {
      "name": "python"
    },
    "accelerator": "GPU"
  },
  "cells": [
    {
      "cell_type": "markdown",
      "metadata": {
        "id": "view-in-github",
        "colab_type": "text"
      },
      "source": [
        "<a href=\"https://colab.research.google.com/github/acg12/AlgoBC_DeepLearning_FinalProject/blob/main/notebooks/03_Methodology.ipynb\" target=\"_parent\"><img src=\"https://colab.research.google.com/assets/colab-badge.svg\" alt=\"Open In Colab\"/></a>"
      ]
    },
    {
      "cell_type": "markdown",
      "metadata": {
        "id": "7BzLZUjCb9Uk"
      },
      "source": [
        "# Import Libraries"
      ]
    },
    {
      "cell_type": "code",
      "metadata": {
        "_uuid": "8f2839f25d086af736a60e9eeb907d3b93b6e0e5",
        "_cell_guid": "b1076dfc-b9ad-4769-8c92-a6c4dae69d19",
        "id": "kpdsI9gQ-5kW",
        "_kg_hide-output": true,
        "_kg_hide-input": true,
        "execution": {
          "iopub.status.busy": "2021-09-05T04:58:14.652921Z",
          "iopub.execute_input": "2021-09-05T04:58:14.653362Z",
          "iopub.status.idle": "2021-09-05T04:58:14.670148Z",
          "shell.execute_reply.started": "2021-09-05T04:58:14.653322Z",
          "shell.execute_reply": "2021-09-05T04:58:14.669261Z"
        },
        "trusted": true
      },
      "source": [
        "import numpy as np # linear algebra\n",
        "import pandas as pd # data processing, CSV file I/O (e.g. pd.read_csv)\n",
        "from sklearn.model_selection import train_test_split # splitting train and validation data\n",
        "\n",
        "# For visualizing images\n",
        "import matplotlib.pyplot as plt\n",
        "import seaborn as sns\n",
        "import matplotlib.image as mpimg\n",
        "import random\n",
        "from plotly.subplots import make_subplots\n",
        "import plotly.graph_objects as go\n",
        "\n",
        "# For augmenting data\n",
        "from tensorflow.keras.preprocessing.image import ImageDataGenerator\n",
        "\n",
        "# For modelling\n",
        "import tensorflow as tf\n",
        "from tensorflow import keras\n",
        "from tensorflow.keras.optimizers import Adam\n",
        "from tensorflow.keras.layers import Dense, Flatten, Conv2D, MaxPool2D, Activation\n",
        "from tensorflow.keras import Sequential, layers\n",
        "import tensorflow_hub as hub\n",
        "from sklearn.model_selection import StratifiedKFold\n",
        "\n",
        "# For evaluation\n",
        "from sklearn.metrics import classification_report, confusion_matrix, roc_curve\n",
        "\n",
        "import os"
      ],
      "execution_count": 1,
      "outputs": []
    },
    {
      "cell_type": "code",
      "metadata": {
        "colab": {
          "base_uri": "https://localhost:8080/"
        },
        "id": "sic6FLeUCcIP",
        "outputId": "7dea2efa-b3c6-418d-edc5-198e64e081b0"
      },
      "source": [
        "from google.colab import drive\n",
        "drive.mount('/content/drive')"
      ],
      "execution_count": 2,
      "outputs": [
        {
          "output_type": "stream",
          "name": "stdout",
          "text": [
            "Mounted at /content/drive\n"
          ]
        }
      ]
    },
    {
      "cell_type": "markdown",
      "metadata": {
        "id": "VHdAIGZOcEN1"
      },
      "source": [
        "# Data Preparation"
      ]
    },
    {
      "cell_type": "code",
      "metadata": {
        "_kg_hide-input": true,
        "_kg_hide-output": true,
        "id": "MhDZHBS3wJO3"
      },
      "source": [
        "df = pd.read_csv('/content/drive/MyDrive/Bootcamp/Bootcamp 4/Chest_xray_Corona_Metadata.csv')\n",
        "\n",
        "train_df = df[df['Dataset_type'] == 'TRAIN']\n",
        "test_df = df[df['Dataset_type'] == 'TEST']\n",
        "\n",
        "TRAIN_DIR = '/content/drive/MyDrive/Bootcamp/Bootcamp 4/Coronahack-Chest-XRay-Dataset/Coronahack-Chest-XRay-Dataset/train'\n",
        "TEST_DIR = '/content/drive/MyDrive/Bootcamp/Bootcamp 4/Coronahack-Chest-XRay-Dataset/Coronahack-Chest-XRay-Dataset/test'"
      ],
      "execution_count": 4,
      "outputs": []
    },
    {
      "cell_type": "code",
      "metadata": {
        "_kg_hide-input": true,
        "_kg_hide-output": true,
        "id": "ImSiVJ7fwJO4",
        "colab": {
          "base_uri": "https://localhost:8080/"
        },
        "outputId": "6d2c8443-6702-4e56-99e7-42df6f7ce431"
      },
      "source": [
        "filled_train_df = train_df.fillna('Unknown')\n",
        "filled_test_df = test_df.fillna('Unknown')\n",
        "\n",
        "final_train_df = filled_train_df[['X_ray_image_name', 'Label']]\n",
        "final_test_df = test_df.fillna('Unknown')\n",
        "\n",
        "final_train_df.shape"
      ],
      "execution_count": 5,
      "outputs": [
        {
          "output_type": "execute_result",
          "data": {
            "text/plain": [
              "(5286, 2)"
            ]
          },
          "metadata": {},
          "execution_count": 5
        }
      ]
    },
    {
      "cell_type": "code",
      "metadata": {
        "_kg_hide-input": true,
        "_kg_hide-output": true,
        "id": "9YiQLUFqwJO4",
        "colab": {
          "base_uri": "https://localhost:8080/"
        },
        "outputId": "caf52dce-8884-469d-c658-ed69387babb1"
      },
      "source": [
        "train_data, valid_data = train_test_split(final_train_df, test_size=0.2, stratify=final_train_df['Label'], random_state=42)\n",
        "print(train_data['Label'].value_counts())\n",
        "print(valid_data['Label'].value_counts())"
      ],
      "execution_count": 6,
      "outputs": [
        {
          "output_type": "stream",
          "name": "stdout",
          "text": [
            "Pnemonia    3155\n",
            "Normal      1073\n",
            "Name: Label, dtype: int64\n",
            "Pnemonia    789\n",
            "Normal      269\n",
            "Name: Label, dtype: int64\n"
          ]
        }
      ]
    },
    {
      "cell_type": "markdown",
      "metadata": {
        "id": "0UYZIMlPcUYQ"
      },
      "source": [
        "# Preprocessing"
      ]
    },
    {
      "cell_type": "markdown",
      "metadata": {
        "id": "7MBo6FWq-5kw"
      },
      "source": [
        "Let's augment the data so it will be more generalized."
      ]
    },
    {
      "cell_type": "code",
      "metadata": {
        "id": "6jWfvTff-5kw",
        "_kg_hide-output": true,
        "trusted": true,
        "colab": {
          "base_uri": "https://localhost:8080/"
        },
        "outputId": "41e8ae8d-4356-469c-de5a-1f6e70c9810d"
      },
      "source": [
        "non_aug_gen = ImageDataGenerator(rescale=1/255.)\n",
        "aug_gen = ImageDataGenerator(\n",
        "    rescale=1./255,\n",
        "    width_shift_range=0.15,\n",
        "    height_shift_range=0.15,\n",
        "    zoom_range=[0.9, 1.25],\n",
        "    brightness_range=[0.5, 1.5]\n",
        ")\n",
        "\n",
        "# ------------ Grayscale -------------\n",
        "non_aug_train = non_aug_gen.flow_from_dataframe(\n",
        "    dataframe=train_data,\n",
        "    directory=TRAIN_DIR,\n",
        "    x_col='X_ray_image_name',\n",
        "    y_col='Label',\n",
        "    target_size=(224, 224),\n",
        "    batch_size=32,\n",
        "    class_mode='binary', \n",
        "    color_mode='grayscale',\n",
        "    shuffle=True\n",
        ")\n",
        "\n",
        "non_aug_valid = non_aug_gen.flow_from_dataframe(\n",
        "    dataframe=valid_data,\n",
        "    directory=TRAIN_DIR,\n",
        "    x_col='X_ray_image_name',\n",
        "    y_col='Label',\n",
        "    target_size=(224, 224),\n",
        "    batch_size=32,\n",
        "    class_mode='binary',\n",
        "    color_mode='grayscale',\n",
        "    shuffle=True\n",
        ")\n",
        "\n",
        "non_aug_test = non_aug_gen.flow_from_dataframe(\n",
        "    dataframe=final_test_df,\n",
        "    directory=TEST_DIR,\n",
        "    x_col='X_ray_image_name',\n",
        "    y_col='Label',\n",
        "    target_size=(224, 224),\n",
        "    batch_size=32,\n",
        "    class_mode='binary',\n",
        "    color_mode='grayscale',\n",
        "    shuffle=True\n",
        ")\n",
        "\n",
        "aug_train = aug_gen.flow_from_dataframe(\n",
        "    dataframe=train_data,\n",
        "    directory=TRAIN_DIR,\n",
        "    x_col='X_ray_image_name',\n",
        "    y_col='Label',\n",
        "    target_size=(224, 224),\n",
        "    batch_size=32,\n",
        "    class_mode='binary',\n",
        "    color_mode='grayscale',\n",
        "    shuffle=True\n",
        ")\n",
        "\n",
        "# ----------- RGB --------------\n",
        "non_aug_train_rgb = non_aug_gen.flow_from_dataframe(\n",
        "    dataframe=train_data,\n",
        "    directory=TRAIN_DIR,\n",
        "    x_col='X_ray_image_name',\n",
        "    y_col='Label',\n",
        "    target_size=(224, 224),\n",
        "    batch_size=32,\n",
        "    class_mode='binary', \n",
        "    color_mode='rgb',\n",
        "    shuffle=True\n",
        ")\n",
        "\n",
        "non_aug_valid_rgb = non_aug_gen.flow_from_dataframe(\n",
        "    dataframe=valid_data,\n",
        "    directory=TRAIN_DIR,\n",
        "    x_col='X_ray_image_name',\n",
        "    y_col='Label',\n",
        "    target_size=(224, 224),\n",
        "    batch_size=32,\n",
        "    class_mode='binary',\n",
        "    color_mode='rgb',\n",
        "    shuffle=True\n",
        ")\n",
        "\n",
        "non_aug_test_rgb = non_aug_gen.flow_from_dataframe(\n",
        "    dataframe=final_test_df,\n",
        "    directory=TEST_DIR,\n",
        "    x_col='X_ray_image_name',\n",
        "    y_col='Label',\n",
        "    target_size=(224, 224),\n",
        "    batch_size=32,\n",
        "    class_mode='binary',\n",
        "    color_mode='rgb',\n",
        "    shuffle=True\n",
        ")\n",
        "\n",
        "# --------- For predicting ---------------\n",
        "predict_valid_gs = non_aug_gen.flow_from_dataframe(\n",
        "    dataframe=valid_data,\n",
        "    directory=TRAIN_DIR,\n",
        "    x_col='X_ray_image_name',\n",
        "    y_col='Label',\n",
        "    target_size=(224, 224),\n",
        "    batch_size=32,\n",
        "    class_mode='binary',\n",
        "    color_mode='grayscale',\n",
        "    shuffle=False\n",
        ")\n",
        "\n",
        "predict_valid_rgb = non_aug_gen.flow_from_dataframe(\n",
        "    dataframe=valid_data,\n",
        "    directory=TRAIN_DIR,\n",
        "    x_col='X_ray_image_name',\n",
        "    y_col='Label',\n",
        "    target_size=(224, 224),\n",
        "    batch_size=32,\n",
        "    class_mode='binary',\n",
        "    color_mode='rgb',\n",
        "    shuffle=False\n",
        ")\n",
        "\n",
        "predict_test_rgb = non_aug_gen.flow_from_dataframe(\n",
        "    dataframe=final_test_df,\n",
        "    directory=TEST_DIR,\n",
        "    x_col='X_ray_image_name',\n",
        "    y_col='Label',\n",
        "    target_size=(224, 224),\n",
        "    batch_size=32,\n",
        "    class_mode='binary',\n",
        "    color_mode='rgb',\n",
        "    shuffle=False\n",
        ")"
      ],
      "execution_count": 7,
      "outputs": [
        {
          "output_type": "stream",
          "name": "stdout",
          "text": [
            "Found 4228 validated image filenames belonging to 2 classes.\n",
            "Found 1058 validated image filenames belonging to 2 classes.\n",
            "Found 624 validated image filenames belonging to 2 classes.\n",
            "Found 4228 validated image filenames belonging to 2 classes.\n",
            "Found 4228 validated image filenames belonging to 2 classes.\n",
            "Found 1058 validated image filenames belonging to 2 classes.\n",
            "Found 624 validated image filenames belonging to 2 classes.\n",
            "Found 1058 validated image filenames belonging to 2 classes.\n",
            "Found 1058 validated image filenames belonging to 2 classes.\n",
            "Found 624 validated image filenames belonging to 2 classes.\n"
          ]
        }
      ]
    },
    {
      "cell_type": "markdown",
      "metadata": {
        "id": "BKdQb0gf-5kx"
      },
      "source": [
        "# Baseline Model"
      ]
    },
    {
      "cell_type": "code",
      "metadata": {
        "id": "mbhGM5jY-5kx",
        "execution": {
          "iopub.status.busy": "2021-09-05T04:58:24.400576Z",
          "iopub.execute_input": "2021-09-05T04:58:24.400915Z",
          "iopub.status.idle": "2021-09-05T04:58:24.408148Z",
          "shell.execute_reply.started": "2021-09-05T04:58:24.40088Z",
          "shell.execute_reply": "2021-09-05T04:58:24.407352Z"
        },
        "trusted": true
      },
      "source": [
        "def create_baseline():\n",
        "    model = Sequential([\n",
        "      Conv2D(filters=10, \n",
        "             kernel_size=3, \n",
        "             strides=1,\n",
        "             padding='valid',\n",
        "             activation='relu', \n",
        "             input_shape=(224, 224, 1)),\n",
        "      Conv2D(10, 3, activation='relu'),\n",
        "      Conv2D(10, 3, activation='relu'),\n",
        "      Flatten(),\n",
        "      Dense(1, activation='sigmoid')\n",
        "    ])\n",
        "    return model"
      ],
      "execution_count": 8,
      "outputs": []
    },
    {
      "cell_type": "code",
      "metadata": {
        "id": "7u7vH9V1-5kx",
        "execution": {
          "iopub.status.busy": "2021-09-05T04:58:24.409466Z",
          "iopub.execute_input": "2021-09-05T04:58:24.40985Z",
          "iopub.status.idle": "2021-09-05T04:58:24.421178Z",
          "shell.execute_reply.started": "2021-09-05T04:58:24.409815Z",
          "shell.execute_reply": "2021-09-05T04:58:24.420397Z"
        },
        "trusted": true
      },
      "source": [
        "# Plot the validation and training data separately\n",
        "def plot_learning_curves(*histories):\n",
        "  \"\"\"\n",
        "  Returns separate loss curves for training and validation metrics.\n",
        "  \"\"\" \n",
        "  fig = make_subplots(rows=3, cols=1, subplot_titles=('Loss', 'Recall', 'AUC'))\n",
        "  for history in histories:\n",
        "    loss = history[1].history.get('loss')\n",
        "    val_loss = history[1].history.get('val_loss')\n",
        "\n",
        "    auc = history[1].history.get('auc')\n",
        "    val_auc = history[1].history.get('val_auc')\n",
        "    \n",
        "    recall = history[1].history.get('recall')\n",
        "    val_recall = history[1].history.get('val_recall')\n",
        "\n",
        "    epochs = np.arange(1, len(history[1].history.get('loss')) + 1)\n",
        "\n",
        "    fig.add_trace(go.Scatter(x=epochs, y=loss, name=history[0] + \" train\"), row=1, col=1)\n",
        "    fig.add_trace(go.Scatter(x=epochs, y=val_loss, name=history[0] + \" val\"), row=1, col=1)\n",
        "    fig.add_trace(go.Scatter(x=epochs, y=recall, name=history[0] + \" train\"), row=2, col=1)\n",
        "    fig.add_trace(go.Scatter(x=epochs, y=val_recall, name=history[0] + \" val\"), row=2, col=1)\n",
        "    fig.add_trace(go.Scatter(x=epochs, y=auc, name=history[0] + \" train\"), row=3, col=1)\n",
        "    fig.add_trace(go.Scatter(x=epochs, y=val_auc, name=history[0] + \"val\"), row=3, col=1)\n",
        "\n",
        "  # Update xaxis properties\n",
        "  fig.update_xaxes(title_text=\"Epochs\", row=1, col=1)\n",
        "  fig.update_xaxes(title_text=\"Epochs\", row=2, col=1)\n",
        "  fig.update_xaxes(title_text=\"Epochs\", row=3, col=1)\n",
        "\n",
        "  # Update yaxis properties\n",
        "  fig.update_yaxes(title_text=\"Loss\", row=1, col=1)\n",
        "  fig.update_yaxes(title_text=\"Recall\", row=2, col=1)\n",
        "  fig.update_yaxes(title_text=\"AUC\", row=3, col=1)\n",
        "\n",
        "  fig.update_layout(title_text=\"Learning Curves\", height=1500)\n",
        "\n",
        "  fig.show()"
      ],
      "execution_count": 9,
      "outputs": []
    },
    {
      "cell_type": "code",
      "metadata": {
        "id": "AUnMbO8oz2uV"
      },
      "source": [
        "def plot_roc_curve(*datas):\n",
        "  fig = go.Figure()\n",
        "  for data in datas:\n",
        "    name = data[0]\n",
        "    y_true = data[1]\n",
        "    pred = data[2]\n",
        "\n",
        "    fpr, tpr, _ = roc_curve(y_true, pred)\n",
        "    fig.add_trace(go.Scatter(x=fpr, y=tpr, name=name))\n",
        "    \n",
        "  fig.update_yaxes(title_text=\"TPR\")\n",
        "  fig.update_xaxes(title_text=\"FPR\")\n",
        "  fig.update_layout(title_text=\"ROC Curve\")\n",
        "  fig.show()"
      ],
      "execution_count": 10,
      "outputs": []
    },
    {
      "cell_type": "code",
      "metadata": {
        "id": "u3TXPcL26TXy"
      },
      "source": [
        "def evaluate_model(y_true, pred, threshold=0.5):\n",
        "  pred_new = [1 if i > threshold else 0 for i in pred]\n",
        "  \n",
        "  # Print classification report\n",
        "  print('===== Classification Report ======')\n",
        "  print(classification_report(y_true, pred_new))\n",
        "  print()\n",
        "\n",
        "  # Print confusion matrix\n",
        "  print('===== Confusion Matrix =====')\n",
        "  print(confusion_matrix(y_true, pred_new))\n",
        "  print()\n",
        "\n",
        "  # Print other metrics\n",
        "  print('===== Other Metrics =====')\n",
        "  roc_auc = keras.metrics.AUC(curve='ROC')\n",
        "  roc_auc.update_state(y_true, pred)\n",
        "  print(f\"ROC_AUC: {roc_auc.result().numpy()}\")"
      ],
      "execution_count": 11,
      "outputs": []
    },
    {
      "cell_type": "code",
      "metadata": {
        "id": "QtE7e4Br-5ky",
        "execution": {
          "iopub.status.busy": "2021-09-05T04:58:24.422604Z",
          "iopub.execute_input": "2021-09-05T04:58:24.423038Z",
          "iopub.status.idle": "2021-09-05T04:58:24.455292Z",
          "shell.execute_reply.started": "2021-09-05T04:58:24.423001Z",
          "shell.execute_reply": "2021-09-05T04:58:24.45455Z"
        },
        "trusted": true
      },
      "source": [
        "metrics = [\n",
        "    keras.metrics.TruePositives(name='tp'),\n",
        "    keras.metrics.FalsePositives(name='fp'),\n",
        "    keras.metrics.TrueNegatives(name='tn'),\n",
        "    keras.metrics.FalseNegatives(name='fn'), \n",
        "    'accuracy',\n",
        "    keras.metrics.Precision(name='precision'),\n",
        "    keras.metrics.Recall(name='recall'),\n",
        "    keras.metrics.AUC(name='auc', curve='ROC')\n",
        "]\n",
        "callbacks = [tf.keras.callbacks.EarlyStopping(monitor='val_loss', patience=2, restore_best_weights=True)]\n",
        "callbacks_baseline = [tf.keras.callbacks.EarlyStopping(monitor='val_loss', patience=3, restore_best_weights=True)]"
      ],
      "execution_count": 12,
      "outputs": []
    },
    {
      "cell_type": "markdown",
      "metadata": {
        "id": "dwdvbNCB-5kx"
      },
      "source": [
        "## Train Baseline Model without Augmented Data"
      ]
    },
    {
      "cell_type": "code",
      "metadata": {
        "id": "Fr4HygBjRDzV",
        "colab": {
          "base_uri": "https://localhost:8080/"
        },
        "outputId": "b669d342-86b6-46fd-d46c-332ab87857d1"
      },
      "source": [
        "(create_baseline()).summary()"
      ],
      "execution_count": 13,
      "outputs": [
        {
          "output_type": "stream",
          "name": "stdout",
          "text": [
            "Model: \"sequential\"\n",
            "_________________________________________________________________\n",
            "Layer (type)                 Output Shape              Param #   \n",
            "=================================================================\n",
            "conv2d (Conv2D)              (None, 222, 222, 10)      100       \n",
            "_________________________________________________________________\n",
            "conv2d_1 (Conv2D)            (None, 220, 220, 10)      910       \n",
            "_________________________________________________________________\n",
            "conv2d_2 (Conv2D)            (None, 218, 218, 10)      910       \n",
            "_________________________________________________________________\n",
            "flatten (Flatten)            (None, 475240)            0         \n",
            "_________________________________________________________________\n",
            "dense (Dense)                (None, 1)                 475241    \n",
            "=================================================================\n",
            "Total params: 477,161\n",
            "Trainable params: 477,161\n",
            "Non-trainable params: 0\n",
            "_________________________________________________________________\n"
          ]
        }
      ]
    },
    {
      "cell_type": "code",
      "metadata": {
        "id": "RJDpOE0y-5ky",
        "execution": {
          "iopub.status.busy": "2021-09-05T04:58:24.456499Z",
          "iopub.execute_input": "2021-09-05T04:58:24.456831Z",
          "iopub.status.idle": "2021-09-05T05:08:47.291305Z",
          "shell.execute_reply.started": "2021-09-05T04:58:24.456798Z",
          "shell.execute_reply": "2021-09-05T05:08:47.290468Z"
        },
        "trusted": true,
        "colab": {
          "base_uri": "https://localhost:8080/"
        },
        "outputId": "273cc887-f075-4a36-f0db-b77d06ced269"
      },
      "source": [
        "# Set random seed\n",
        "tf.random.set_seed(42)\n",
        "\n",
        "# Create the baseline model\n",
        "model_1 = create_baseline()\n",
        "\n",
        "# Compile and fit\n",
        "model_1.compile(loss='binary_crossentropy',\n",
        "                optimizer=Adam(),\n",
        "                metrics=metrics)\n",
        "\n",
        "history_1 = model_1.fit(non_aug_train,\n",
        "                        epochs=10,\n",
        "                        validation_data=non_aug_valid,\n",
        "                        steps_per_epoch=len(non_aug_train),\n",
        "                        validation_steps=len(non_aug_valid),\n",
        "                        callbacks=callbacks_baseline)"
      ],
      "execution_count": 14,
      "outputs": [
        {
          "output_type": "stream",
          "name": "stdout",
          "text": [
            "Epoch 1/10\n",
            "133/133 [==============================] - 2114s 16s/step - loss: 0.3389 - tp: 2981.0000 - fp: 372.0000 - tn: 701.0000 - fn: 174.0000 - accuracy: 0.8709 - precision: 0.8891 - recall: 0.9448 - auc: 0.8990 - val_loss: 0.1423 - val_tp: 751.0000 - val_fp: 11.0000 - val_tn: 258.0000 - val_fn: 38.0000 - val_accuracy: 0.9537 - val_precision: 0.9856 - val_recall: 0.9518 - val_auc: 0.9876\n",
            "Epoch 2/10\n",
            "133/133 [==============================] - 66s 497ms/step - loss: 0.1123 - tp: 3085.0000 - fp: 104.0000 - tn: 969.0000 - fn: 70.0000 - accuracy: 0.9588 - precision: 0.9674 - recall: 0.9778 - auc: 0.9890 - val_loss: 0.1046 - val_tp: 777.0000 - val_fp: 24.0000 - val_tn: 245.0000 - val_fn: 12.0000 - val_accuracy: 0.9660 - val_precision: 0.9700 - val_recall: 0.9848 - val_auc: 0.9894\n",
            "Epoch 3/10\n",
            "133/133 [==============================] - 65s 492ms/step - loss: 0.0617 - tp: 3112.0000 - fp: 51.0000 - tn: 1022.0000 - fn: 43.0000 - accuracy: 0.9778 - precision: 0.9839 - recall: 0.9864 - auc: 0.9967 - val_loss: 0.1257 - val_tp: 760.0000 - val_fp: 13.0000 - val_tn: 256.0000 - val_fn: 29.0000 - val_accuracy: 0.9603 - val_precision: 0.9832 - val_recall: 0.9632 - val_auc: 0.9900\n",
            "Epoch 4/10\n",
            "133/133 [==============================] - 65s 492ms/step - loss: 0.0314 - tp: 3135.0000 - fp: 23.0000 - tn: 1050.0000 - fn: 20.0000 - accuracy: 0.9898 - precision: 0.9927 - recall: 0.9937 - auc: 0.9993 - val_loss: 0.1047 - val_tp: 773.0000 - val_fp: 17.0000 - val_tn: 252.0000 - val_fn: 16.0000 - val_accuracy: 0.9688 - val_precision: 0.9785 - val_recall: 0.9797 - val_auc: 0.9922\n",
            "Epoch 5/10\n",
            "133/133 [==============================] - 66s 499ms/step - loss: 0.0176 - tp: 3142.0000 - fp: 13.0000 - tn: 1060.0000 - fn: 13.0000 - accuracy: 0.9939 - precision: 0.9959 - recall: 0.9959 - auc: 0.9998 - val_loss: 0.1720 - val_tp: 785.0000 - val_fp: 49.0000 - val_tn: 220.0000 - val_fn: 4.0000 - val_accuracy: 0.9499 - val_precision: 0.9412 - val_recall: 0.9949 - val_auc: 0.9803\n"
          ]
        }
      ]
    },
    {
      "cell_type": "markdown",
      "metadata": {
        "id": "FhWenKfV-5ky"
      },
      "source": [
        "## Train Baseline Model with Augmented Data"
      ]
    },
    {
      "cell_type": "code",
      "metadata": {
        "id": "_CtzuT0Y-5kz",
        "execution": {
          "iopub.status.busy": "2021-09-05T05:08:47.745042Z",
          "iopub.execute_input": "2021-09-05T05:08:47.745411Z",
          "iopub.status.idle": "2021-09-05T05:26:42.518786Z",
          "shell.execute_reply.started": "2021-09-05T05:08:47.745367Z",
          "shell.execute_reply": "2021-09-05T05:26:42.517403Z"
        },
        "trusted": true,
        "colab": {
          "base_uri": "https://localhost:8080/"
        },
        "outputId": "4ba51a80-526c-4835-ea2f-5f6896d0d148"
      },
      "source": [
        "# Set random seed\n",
        "tf.random.set_seed(42)\n",
        "\n",
        "# Create the 2nd baseline model\n",
        "model_2 = create_baseline()\n",
        "\n",
        "# Compile and fit\n",
        "model_2.compile(loss='binary_crossentropy',\n",
        "                optimizer=Adam(),\n",
        "                metrics=metrics)\n",
        "\n",
        "history_2 = model_2.fit(aug_train,\n",
        "                        epochs=10,\n",
        "                        validation_data=non_aug_valid,\n",
        "                        steps_per_epoch=len(aug_train),\n",
        "                        validation_steps=len(non_aug_valid),\n",
        "                        callbacks=callbacks_baseline)"
      ],
      "execution_count": null,
      "outputs": [
        {
          "output_type": "stream",
          "name": "stdout",
          "text": [
            "Epoch 1/10\n",
            "133/133 [==============================] - 93s 682ms/step - loss: 0.4950 - tp: 3770.0000 - fp: 796.0000 - tn: 546.0000 - fn: 174.0000 - accuracy: 0.7798 - precision: 0.8257 - recall: 0.9559 - auc: 0.8376 - val_loss: 0.4571 - val_tp: 775.0000 - val_fp: 213.0000 - val_tn: 56.0000 - val_fn: 14.0000 - val_accuracy: 0.7854 - val_precision: 0.7844 - val_recall: 0.9823 - val_auc: 0.7983\n",
            "Epoch 2/10\n",
            "133/133 [==============================] - 89s 669ms/step - loss: 0.3119 - tp: 2913.0000 - fp: 310.0000 - tn: 763.0000 - fn: 242.0000 - accuracy: 0.8694 - precision: 0.9038 - recall: 0.9233 - auc: 0.9215 - val_loss: 0.3152 - val_tp: 777.0000 - val_fp: 127.0000 - val_tn: 142.0000 - val_fn: 12.0000 - val_accuracy: 0.8686 - val_precision: 0.8595 - val_recall: 0.9848 - val_auc: 0.9303\n",
            "Epoch 3/10\n",
            "133/133 [==============================] - 89s 670ms/step - loss: 0.2770 - tp: 2927.0000 - fp: 278.0000 - tn: 795.0000 - fn: 228.0000 - accuracy: 0.8803 - precision: 0.9133 - recall: 0.9277 - auc: 0.9391 - val_loss: 0.3339 - val_tp: 779.0000 - val_fp: 156.0000 - val_tn: 113.0000 - val_fn: 10.0000 - val_accuracy: 0.8431 - val_precision: 0.8332 - val_recall: 0.9873 - val_auc: 0.9338\n",
            "Epoch 4/10\n",
            "133/133 [==============================] - 88s 665ms/step - loss: 0.2782 - tp: 2953.0000 - fp: 248.0000 - tn: 825.0000 - fn: 202.0000 - accuracy: 0.8936 - precision: 0.9225 - recall: 0.9360 - auc: 0.9395 - val_loss: 0.1996 - val_tp: 752.0000 - val_fp: 41.0000 - val_tn: 228.0000 - val_fn: 37.0000 - val_accuracy: 0.9263 - val_precision: 0.9483 - val_recall: 0.9531 - val_auc: 0.9655\n",
            "Epoch 5/10\n",
            "133/133 [==============================] - 88s 664ms/step - loss: 0.2561 - tp: 2961.0000 - fp: 237.0000 - tn: 836.0000 - fn: 194.0000 - accuracy: 0.8981 - precision: 0.9259 - recall: 0.9385 - auc: 0.9466 - val_loss: 0.2489 - val_tp: 778.0000 - val_fp: 100.0000 - val_tn: 169.0000 - val_fn: 11.0000 - val_accuracy: 0.8951 - val_precision: 0.8861 - val_recall: 0.9861 - val_auc: 0.9686\n",
            "Epoch 6/10\n",
            "133/133 [==============================] - 88s 663ms/step - loss: 0.2428 - tp: 2947.0000 - fp: 211.0000 - tn: 862.0000 - fn: 208.0000 - accuracy: 0.9009 - precision: 0.9332 - recall: 0.9341 - auc: 0.9532 - val_loss: 0.1951 - val_tp: 768.0000 - val_fp: 47.0000 - val_tn: 222.0000 - val_fn: 21.0000 - val_accuracy: 0.9357 - val_precision: 0.9423 - val_recall: 0.9734 - val_auc: 0.9682\n",
            "Epoch 7/10\n",
            "133/133 [==============================] - 88s 662ms/step - loss: 0.2336 - tp: 2961.0000 - fp: 197.0000 - tn: 876.0000 - fn: 194.0000 - accuracy: 0.9075 - precision: 0.9376 - recall: 0.9385 - auc: 0.9561 - val_loss: 0.2377 - val_tp: 737.0000 - val_fp: 19.0000 - val_tn: 250.0000 - val_fn: 52.0000 - val_accuracy: 0.9329 - val_precision: 0.9749 - val_recall: 0.9341 - val_auc: 0.9703\n",
            "Epoch 8/10\n",
            "133/133 [==============================] - 88s 661ms/step - loss: 0.2277 - tp: 2958.0000 - fp: 197.0000 - tn: 876.0000 - fn: 197.0000 - accuracy: 0.9068 - precision: 0.9376 - recall: 0.9376 - auc: 0.9577 - val_loss: 0.1971 - val_tp: 765.0000 - val_fp: 44.0000 - val_tn: 225.0000 - val_fn: 24.0000 - val_accuracy: 0.9357 - val_precision: 0.9456 - val_recall: 0.9696 - val_auc: 0.9682\n",
            "Epoch 9/10\n",
            "133/133 [==============================] - 88s 661ms/step - loss: 0.2282 - tp: 2954.0000 - fp: 210.0000 - tn: 863.0000 - fn: 201.0000 - accuracy: 0.9028 - precision: 0.9336 - recall: 0.9363 - auc: 0.9578 - val_loss: 0.2164 - val_tp: 727.0000 - val_fp: 12.0000 - val_tn: 257.0000 - val_fn: 62.0000 - val_accuracy: 0.9301 - val_precision: 0.9838 - val_recall: 0.9214 - val_auc: 0.9754\n"
          ]
        }
      ]
    },
    {
      "cell_type": "markdown",
      "metadata": {
        "id": "V62_jhPl-5kz"
      },
      "source": [
        "## Conclusion"
      ]
    },
    {
      "cell_type": "code",
      "metadata": {
        "colab": {
          "base_uri": "https://localhost:8080/",
          "height": 1000
        },
        "id": "1Mk23MDpMIa3",
        "outputId": "9c99c113-f716-4b7f-b62d-c8d6f24db42d"
      },
      "source": [
        "# Compare model 1 and model 2 learning curves\n",
        "plot_learning_curves(['With_Augment', history_1], ['Without_Augment', history_2])"
      ],
      "execution_count": null,
      "outputs": [
        {
          "output_type": "display_data",
          "data": {
            "text/html": [
              "<html>\n",
              "<head><meta charset=\"utf-8\" /></head>\n",
              "<body>\n",
              "    <div>\n",
              "            <script src=\"https://cdnjs.cloudflare.com/ajax/libs/mathjax/2.7.5/MathJax.js?config=TeX-AMS-MML_SVG\"></script><script type=\"text/javascript\">if (window.MathJax) {MathJax.Hub.Config({SVG: {font: \"STIX-Web\"}});}</script>\n",
              "                <script type=\"text/javascript\">window.PlotlyConfig = {MathJaxConfig: 'local'};</script>\n",
              "        <script src=\"https://cdn.plot.ly/plotly-latest.min.js\"></script>    \n",
              "            <div id=\"daadb9cf-2755-4904-bed5-b99416093915\" class=\"plotly-graph-div\" style=\"height:1500px; width:100%;\"></div>\n",
              "            <script type=\"text/javascript\">\n",
              "                \n",
              "                    window.PLOTLYENV=window.PLOTLYENV || {};\n",
              "                    \n",
              "                if (document.getElementById(\"daadb9cf-2755-4904-bed5-b99416093915\")) {\n",
              "                    Plotly.newPlot(\n",
              "                        'daadb9cf-2755-4904-bed5-b99416093915',\n",
              "                        [{\"name\": \"With_Augment train\", \"type\": \"scatter\", \"x\": [1, 2, 3, 4, 5, 6], \"xaxis\": \"x\", \"y\": [0.34735921025276184, 0.08321063220500946, 0.06961040943861008, 0.03386887162923813, 0.01832885853946209, 0.010929263196885586], \"yaxis\": \"y\"}, {\"name\": \"With_Augment val\", \"type\": \"scatter\", \"x\": [1, 2, 3, 4, 5, 6], \"xaxis\": \"x\", \"y\": [0.12846162915229797, 0.11262983083724976, 0.10626493394374847, 0.11498841643333435, 0.1212964728474617, 0.14283983409404755], \"yaxis\": \"y\"}, {\"name\": \"With_Augment train\", \"type\": \"scatter\", \"x\": [1, 2, 3, 4, 5, 6], \"xaxis\": \"x2\", \"y\": [0.9438985586166382, 0.9806656241416931, 0.9844691157341003, 0.9930269122123718, 0.9965134859085083, 0.9974643588066101], \"yaxis\": \"y2\"}, {\"name\": \"With_Augment val\", \"type\": \"scatter\", \"x\": [1, 2, 3, 4, 5, 6], \"xaxis\": \"x2\", \"y\": [0.9847908616065979, 0.9898605942726135, 0.979721188545227, 0.9822559952735901, 0.964512050151825, 0.9860582947731018], \"yaxis\": \"y2\"}, {\"name\": \"With_Augment train\", \"type\": \"scatter\", \"x\": [1, 2, 3, 4, 5, 6], \"xaxis\": \"x3\", \"y\": [0.9003781080245972, 0.9944922924041748, 0.9955270290374756, 0.9991340637207031, 0.999758243560791, 0.999947190284729], \"yaxis\": \"y3\"}, {\"name\": \"With_Augmentval\", \"type\": \"scatter\", \"x\": [1, 2, 3, 4, 5, 6], \"xaxis\": \"x3\", \"y\": [0.9862633347511292, 0.9896132946014404, 0.989229142665863, 0.9857426881790161, 0.9907369613647461, 0.9830192923545837], \"yaxis\": \"y3\"}, {\"name\": \"Without_Augment train\", \"type\": \"scatter\", \"x\": [1, 2, 3, 4, 5, 6, 7, 8, 9], \"xaxis\": \"x\", \"y\": [0.4950444996356964, 0.3119089901447296, 0.27697959542274475, 0.2781538665294647, 0.25607651472091675, 0.24280455708503723, 0.23358875513076782, 0.22771450877189636, 0.2282118797302246], \"yaxis\": \"y\"}, {\"name\": \"Without_Augment val\", \"type\": \"scatter\", \"x\": [1, 2, 3, 4, 5, 6, 7, 8, 9], \"xaxis\": \"x\", \"y\": [0.4570613503456116, 0.31517890095710754, 0.33389946818351746, 0.19963882863521576, 0.24889612197875977, 0.19514873623847961, 0.23772737383842468, 0.19714747369289398, 0.2164422869682312], \"yaxis\": \"y\"}, {\"name\": \"Without_Augment train\", \"type\": \"scatter\", \"x\": [1, 2, 3, 4, 5, 6, 7, 8, 9], \"xaxis\": \"x2\", \"y\": [0.9558823704719543, 0.923296332359314, 0.9277337789535522, 0.935974657535553, 0.9385102987289429, 0.9340729117393494, 0.9385102987289429, 0.9375594258308411, 0.9362915754318237], \"yaxis\": \"y2\"}, {\"name\": \"Without_Augment val\", \"type\": \"scatter\", \"x\": [1, 2, 3, 4, 5, 6, 7, 8, 9], \"xaxis\": \"x2\", \"y\": [0.9822559952735901, 0.9847908616065979, 0.9873257279396057, 0.9531052112579346, 0.9860582947731018, 0.9733840227127075, 0.9340937733650208, 0.9695817232131958, 0.9214195013046265], \"yaxis\": \"y2\"}, {\"name\": \"Without_Augment train\", \"type\": \"scatter\", \"x\": [1, 2, 3, 4, 5, 6, 7, 8, 9], \"xaxis\": \"x3\", \"y\": [0.8375838398933411, 0.9215182662010193, 0.9391224980354309, 0.9395430088043213, 0.9466075301170349, 0.9532250761985779, 0.956075131893158, 0.9577347040176392, 0.957801878452301], \"yaxis\": \"y3\"}, {\"name\": \"Without_Augmentval\", \"type\": \"scatter\", \"x\": [1, 2, 3, 4, 5, 6, 7, 8, 9], \"xaxis\": \"x3\", \"y\": [0.7982859015464783, 0.9302585124969482, 0.9337970018386841, 0.9654731750488281, 0.9686112999916077, 0.9681753516197205, 0.9703074097633362, 0.968222439289093, 0.9753841161727905], \"yaxis\": \"y3\"}],\n",
              "                        {\"annotations\": [{\"font\": {\"size\": 16}, \"showarrow\": false, \"text\": \"Loss\", \"x\": 0.5, \"xanchor\": \"center\", \"xref\": \"paper\", \"y\": 1.0, \"yanchor\": \"bottom\", \"yref\": \"paper\"}, {\"font\": {\"size\": 16}, \"showarrow\": false, \"text\": \"Recall\", \"x\": 0.5, \"xanchor\": \"center\", \"xref\": \"paper\", \"y\": 0.6111111111111112, \"yanchor\": \"bottom\", \"yref\": \"paper\"}, {\"font\": {\"size\": 16}, \"showarrow\": false, \"text\": \"AUC\", \"x\": 0.5, \"xanchor\": \"center\", \"xref\": \"paper\", \"y\": 0.22222222222222224, \"yanchor\": \"bottom\", \"yref\": \"paper\"}], \"height\": 1500, \"template\": {\"data\": {\"bar\": [{\"error_x\": {\"color\": \"#2a3f5f\"}, \"error_y\": {\"color\": \"#2a3f5f\"}, \"marker\": {\"line\": {\"color\": \"#E5ECF6\", \"width\": 0.5}}, \"type\": \"bar\"}], \"barpolar\": [{\"marker\": {\"line\": {\"color\": \"#E5ECF6\", \"width\": 0.5}}, \"type\": \"barpolar\"}], \"carpet\": [{\"aaxis\": {\"endlinecolor\": \"#2a3f5f\", \"gridcolor\": \"white\", \"linecolor\": \"white\", \"minorgridcolor\": \"white\", \"startlinecolor\": \"#2a3f5f\"}, \"baxis\": {\"endlinecolor\": \"#2a3f5f\", \"gridcolor\": \"white\", \"linecolor\": \"white\", \"minorgridcolor\": \"white\", \"startlinecolor\": \"#2a3f5f\"}, \"type\": \"carpet\"}], \"choropleth\": [{\"colorbar\": {\"outlinewidth\": 0, \"ticks\": \"\"}, \"type\": \"choropleth\"}], \"contour\": [{\"colorbar\": {\"outlinewidth\": 0, \"ticks\": \"\"}, \"colorscale\": [[0.0, \"#0d0887\"], [0.1111111111111111, \"#46039f\"], [0.2222222222222222, \"#7201a8\"], [0.3333333333333333, \"#9c179e\"], [0.4444444444444444, \"#bd3786\"], [0.5555555555555556, \"#d8576b\"], [0.6666666666666666, \"#ed7953\"], [0.7777777777777778, \"#fb9f3a\"], [0.8888888888888888, \"#fdca26\"], [1.0, \"#f0f921\"]], \"type\": \"contour\"}], \"contourcarpet\": [{\"colorbar\": {\"outlinewidth\": 0, \"ticks\": \"\"}, \"type\": \"contourcarpet\"}], \"heatmap\": [{\"colorbar\": {\"outlinewidth\": 0, \"ticks\": \"\"}, \"colorscale\": [[0.0, \"#0d0887\"], [0.1111111111111111, \"#46039f\"], [0.2222222222222222, \"#7201a8\"], [0.3333333333333333, \"#9c179e\"], [0.4444444444444444, \"#bd3786\"], [0.5555555555555556, \"#d8576b\"], [0.6666666666666666, \"#ed7953\"], [0.7777777777777778, \"#fb9f3a\"], [0.8888888888888888, \"#fdca26\"], [1.0, \"#f0f921\"]], \"type\": \"heatmap\"}], \"heatmapgl\": [{\"colorbar\": {\"outlinewidth\": 0, \"ticks\": \"\"}, \"colorscale\": [[0.0, \"#0d0887\"], [0.1111111111111111, \"#46039f\"], [0.2222222222222222, \"#7201a8\"], [0.3333333333333333, \"#9c179e\"], [0.4444444444444444, \"#bd3786\"], [0.5555555555555556, \"#d8576b\"], [0.6666666666666666, \"#ed7953\"], [0.7777777777777778, \"#fb9f3a\"], [0.8888888888888888, \"#fdca26\"], [1.0, \"#f0f921\"]], \"type\": \"heatmapgl\"}], \"histogram\": [{\"marker\": {\"colorbar\": {\"outlinewidth\": 0, \"ticks\": \"\"}}, \"type\": \"histogram\"}], \"histogram2d\": [{\"colorbar\": {\"outlinewidth\": 0, \"ticks\": \"\"}, \"colorscale\": [[0.0, \"#0d0887\"], [0.1111111111111111, \"#46039f\"], [0.2222222222222222, \"#7201a8\"], [0.3333333333333333, \"#9c179e\"], [0.4444444444444444, \"#bd3786\"], [0.5555555555555556, \"#d8576b\"], [0.6666666666666666, \"#ed7953\"], [0.7777777777777778, \"#fb9f3a\"], [0.8888888888888888, \"#fdca26\"], [1.0, \"#f0f921\"]], \"type\": \"histogram2d\"}], \"histogram2dcontour\": [{\"colorbar\": {\"outlinewidth\": 0, \"ticks\": \"\"}, \"colorscale\": [[0.0, \"#0d0887\"], [0.1111111111111111, \"#46039f\"], [0.2222222222222222, \"#7201a8\"], [0.3333333333333333, \"#9c179e\"], [0.4444444444444444, \"#bd3786\"], [0.5555555555555556, \"#d8576b\"], [0.6666666666666666, \"#ed7953\"], [0.7777777777777778, \"#fb9f3a\"], [0.8888888888888888, \"#fdca26\"], [1.0, \"#f0f921\"]], \"type\": \"histogram2dcontour\"}], \"mesh3d\": [{\"colorbar\": {\"outlinewidth\": 0, \"ticks\": \"\"}, \"type\": \"mesh3d\"}], \"parcoords\": [{\"line\": {\"colorbar\": {\"outlinewidth\": 0, \"ticks\": \"\"}}, \"type\": \"parcoords\"}], \"pie\": [{\"automargin\": true, \"type\": \"pie\"}], \"scatter\": [{\"marker\": {\"colorbar\": {\"outlinewidth\": 0, \"ticks\": \"\"}}, \"type\": \"scatter\"}], \"scatter3d\": [{\"line\": {\"colorbar\": {\"outlinewidth\": 0, \"ticks\": \"\"}}, \"marker\": {\"colorbar\": {\"outlinewidth\": 0, \"ticks\": \"\"}}, \"type\": \"scatter3d\"}], \"scattercarpet\": [{\"marker\": {\"colorbar\": {\"outlinewidth\": 0, \"ticks\": \"\"}}, \"type\": \"scattercarpet\"}], \"scattergeo\": [{\"marker\": {\"colorbar\": {\"outlinewidth\": 0, \"ticks\": \"\"}}, \"type\": \"scattergeo\"}], \"scattergl\": [{\"marker\": {\"colorbar\": {\"outlinewidth\": 0, \"ticks\": \"\"}}, \"type\": \"scattergl\"}], \"scattermapbox\": [{\"marker\": {\"colorbar\": {\"outlinewidth\": 0, \"ticks\": \"\"}}, \"type\": \"scattermapbox\"}], \"scatterpolar\": [{\"marker\": {\"colorbar\": {\"outlinewidth\": 0, \"ticks\": \"\"}}, \"type\": \"scatterpolar\"}], \"scatterpolargl\": [{\"marker\": {\"colorbar\": {\"outlinewidth\": 0, \"ticks\": \"\"}}, \"type\": \"scatterpolargl\"}], \"scatterternary\": [{\"marker\": {\"colorbar\": {\"outlinewidth\": 0, \"ticks\": \"\"}}, \"type\": \"scatterternary\"}], \"surface\": [{\"colorbar\": {\"outlinewidth\": 0, \"ticks\": \"\"}, \"colorscale\": [[0.0, \"#0d0887\"], [0.1111111111111111, \"#46039f\"], [0.2222222222222222, \"#7201a8\"], [0.3333333333333333, \"#9c179e\"], [0.4444444444444444, \"#bd3786\"], [0.5555555555555556, \"#d8576b\"], [0.6666666666666666, \"#ed7953\"], [0.7777777777777778, \"#fb9f3a\"], [0.8888888888888888, \"#fdca26\"], [1.0, \"#f0f921\"]], \"type\": \"surface\"}], \"table\": [{\"cells\": {\"fill\": {\"color\": \"#EBF0F8\"}, \"line\": {\"color\": \"white\"}}, \"header\": {\"fill\": {\"color\": \"#C8D4E3\"}, \"line\": {\"color\": \"white\"}}, \"type\": \"table\"}]}, \"layout\": {\"annotationdefaults\": {\"arrowcolor\": \"#2a3f5f\", \"arrowhead\": 0, \"arrowwidth\": 1}, \"coloraxis\": {\"colorbar\": {\"outlinewidth\": 0, \"ticks\": \"\"}}, \"colorscale\": {\"diverging\": [[0, \"#8e0152\"], [0.1, \"#c51b7d\"], [0.2, \"#de77ae\"], [0.3, \"#f1b6da\"], [0.4, \"#fde0ef\"], [0.5, \"#f7f7f7\"], [0.6, \"#e6f5d0\"], [0.7, \"#b8e186\"], [0.8, \"#7fbc41\"], [0.9, \"#4d9221\"], [1, \"#276419\"]], \"sequential\": [[0.0, \"#0d0887\"], [0.1111111111111111, \"#46039f\"], [0.2222222222222222, \"#7201a8\"], [0.3333333333333333, \"#9c179e\"], [0.4444444444444444, \"#bd3786\"], [0.5555555555555556, \"#d8576b\"], [0.6666666666666666, \"#ed7953\"], [0.7777777777777778, \"#fb9f3a\"], [0.8888888888888888, \"#fdca26\"], [1.0, \"#f0f921\"]], \"sequentialminus\": [[0.0, \"#0d0887\"], [0.1111111111111111, \"#46039f\"], [0.2222222222222222, \"#7201a8\"], [0.3333333333333333, \"#9c179e\"], [0.4444444444444444, \"#bd3786\"], [0.5555555555555556, \"#d8576b\"], [0.6666666666666666, \"#ed7953\"], [0.7777777777777778, \"#fb9f3a\"], [0.8888888888888888, \"#fdca26\"], [1.0, \"#f0f921\"]]}, \"colorway\": [\"#636efa\", \"#EF553B\", \"#00cc96\", \"#ab63fa\", \"#FFA15A\", \"#19d3f3\", \"#FF6692\", \"#B6E880\", \"#FF97FF\", \"#FECB52\"], \"font\": {\"color\": \"#2a3f5f\"}, \"geo\": {\"bgcolor\": \"white\", \"lakecolor\": \"white\", \"landcolor\": \"#E5ECF6\", \"showlakes\": true, \"showland\": true, \"subunitcolor\": \"white\"}, \"hoverlabel\": {\"align\": \"left\"}, \"hovermode\": \"closest\", \"mapbox\": {\"style\": \"light\"}, \"paper_bgcolor\": \"white\", \"plot_bgcolor\": \"#E5ECF6\", \"polar\": {\"angularaxis\": {\"gridcolor\": \"white\", \"linecolor\": \"white\", \"ticks\": \"\"}, \"bgcolor\": \"#E5ECF6\", \"radialaxis\": {\"gridcolor\": \"white\", \"linecolor\": \"white\", \"ticks\": \"\"}}, \"scene\": {\"xaxis\": {\"backgroundcolor\": \"#E5ECF6\", \"gridcolor\": \"white\", \"gridwidth\": 2, \"linecolor\": \"white\", \"showbackground\": true, \"ticks\": \"\", \"zerolinecolor\": \"white\"}, \"yaxis\": {\"backgroundcolor\": \"#E5ECF6\", \"gridcolor\": \"white\", \"gridwidth\": 2, \"linecolor\": \"white\", \"showbackground\": true, \"ticks\": \"\", \"zerolinecolor\": \"white\"}, \"zaxis\": {\"backgroundcolor\": \"#E5ECF6\", \"gridcolor\": \"white\", \"gridwidth\": 2, \"linecolor\": \"white\", \"showbackground\": true, \"ticks\": \"\", \"zerolinecolor\": \"white\"}}, \"shapedefaults\": {\"line\": {\"color\": \"#2a3f5f\"}}, \"ternary\": {\"aaxis\": {\"gridcolor\": \"white\", \"linecolor\": \"white\", \"ticks\": \"\"}, \"baxis\": {\"gridcolor\": \"white\", \"linecolor\": \"white\", \"ticks\": \"\"}, \"bgcolor\": \"#E5ECF6\", \"caxis\": {\"gridcolor\": \"white\", \"linecolor\": \"white\", \"ticks\": \"\"}}, \"title\": {\"x\": 0.05}, \"xaxis\": {\"automargin\": true, \"gridcolor\": \"white\", \"linecolor\": \"white\", \"ticks\": \"\", \"title\": {\"standoff\": 15}, \"zerolinecolor\": \"white\", \"zerolinewidth\": 2}, \"yaxis\": {\"automargin\": true, \"gridcolor\": \"white\", \"linecolor\": \"white\", \"ticks\": \"\", \"title\": {\"standoff\": 15}, \"zerolinecolor\": \"white\", \"zerolinewidth\": 2}}}, \"title\": {\"text\": \"Learning Curves\"}, \"xaxis\": {\"anchor\": \"y\", \"domain\": [0.0, 1.0], \"title\": {\"text\": \"Epochs\"}}, \"xaxis2\": {\"anchor\": \"y2\", \"domain\": [0.0, 1.0], \"title\": {\"text\": \"Epochs\"}}, \"xaxis3\": {\"anchor\": \"y3\", \"domain\": [0.0, 1.0], \"title\": {\"text\": \"Epochs\"}}, \"yaxis\": {\"anchor\": \"x\", \"domain\": [0.7777777777777778, 1.0], \"title\": {\"text\": \"Loss\"}}, \"yaxis2\": {\"anchor\": \"x2\", \"domain\": [0.3888888888888889, 0.6111111111111112], \"title\": {\"text\": \"Recall\"}}, \"yaxis3\": {\"anchor\": \"x3\", \"domain\": [0.0, 0.22222222222222224], \"title\": {\"text\": \"AUC\"}}},\n",
              "                        {\"responsive\": true}\n",
              "                    ).then(function(){\n",
              "                            \n",
              "var gd = document.getElementById('daadb9cf-2755-4904-bed5-b99416093915');\n",
              "var x = new MutationObserver(function (mutations, observer) {{\n",
              "        var display = window.getComputedStyle(gd).display;\n",
              "        if (!display || display === 'none') {{\n",
              "            console.log([gd, 'removed!']);\n",
              "            Plotly.purge(gd);\n",
              "            observer.disconnect();\n",
              "        }}\n",
              "}});\n",
              "\n",
              "// Listen for the removal of the full notebook cells\n",
              "var notebookContainer = gd.closest('#notebook-container');\n",
              "if (notebookContainer) {{\n",
              "    x.observe(notebookContainer, {childList: true});\n",
              "}}\n",
              "\n",
              "// Listen for the clearing of the current output cell\n",
              "var outputEl = gd.closest('.output');\n",
              "if (outputEl) {{\n",
              "    x.observe(outputEl, {childList: true});\n",
              "}}\n",
              "\n",
              "                        })\n",
              "                };\n",
              "                \n",
              "            </script>\n",
              "        </div>\n",
              "</body>\n",
              "</html>"
            ]
          },
          "metadata": {}
        }
      ]
    },
    {
      "cell_type": "code",
      "metadata": {
        "colab": {
          "base_uri": "https://localhost:8080/",
          "height": 1000
        },
        "id": "wIQMmZSxw3jz",
        "outputId": "304a9ddb-073e-49cd-b5ea-b2e9d003d807"
      },
      "source": [
        "# Look at the better model's learning curves\n",
        "plot_learning_curves(['Model_1', history_1])"
      ],
      "execution_count": null,
      "outputs": [
        {
          "output_type": "display_data",
          "data": {
            "text/html": [
              "<html>\n",
              "<head><meta charset=\"utf-8\" /></head>\n",
              "<body>\n",
              "    <div>\n",
              "            <script src=\"https://cdnjs.cloudflare.com/ajax/libs/mathjax/2.7.5/MathJax.js?config=TeX-AMS-MML_SVG\"></script><script type=\"text/javascript\">if (window.MathJax) {MathJax.Hub.Config({SVG: {font: \"STIX-Web\"}});}</script>\n",
              "                <script type=\"text/javascript\">window.PlotlyConfig = {MathJaxConfig: 'local'};</script>\n",
              "        <script src=\"https://cdn.plot.ly/plotly-latest.min.js\"></script>    \n",
              "            <div id=\"25c44cc0-1999-4c97-8696-8590741b6d27\" class=\"plotly-graph-div\" style=\"height:1500px; width:100%;\"></div>\n",
              "            <script type=\"text/javascript\">\n",
              "                \n",
              "                    window.PLOTLYENV=window.PLOTLYENV || {};\n",
              "                    \n",
              "                if (document.getElementById(\"25c44cc0-1999-4c97-8696-8590741b6d27\")) {\n",
              "                    Plotly.newPlot(\n",
              "                        '25c44cc0-1999-4c97-8696-8590741b6d27',\n",
              "                        [{\"name\": \"Model_1 train\", \"type\": \"scatter\", \"x\": [1, 2, 3, 4, 5, 6], \"xaxis\": \"x\", \"y\": [0.34735921025276184, 0.08321063220500946, 0.06961040943861008, 0.03386887162923813, 0.01832885853946209, 0.010929263196885586], \"yaxis\": \"y\"}, {\"name\": \"Model_1 val\", \"type\": \"scatter\", \"x\": [1, 2, 3, 4, 5, 6], \"xaxis\": \"x\", \"y\": [0.12846162915229797, 0.11262983083724976, 0.10626493394374847, 0.11498841643333435, 0.1212964728474617, 0.14283983409404755], \"yaxis\": \"y\"}, {\"name\": \"Model_1 train\", \"type\": \"scatter\", \"x\": [1, 2, 3, 4, 5, 6], \"xaxis\": \"x2\", \"y\": [0.9438985586166382, 0.9806656241416931, 0.9844691157341003, 0.9930269122123718, 0.9965134859085083, 0.9974643588066101], \"yaxis\": \"y2\"}, {\"name\": \"Model_1 val\", \"type\": \"scatter\", \"x\": [1, 2, 3, 4, 5, 6], \"xaxis\": \"x2\", \"y\": [0.9847908616065979, 0.9898605942726135, 0.979721188545227, 0.9822559952735901, 0.964512050151825, 0.9860582947731018], \"yaxis\": \"y2\"}, {\"name\": \"Model_1 train\", \"type\": \"scatter\", \"x\": [1, 2, 3, 4, 5, 6], \"xaxis\": \"x3\", \"y\": [0.9003781080245972, 0.9944922924041748, 0.9955270290374756, 0.9991340637207031, 0.999758243560791, 0.999947190284729], \"yaxis\": \"y3\"}, {\"name\": \"Model_1val\", \"type\": \"scatter\", \"x\": [1, 2, 3, 4, 5, 6], \"xaxis\": \"x3\", \"y\": [0.9862633347511292, 0.9896132946014404, 0.989229142665863, 0.9857426881790161, 0.9907369613647461, 0.9830192923545837], \"yaxis\": \"y3\"}],\n",
              "                        {\"annotations\": [{\"font\": {\"size\": 16}, \"showarrow\": false, \"text\": \"Loss\", \"x\": 0.5, \"xanchor\": \"center\", \"xref\": \"paper\", \"y\": 1.0, \"yanchor\": \"bottom\", \"yref\": \"paper\"}, {\"font\": {\"size\": 16}, \"showarrow\": false, \"text\": \"Recall\", \"x\": 0.5, \"xanchor\": \"center\", \"xref\": \"paper\", \"y\": 0.6111111111111112, \"yanchor\": \"bottom\", \"yref\": \"paper\"}, {\"font\": {\"size\": 16}, \"showarrow\": false, \"text\": \"AUC\", \"x\": 0.5, \"xanchor\": \"center\", \"xref\": \"paper\", \"y\": 0.22222222222222224, \"yanchor\": \"bottom\", \"yref\": \"paper\"}], \"height\": 1500, \"template\": {\"data\": {\"bar\": [{\"error_x\": {\"color\": \"#2a3f5f\"}, \"error_y\": {\"color\": \"#2a3f5f\"}, \"marker\": {\"line\": {\"color\": \"#E5ECF6\", \"width\": 0.5}}, \"type\": \"bar\"}], \"barpolar\": [{\"marker\": {\"line\": {\"color\": \"#E5ECF6\", \"width\": 0.5}}, \"type\": \"barpolar\"}], \"carpet\": [{\"aaxis\": {\"endlinecolor\": \"#2a3f5f\", \"gridcolor\": \"white\", \"linecolor\": \"white\", \"minorgridcolor\": \"white\", \"startlinecolor\": \"#2a3f5f\"}, \"baxis\": {\"endlinecolor\": \"#2a3f5f\", \"gridcolor\": \"white\", \"linecolor\": \"white\", \"minorgridcolor\": \"white\", \"startlinecolor\": \"#2a3f5f\"}, \"type\": \"carpet\"}], \"choropleth\": [{\"colorbar\": {\"outlinewidth\": 0, \"ticks\": \"\"}, \"type\": \"choropleth\"}], \"contour\": [{\"colorbar\": {\"outlinewidth\": 0, \"ticks\": \"\"}, \"colorscale\": [[0.0, \"#0d0887\"], [0.1111111111111111, \"#46039f\"], [0.2222222222222222, \"#7201a8\"], [0.3333333333333333, \"#9c179e\"], [0.4444444444444444, \"#bd3786\"], [0.5555555555555556, \"#d8576b\"], [0.6666666666666666, \"#ed7953\"], [0.7777777777777778, \"#fb9f3a\"], [0.8888888888888888, \"#fdca26\"], [1.0, \"#f0f921\"]], \"type\": \"contour\"}], \"contourcarpet\": [{\"colorbar\": {\"outlinewidth\": 0, \"ticks\": \"\"}, \"type\": \"contourcarpet\"}], \"heatmap\": [{\"colorbar\": {\"outlinewidth\": 0, \"ticks\": \"\"}, \"colorscale\": [[0.0, \"#0d0887\"], [0.1111111111111111, \"#46039f\"], [0.2222222222222222, \"#7201a8\"], [0.3333333333333333, \"#9c179e\"], [0.4444444444444444, \"#bd3786\"], [0.5555555555555556, \"#d8576b\"], [0.6666666666666666, \"#ed7953\"], [0.7777777777777778, \"#fb9f3a\"], [0.8888888888888888, \"#fdca26\"], [1.0, \"#f0f921\"]], \"type\": \"heatmap\"}], \"heatmapgl\": [{\"colorbar\": {\"outlinewidth\": 0, \"ticks\": \"\"}, \"colorscale\": [[0.0, \"#0d0887\"], [0.1111111111111111, \"#46039f\"], [0.2222222222222222, \"#7201a8\"], [0.3333333333333333, \"#9c179e\"], [0.4444444444444444, \"#bd3786\"], [0.5555555555555556, \"#d8576b\"], [0.6666666666666666, \"#ed7953\"], [0.7777777777777778, \"#fb9f3a\"], [0.8888888888888888, \"#fdca26\"], [1.0, \"#f0f921\"]], \"type\": \"heatmapgl\"}], \"histogram\": [{\"marker\": {\"colorbar\": {\"outlinewidth\": 0, \"ticks\": \"\"}}, \"type\": \"histogram\"}], \"histogram2d\": [{\"colorbar\": {\"outlinewidth\": 0, \"ticks\": \"\"}, \"colorscale\": [[0.0, \"#0d0887\"], [0.1111111111111111, \"#46039f\"], [0.2222222222222222, \"#7201a8\"], [0.3333333333333333, \"#9c179e\"], [0.4444444444444444, \"#bd3786\"], [0.5555555555555556, \"#d8576b\"], [0.6666666666666666, \"#ed7953\"], [0.7777777777777778, \"#fb9f3a\"], [0.8888888888888888, \"#fdca26\"], [1.0, \"#f0f921\"]], \"type\": \"histogram2d\"}], \"histogram2dcontour\": [{\"colorbar\": {\"outlinewidth\": 0, \"ticks\": \"\"}, \"colorscale\": [[0.0, \"#0d0887\"], [0.1111111111111111, \"#46039f\"], [0.2222222222222222, \"#7201a8\"], [0.3333333333333333, \"#9c179e\"], [0.4444444444444444, \"#bd3786\"], [0.5555555555555556, \"#d8576b\"], [0.6666666666666666, \"#ed7953\"], [0.7777777777777778, \"#fb9f3a\"], [0.8888888888888888, \"#fdca26\"], [1.0, \"#f0f921\"]], \"type\": \"histogram2dcontour\"}], \"mesh3d\": [{\"colorbar\": {\"outlinewidth\": 0, \"ticks\": \"\"}, \"type\": \"mesh3d\"}], \"parcoords\": [{\"line\": {\"colorbar\": {\"outlinewidth\": 0, \"ticks\": \"\"}}, \"type\": \"parcoords\"}], \"pie\": [{\"automargin\": true, \"type\": \"pie\"}], \"scatter\": [{\"marker\": {\"colorbar\": {\"outlinewidth\": 0, \"ticks\": \"\"}}, \"type\": \"scatter\"}], \"scatter3d\": [{\"line\": {\"colorbar\": {\"outlinewidth\": 0, \"ticks\": \"\"}}, \"marker\": {\"colorbar\": {\"outlinewidth\": 0, \"ticks\": \"\"}}, \"type\": \"scatter3d\"}], \"scattercarpet\": [{\"marker\": {\"colorbar\": {\"outlinewidth\": 0, \"ticks\": \"\"}}, \"type\": \"scattercarpet\"}], \"scattergeo\": [{\"marker\": {\"colorbar\": {\"outlinewidth\": 0, \"ticks\": \"\"}}, \"type\": \"scattergeo\"}], \"scattergl\": [{\"marker\": {\"colorbar\": {\"outlinewidth\": 0, \"ticks\": \"\"}}, \"type\": \"scattergl\"}], \"scattermapbox\": [{\"marker\": {\"colorbar\": {\"outlinewidth\": 0, \"ticks\": \"\"}}, \"type\": \"scattermapbox\"}], \"scatterpolar\": [{\"marker\": {\"colorbar\": {\"outlinewidth\": 0, \"ticks\": \"\"}}, \"type\": \"scatterpolar\"}], \"scatterpolargl\": [{\"marker\": {\"colorbar\": {\"outlinewidth\": 0, \"ticks\": \"\"}}, \"type\": \"scatterpolargl\"}], \"scatterternary\": [{\"marker\": {\"colorbar\": {\"outlinewidth\": 0, \"ticks\": \"\"}}, \"type\": \"scatterternary\"}], \"surface\": [{\"colorbar\": {\"outlinewidth\": 0, \"ticks\": \"\"}, \"colorscale\": [[0.0, \"#0d0887\"], [0.1111111111111111, \"#46039f\"], [0.2222222222222222, \"#7201a8\"], [0.3333333333333333, \"#9c179e\"], [0.4444444444444444, \"#bd3786\"], [0.5555555555555556, \"#d8576b\"], [0.6666666666666666, \"#ed7953\"], [0.7777777777777778, \"#fb9f3a\"], [0.8888888888888888, \"#fdca26\"], [1.0, \"#f0f921\"]], \"type\": \"surface\"}], \"table\": [{\"cells\": {\"fill\": {\"color\": \"#EBF0F8\"}, \"line\": {\"color\": \"white\"}}, \"header\": {\"fill\": {\"color\": \"#C8D4E3\"}, \"line\": {\"color\": \"white\"}}, \"type\": \"table\"}]}, \"layout\": {\"annotationdefaults\": {\"arrowcolor\": \"#2a3f5f\", \"arrowhead\": 0, \"arrowwidth\": 1}, \"coloraxis\": {\"colorbar\": {\"outlinewidth\": 0, \"ticks\": \"\"}}, \"colorscale\": {\"diverging\": [[0, \"#8e0152\"], [0.1, \"#c51b7d\"], [0.2, \"#de77ae\"], [0.3, \"#f1b6da\"], [0.4, \"#fde0ef\"], [0.5, \"#f7f7f7\"], [0.6, \"#e6f5d0\"], [0.7, \"#b8e186\"], [0.8, \"#7fbc41\"], [0.9, \"#4d9221\"], [1, \"#276419\"]], \"sequential\": [[0.0, \"#0d0887\"], [0.1111111111111111, \"#46039f\"], [0.2222222222222222, \"#7201a8\"], [0.3333333333333333, \"#9c179e\"], [0.4444444444444444, \"#bd3786\"], [0.5555555555555556, \"#d8576b\"], [0.6666666666666666, \"#ed7953\"], [0.7777777777777778, \"#fb9f3a\"], [0.8888888888888888, \"#fdca26\"], [1.0, \"#f0f921\"]], \"sequentialminus\": [[0.0, \"#0d0887\"], [0.1111111111111111, \"#46039f\"], [0.2222222222222222, \"#7201a8\"], [0.3333333333333333, \"#9c179e\"], [0.4444444444444444, \"#bd3786\"], [0.5555555555555556, \"#d8576b\"], [0.6666666666666666, \"#ed7953\"], [0.7777777777777778, \"#fb9f3a\"], [0.8888888888888888, \"#fdca26\"], [1.0, \"#f0f921\"]]}, \"colorway\": [\"#636efa\", \"#EF553B\", \"#00cc96\", \"#ab63fa\", \"#FFA15A\", \"#19d3f3\", \"#FF6692\", \"#B6E880\", \"#FF97FF\", \"#FECB52\"], \"font\": {\"color\": \"#2a3f5f\"}, \"geo\": {\"bgcolor\": \"white\", \"lakecolor\": \"white\", \"landcolor\": \"#E5ECF6\", \"showlakes\": true, \"showland\": true, \"subunitcolor\": \"white\"}, \"hoverlabel\": {\"align\": \"left\"}, \"hovermode\": \"closest\", \"mapbox\": {\"style\": \"light\"}, \"paper_bgcolor\": \"white\", \"plot_bgcolor\": \"#E5ECF6\", \"polar\": {\"angularaxis\": {\"gridcolor\": \"white\", \"linecolor\": \"white\", \"ticks\": \"\"}, \"bgcolor\": \"#E5ECF6\", \"radialaxis\": {\"gridcolor\": \"white\", \"linecolor\": \"white\", \"ticks\": \"\"}}, \"scene\": {\"xaxis\": {\"backgroundcolor\": \"#E5ECF6\", \"gridcolor\": \"white\", \"gridwidth\": 2, \"linecolor\": \"white\", \"showbackground\": true, \"ticks\": \"\", \"zerolinecolor\": \"white\"}, \"yaxis\": {\"backgroundcolor\": \"#E5ECF6\", \"gridcolor\": \"white\", \"gridwidth\": 2, \"linecolor\": \"white\", \"showbackground\": true, \"ticks\": \"\", \"zerolinecolor\": \"white\"}, \"zaxis\": {\"backgroundcolor\": \"#E5ECF6\", \"gridcolor\": \"white\", \"gridwidth\": 2, \"linecolor\": \"white\", \"showbackground\": true, \"ticks\": \"\", \"zerolinecolor\": \"white\"}}, \"shapedefaults\": {\"line\": {\"color\": \"#2a3f5f\"}}, \"ternary\": {\"aaxis\": {\"gridcolor\": \"white\", \"linecolor\": \"white\", \"ticks\": \"\"}, \"baxis\": {\"gridcolor\": \"white\", \"linecolor\": \"white\", \"ticks\": \"\"}, \"bgcolor\": \"#E5ECF6\", \"caxis\": {\"gridcolor\": \"white\", \"linecolor\": \"white\", \"ticks\": \"\"}}, \"title\": {\"x\": 0.05}, \"xaxis\": {\"automargin\": true, \"gridcolor\": \"white\", \"linecolor\": \"white\", \"ticks\": \"\", \"title\": {\"standoff\": 15}, \"zerolinecolor\": \"white\", \"zerolinewidth\": 2}, \"yaxis\": {\"automargin\": true, \"gridcolor\": \"white\", \"linecolor\": \"white\", \"ticks\": \"\", \"title\": {\"standoff\": 15}, \"zerolinecolor\": \"white\", \"zerolinewidth\": 2}}}, \"title\": {\"text\": \"Learning Curves\"}, \"xaxis\": {\"anchor\": \"y\", \"domain\": [0.0, 1.0], \"title\": {\"text\": \"Epochs\"}}, \"xaxis2\": {\"anchor\": \"y2\", \"domain\": [0.0, 1.0], \"title\": {\"text\": \"Epochs\"}}, \"xaxis3\": {\"anchor\": \"y3\", \"domain\": [0.0, 1.0], \"title\": {\"text\": \"Epochs\"}}, \"yaxis\": {\"anchor\": \"x\", \"domain\": [0.7777777777777778, 1.0], \"title\": {\"text\": \"Loss\"}}, \"yaxis2\": {\"anchor\": \"x2\", \"domain\": [0.3888888888888889, 0.6111111111111112], \"title\": {\"text\": \"Recall\"}}, \"yaxis3\": {\"anchor\": \"x3\", \"domain\": [0.0, 0.22222222222222224], \"title\": {\"text\": \"AUC\"}}},\n",
              "                        {\"responsive\": true}\n",
              "                    ).then(function(){\n",
              "                            \n",
              "var gd = document.getElementById('25c44cc0-1999-4c97-8696-8590741b6d27');\n",
              "var x = new MutationObserver(function (mutations, observer) {{\n",
              "        var display = window.getComputedStyle(gd).display;\n",
              "        if (!display || display === 'none') {{\n",
              "            console.log([gd, 'removed!']);\n",
              "            Plotly.purge(gd);\n",
              "            observer.disconnect();\n",
              "        }}\n",
              "}});\n",
              "\n",
              "// Listen for the removal of the full notebook cells\n",
              "var notebookContainer = gd.closest('#notebook-container');\n",
              "if (notebookContainer) {{\n",
              "    x.observe(notebookContainer, {childList: true});\n",
              "}}\n",
              "\n",
              "// Listen for the clearing of the current output cell\n",
              "var outputEl = gd.closest('.output');\n",
              "if (outputEl) {{\n",
              "    x.observe(outputEl, {childList: true});\n",
              "}}\n",
              "\n",
              "                        })\n",
              "                };\n",
              "                \n",
              "            </script>\n",
              "        </div>\n",
              "</body>\n",
              "</html>"
            ]
          },
          "metadata": {}
        }
      ]
    },
    {
      "cell_type": "markdown",
      "metadata": {
        "id": "6Z7k9-nYkvXh"
      },
      "source": [
        "It looks like our model trained on non-augmented data performed better. Let's evaluate it further."
      ]
    },
    {
      "cell_type": "code",
      "metadata": {
        "colab": {
          "base_uri": "https://localhost:8080/",
          "height": 542
        },
        "id": "NmCfYOlnyS7A",
        "outputId": "db53a259-2a26-4d1e-c04a-ba8d978e883f"
      },
      "source": [
        "predict_valid_gs.reset()\n",
        "pred = model_1.predict(predict_valid_gs)\n",
        "\n",
        "predict_valid_gs.reset()\n",
        "pred_2 = model_2.predict(predict_valid_gs)\n",
        "\n",
        "y_true = [0 if x == 'Normal' else 1 for x in valid_data['Label']]\n",
        "\n",
        "plot_roc_curve(['Model_1', y_true, pred], ['Model_2', y_true, pred_2])"
      ],
      "execution_count": null,
      "outputs": [
        {
          "output_type": "display_data",
          "data": {
            "text/html": [
              "<html>\n",
              "<head><meta charset=\"utf-8\" /></head>\n",
              "<body>\n",
              "    <div>\n",
              "            <script src=\"https://cdnjs.cloudflare.com/ajax/libs/mathjax/2.7.5/MathJax.js?config=TeX-AMS-MML_SVG\"></script><script type=\"text/javascript\">if (window.MathJax) {MathJax.Hub.Config({SVG: {font: \"STIX-Web\"}});}</script>\n",
              "                <script type=\"text/javascript\">window.PlotlyConfig = {MathJaxConfig: 'local'};</script>\n",
              "        <script src=\"https://cdn.plot.ly/plotly-latest.min.js\"></script>    \n",
              "            <div id=\"6f560164-7c12-4a52-bd18-59eae72590f5\" class=\"plotly-graph-div\" style=\"height:525px; width:100%;\"></div>\n",
              "            <script type=\"text/javascript\">\n",
              "                \n",
              "                    window.PLOTLYENV=window.PLOTLYENV || {};\n",
              "                    \n",
              "                if (document.getElementById(\"6f560164-7c12-4a52-bd18-59eae72590f5\")) {\n",
              "                    Plotly.newPlot(\n",
              "                        '6f560164-7c12-4a52-bd18-59eae72590f5',\n",
              "                        [{\"name\": \"Model_1\", \"type\": \"scatter\", \"x\": [0.0, 0.0, 0.0, 0.0, 0.0, 0.0, 0.0, 0.0, 0.0, 0.0, 0.0, 0.0, 0.0, 0.0, 0.0, 0.0, 0.0, 0.0, 0.0, 0.0, 0.0, 0.0, 0.0, 0.0, 0.0, 0.0, 0.0, 0.0, 0.0, 0.0, 0.0, 0.0, 0.0, 0.0, 0.0, 0.0, 0.0, 0.0, 0.0, 0.0, 0.0, 0.0, 0.0, 0.0, 0.0, 0.0, 0.0, 0.0, 0.0, 0.0, 0.0, 0.0, 0.0, 0.0, 0.0, 0.0, 0.0, 0.0, 0.0, 0.0, 0.0, 0.0, 0.0, 0.0, 0.0, 0.0, 0.0, 0.0, 0.0, 0.0, 0.0, 0.0, 0.0, 0.0, 0.0037174721189591076, 0.0037174721189591076, 0.0037174721189591076, 0.0037174721189591076, 0.0037174721189591076, 0.0037174721189591076, 0.0037174721189591076, 0.0037174721189591076, 0.0037174721189591076, 0.0037174721189591076, 0.0037174721189591076, 0.0037174721189591076, 0.0037174721189591076, 0.0037174721189591076, 0.007434944237918215, 0.007434944237918215, 0.011152416356877323, 0.011152416356877323, 0.01486988847583643, 0.01486988847583643, 0.022304832713754646, 0.022304832713754646, 0.026022304832713755, 0.026022304832713755, 0.02973977695167286, 0.02973977695167286, 0.03717472118959108, 0.03717472118959108, 0.04460966542750929, 0.04460966542750929, 0.048327137546468404, 0.048327137546468404, 0.055762081784386616, 0.055762081784386616, 0.05947955390334572, 0.05947955390334572, 0.06691449814126393, 0.06691449814126393, 0.07063197026022305, 0.07063197026022305, 0.07434944237918216, 0.07434944237918216, 0.08178438661710037, 0.08178438661710037, 0.10037174721189591, 0.10037174721189591, 0.10408921933085502, 0.10408921933085502, 0.10780669144981413, 0.10780669144981413, 0.1412639405204461, 0.1412639405204461, 0.19330855018587362, 0.19330855018587362, 0.22304832713754646, 0.22304832713754646, 0.23048327137546468, 0.23048327137546468, 0.30855018587360594, 0.30855018587360594, 0.3828996282527881, 0.3828996282527881, 0.5353159851301115, 0.5353159851301115, 0.7026022304832714, 0.7026022304832714, 1.0], \"y\": [0.0, 0.048162230671736375, 0.07351077313054499, 0.09505703422053231, 0.11533586818757921, 0.1432192648922687, 0.15082382762991128, 0.1520912547528517, 0.1596958174904943, 0.1634980988593156, 0.17237008871989862, 0.1761723700887199, 0.17870722433460076, 0.1850443599493029, 0.18631178707224336, 0.19011406844106463, 0.1926489226869455, 0.19518377693282637, 0.19771863117870722, 0.20152091254752852, 0.20405576679340937, 0.21166032953105196, 0.21419518377693283, 0.21799746514575413, 0.22306717363751585, 0.22686945500633712, 0.23193916349809887, 0.2332065906210393, 0.23827629911280102, 0.23954372623574144, 0.24461343472750316, 0.2458808618504436, 0.24841571609632446, 0.24968314321926488, 0.2522179974651457, 0.2585551330798479, 0.2623574144486692, 0.26489226869455007, 0.27249683143219267, 0.2750316856780735, 0.27756653992395436, 0.2826362484157161, 0.2953105196451204, 0.2991128010139417, 0.302915082382763, 0.30544993662864384, 0.30671736375158426, 0.30925221799746516, 0.311787072243346, 0.31432192648922685, 0.31685678073510776, 0.3269961977186312, 0.3282636248415716, 0.33079847908745247, 0.33460076045627374, 0.33840304182509506, 0.34474017743979724, 0.3472750316856781, 0.35107731305449935, 0.3561470215462611, 0.35994930291508237, 0.36628643852978454, 0.3700887198986058, 0.37389100126742714, 0.376425855513308, 0.37896070975918883, 0.38149556400506973, 0.38276299112801015, 0.385297845373891, 0.38910012674271227, 0.3916349809885932, 0.39543726235741444, 0.3979721166032953, 0.4055766793409379, 0.4055766793409379, 0.4220532319391635, 0.42458808618504434, 0.43219264892268694, 0.4347275031685678, 0.44866920152091255, 0.4524714828897338, 0.5158428390367554, 0.5183776932826363, 0.541191381495564, 0.5437262357414449, 0.6983523447401775, 0.7008871989860583, 0.7845373891001267, 0.7845373891001267, 0.9036755386565273, 0.9036755386565273, 0.9214195183776933, 0.9214195183776933, 0.9378960709759189, 0.9378960709759189, 0.9391634980988594, 0.9391634980988594, 0.9493029150823827, 0.9493029150823827, 0.9645120405576679, 0.9645120405576679, 0.9657794676806084, 0.9657794676806084, 0.9708491761723701, 0.9708491761723701, 0.9721166032953105, 0.9721166032953105, 0.9759188846641318, 0.9759188846641318, 0.9771863117870723, 0.9771863117870723, 0.9809885931558935, 0.9809885931558935, 0.982256020278834, 0.982256020278834, 0.9835234474017744, 0.9835234474017744, 0.9847908745247148, 0.9847908745247148, 0.9860583016476553, 0.9860583016476553, 0.9873257287705957, 0.9873257287705957, 0.9885931558935361, 0.9885931558935361, 0.9898605830164765, 0.9898605830164765, 0.991128010139417, 0.991128010139417, 0.9936628643852978, 0.9936628643852978, 0.9949302915082383, 0.9949302915082383, 0.9961977186311787, 0.9961977186311787, 0.9974651457541192, 0.9974651457541192, 0.9987325728770595, 0.9987325728770595, 1.0, 1.0]}, {\"name\": \"Model_2\", \"type\": \"scatter\", \"x\": [0.0, 0.0, 0.0, 0.0037174721189591076, 0.0037174721189591076, 0.007434944237918215, 0.007434944237918215, 0.011152416356877323, 0.011152416356877323, 0.01486988847583643, 0.01486988847583643, 0.01858736059479554, 0.01858736059479554, 0.022304832713754646, 0.022304832713754646, 0.026022304832713755, 0.026022304832713755, 0.02973977695167286, 0.02973977695167286, 0.03345724907063197, 0.03345724907063197, 0.03717472118959108, 0.03717472118959108, 0.040892193308550186, 0.040892193308550186, 0.04460966542750929, 0.04460966542750929, 0.048327137546468404, 0.048327137546468404, 0.055762081784386616, 0.055762081784386616, 0.05947955390334572, 0.05947955390334572, 0.06319702602230483, 0.06319702602230483, 0.06691449814126393, 0.06691449814126393, 0.07063197026022305, 0.07063197026022305, 0.07434944237918216, 0.07434944237918216, 0.07806691449814127, 0.07806691449814127, 0.09665427509293681, 0.09665427509293681, 0.10037174721189591, 0.10037174721189591, 0.10408921933085502, 0.10408921933085502, 0.11152416356877323, 0.11152416356877323, 0.11895910780669144, 0.11895910780669144, 0.13011152416356878, 0.13011152416356878, 0.137546468401487, 0.137546468401487, 0.1412639405204461, 0.1412639405204461, 0.15613382899628253, 0.15613382899628253, 0.16356877323420074, 0.16356877323420074, 0.1970260223048327, 0.1970260223048327, 0.20446096654275092, 0.20446096654275092, 0.241635687732342, 0.241635687732342, 0.2936802973977695, 0.2936802973977695, 0.31226765799256506, 0.31226765799256506, 0.31970260223048325, 0.31970260223048325, 0.34944237918215615, 0.34944237918215615, 0.42379182156133827, 0.42379182156133827, 0.46096654275092935, 0.46096654275092935, 0.516728624535316, 0.516728624535316, 0.5836431226765799, 0.5836431226765799, 0.6059479553903345, 0.6059479553903345, 0.620817843866171, 0.620817843866171, 0.7509293680297398, 0.7509293680297398, 0.7546468401486989, 0.7546468401486989, 0.7881040892193308, 0.7881040892193308, 0.8475836431226765, 0.8475836431226765, 0.9182156133828996, 0.9182156133828996, 1.0], \"y\": [0.0, 0.0012674271229404308, 0.07604562737642585, 0.07604562737642585, 0.26996197718631176, 0.26996197718631176, 0.4752851711026616, 0.4752851711026616, 0.4816223067173637, 0.4816223067173637, 0.6552598225602028, 0.6552598225602028, 0.6615969581749049, 0.6615969581749049, 0.6628643852978454, 0.6628643852978454, 0.6780735107731305, 0.6780735107731305, 0.7832699619771863, 0.7832699619771863, 0.8732572877059569, 0.8732572877059569, 0.8846641318124208, 0.8846641318124208, 0.9163498098859315, 0.9163498098859315, 0.9201520912547528, 0.9201520912547528, 0.9226869455006337, 0.9226869455006337, 0.9239543726235742, 0.9239543726235742, 0.9290240811153359, 0.9290240811153359, 0.9315589353612167, 0.9315589353612167, 0.9328263624841572, 0.9328263624841572, 0.9404309252217997, 0.9404309252217997, 0.9531051964512041, 0.9531051964512041, 0.9556400506970849, 0.9556400506970849, 0.9569074778200254, 0.9569074778200254, 0.9594423320659062, 0.9594423320659062, 0.9607097591888466, 0.9607097591888466, 0.9632446134347274, 0.9632446134347274, 0.9645120405576679, 0.9645120405576679, 0.9657794676806084, 0.9657794676806084, 0.9670468948035488, 0.9670468948035488, 0.9683143219264893, 0.9683143219264893, 0.9708491761723701, 0.9708491761723701, 0.973384030418251, 0.973384030418251, 0.9746514575411914, 0.9746514575411914, 0.9759188846641318, 0.9759188846641318, 0.9771863117870723, 0.9771863117870723, 0.9784537389100126, 0.9784537389100126, 0.9797211660329531, 0.9797211660329531, 0.982256020278834, 0.982256020278834, 0.9835234474017744, 0.9835234474017744, 0.9847908745247148, 0.9847908745247148, 0.9860583016476553, 0.9860583016476553, 0.9898605830164765, 0.9898605830164765, 0.991128010139417, 0.991128010139417, 0.9923954372623575, 0.9923954372623575, 0.9936628643852978, 0.9936628643852978, 0.9949302915082383, 0.9949302915082383, 0.9961977186311787, 0.9961977186311787, 0.9974651457541192, 0.9974651457541192, 0.9987325728770595, 0.9987325728770595, 1.0, 1.0]}],\n",
              "                        {\"template\": {\"data\": {\"bar\": [{\"error_x\": {\"color\": \"#2a3f5f\"}, \"error_y\": {\"color\": \"#2a3f5f\"}, \"marker\": {\"line\": {\"color\": \"#E5ECF6\", \"width\": 0.5}}, \"type\": \"bar\"}], \"barpolar\": [{\"marker\": {\"line\": {\"color\": \"#E5ECF6\", \"width\": 0.5}}, \"type\": \"barpolar\"}], \"carpet\": [{\"aaxis\": {\"endlinecolor\": \"#2a3f5f\", \"gridcolor\": \"white\", \"linecolor\": \"white\", \"minorgridcolor\": \"white\", \"startlinecolor\": \"#2a3f5f\"}, \"baxis\": {\"endlinecolor\": \"#2a3f5f\", \"gridcolor\": \"white\", \"linecolor\": \"white\", \"minorgridcolor\": \"white\", \"startlinecolor\": \"#2a3f5f\"}, \"type\": \"carpet\"}], \"choropleth\": [{\"colorbar\": {\"outlinewidth\": 0, \"ticks\": \"\"}, \"type\": \"choropleth\"}], \"contour\": [{\"colorbar\": {\"outlinewidth\": 0, \"ticks\": \"\"}, \"colorscale\": [[0.0, \"#0d0887\"], [0.1111111111111111, \"#46039f\"], [0.2222222222222222, \"#7201a8\"], [0.3333333333333333, \"#9c179e\"], [0.4444444444444444, \"#bd3786\"], [0.5555555555555556, \"#d8576b\"], [0.6666666666666666, \"#ed7953\"], [0.7777777777777778, \"#fb9f3a\"], [0.8888888888888888, \"#fdca26\"], [1.0, \"#f0f921\"]], \"type\": \"contour\"}], \"contourcarpet\": [{\"colorbar\": {\"outlinewidth\": 0, \"ticks\": \"\"}, \"type\": \"contourcarpet\"}], \"heatmap\": [{\"colorbar\": {\"outlinewidth\": 0, \"ticks\": \"\"}, \"colorscale\": [[0.0, \"#0d0887\"], [0.1111111111111111, \"#46039f\"], [0.2222222222222222, \"#7201a8\"], [0.3333333333333333, \"#9c179e\"], [0.4444444444444444, \"#bd3786\"], [0.5555555555555556, \"#d8576b\"], [0.6666666666666666, \"#ed7953\"], [0.7777777777777778, \"#fb9f3a\"], [0.8888888888888888, \"#fdca26\"], [1.0, \"#f0f921\"]], \"type\": \"heatmap\"}], \"heatmapgl\": [{\"colorbar\": {\"outlinewidth\": 0, \"ticks\": \"\"}, \"colorscale\": [[0.0, \"#0d0887\"], [0.1111111111111111, \"#46039f\"], [0.2222222222222222, \"#7201a8\"], [0.3333333333333333, \"#9c179e\"], [0.4444444444444444, \"#bd3786\"], [0.5555555555555556, \"#d8576b\"], [0.6666666666666666, \"#ed7953\"], [0.7777777777777778, \"#fb9f3a\"], [0.8888888888888888, \"#fdca26\"], [1.0, \"#f0f921\"]], \"type\": \"heatmapgl\"}], \"histogram\": [{\"marker\": {\"colorbar\": {\"outlinewidth\": 0, \"ticks\": \"\"}}, \"type\": \"histogram\"}], \"histogram2d\": [{\"colorbar\": {\"outlinewidth\": 0, \"ticks\": \"\"}, \"colorscale\": [[0.0, \"#0d0887\"], [0.1111111111111111, \"#46039f\"], [0.2222222222222222, \"#7201a8\"], [0.3333333333333333, \"#9c179e\"], [0.4444444444444444, \"#bd3786\"], [0.5555555555555556, \"#d8576b\"], [0.6666666666666666, \"#ed7953\"], [0.7777777777777778, \"#fb9f3a\"], [0.8888888888888888, \"#fdca26\"], [1.0, \"#f0f921\"]], \"type\": \"histogram2d\"}], \"histogram2dcontour\": [{\"colorbar\": {\"outlinewidth\": 0, \"ticks\": \"\"}, \"colorscale\": [[0.0, \"#0d0887\"], [0.1111111111111111, \"#46039f\"], [0.2222222222222222, \"#7201a8\"], [0.3333333333333333, \"#9c179e\"], [0.4444444444444444, \"#bd3786\"], [0.5555555555555556, \"#d8576b\"], [0.6666666666666666, \"#ed7953\"], [0.7777777777777778, \"#fb9f3a\"], [0.8888888888888888, \"#fdca26\"], [1.0, \"#f0f921\"]], \"type\": \"histogram2dcontour\"}], \"mesh3d\": [{\"colorbar\": {\"outlinewidth\": 0, \"ticks\": \"\"}, \"type\": \"mesh3d\"}], \"parcoords\": [{\"line\": {\"colorbar\": {\"outlinewidth\": 0, \"ticks\": \"\"}}, \"type\": \"parcoords\"}], \"pie\": [{\"automargin\": true, \"type\": \"pie\"}], \"scatter\": [{\"marker\": {\"colorbar\": {\"outlinewidth\": 0, \"ticks\": \"\"}}, \"type\": \"scatter\"}], \"scatter3d\": [{\"line\": {\"colorbar\": {\"outlinewidth\": 0, \"ticks\": \"\"}}, \"marker\": {\"colorbar\": {\"outlinewidth\": 0, \"ticks\": \"\"}}, \"type\": \"scatter3d\"}], \"scattercarpet\": [{\"marker\": {\"colorbar\": {\"outlinewidth\": 0, \"ticks\": \"\"}}, \"type\": \"scattercarpet\"}], \"scattergeo\": [{\"marker\": {\"colorbar\": {\"outlinewidth\": 0, \"ticks\": \"\"}}, \"type\": \"scattergeo\"}], \"scattergl\": [{\"marker\": {\"colorbar\": {\"outlinewidth\": 0, \"ticks\": \"\"}}, \"type\": \"scattergl\"}], \"scattermapbox\": [{\"marker\": {\"colorbar\": {\"outlinewidth\": 0, \"ticks\": \"\"}}, \"type\": \"scattermapbox\"}], \"scatterpolar\": [{\"marker\": {\"colorbar\": {\"outlinewidth\": 0, \"ticks\": \"\"}}, \"type\": \"scatterpolar\"}], \"scatterpolargl\": [{\"marker\": {\"colorbar\": {\"outlinewidth\": 0, \"ticks\": \"\"}}, \"type\": \"scatterpolargl\"}], \"scatterternary\": [{\"marker\": {\"colorbar\": {\"outlinewidth\": 0, \"ticks\": \"\"}}, \"type\": \"scatterternary\"}], \"surface\": [{\"colorbar\": {\"outlinewidth\": 0, \"ticks\": \"\"}, \"colorscale\": [[0.0, \"#0d0887\"], [0.1111111111111111, \"#46039f\"], [0.2222222222222222, \"#7201a8\"], [0.3333333333333333, \"#9c179e\"], [0.4444444444444444, \"#bd3786\"], [0.5555555555555556, \"#d8576b\"], [0.6666666666666666, \"#ed7953\"], [0.7777777777777778, \"#fb9f3a\"], [0.8888888888888888, \"#fdca26\"], [1.0, \"#f0f921\"]], \"type\": \"surface\"}], \"table\": [{\"cells\": {\"fill\": {\"color\": \"#EBF0F8\"}, \"line\": {\"color\": \"white\"}}, \"header\": {\"fill\": {\"color\": \"#C8D4E3\"}, \"line\": {\"color\": \"white\"}}, \"type\": \"table\"}]}, \"layout\": {\"annotationdefaults\": {\"arrowcolor\": \"#2a3f5f\", \"arrowhead\": 0, \"arrowwidth\": 1}, \"coloraxis\": {\"colorbar\": {\"outlinewidth\": 0, \"ticks\": \"\"}}, \"colorscale\": {\"diverging\": [[0, \"#8e0152\"], [0.1, \"#c51b7d\"], [0.2, \"#de77ae\"], [0.3, \"#f1b6da\"], [0.4, \"#fde0ef\"], [0.5, \"#f7f7f7\"], [0.6, \"#e6f5d0\"], [0.7, \"#b8e186\"], [0.8, \"#7fbc41\"], [0.9, \"#4d9221\"], [1, \"#276419\"]], \"sequential\": [[0.0, \"#0d0887\"], [0.1111111111111111, \"#46039f\"], [0.2222222222222222, \"#7201a8\"], [0.3333333333333333, \"#9c179e\"], [0.4444444444444444, \"#bd3786\"], [0.5555555555555556, \"#d8576b\"], [0.6666666666666666, \"#ed7953\"], [0.7777777777777778, \"#fb9f3a\"], [0.8888888888888888, \"#fdca26\"], [1.0, \"#f0f921\"]], \"sequentialminus\": [[0.0, \"#0d0887\"], [0.1111111111111111, \"#46039f\"], [0.2222222222222222, \"#7201a8\"], [0.3333333333333333, \"#9c179e\"], [0.4444444444444444, \"#bd3786\"], [0.5555555555555556, \"#d8576b\"], [0.6666666666666666, \"#ed7953\"], [0.7777777777777778, \"#fb9f3a\"], [0.8888888888888888, \"#fdca26\"], [1.0, \"#f0f921\"]]}, \"colorway\": [\"#636efa\", \"#EF553B\", \"#00cc96\", \"#ab63fa\", \"#FFA15A\", \"#19d3f3\", \"#FF6692\", \"#B6E880\", \"#FF97FF\", \"#FECB52\"], \"font\": {\"color\": \"#2a3f5f\"}, \"geo\": {\"bgcolor\": \"white\", \"lakecolor\": \"white\", \"landcolor\": \"#E5ECF6\", \"showlakes\": true, \"showland\": true, \"subunitcolor\": \"white\"}, \"hoverlabel\": {\"align\": \"left\"}, \"hovermode\": \"closest\", \"mapbox\": {\"style\": \"light\"}, \"paper_bgcolor\": \"white\", \"plot_bgcolor\": \"#E5ECF6\", \"polar\": {\"angularaxis\": {\"gridcolor\": \"white\", \"linecolor\": \"white\", \"ticks\": \"\"}, \"bgcolor\": \"#E5ECF6\", \"radialaxis\": {\"gridcolor\": \"white\", \"linecolor\": \"white\", \"ticks\": \"\"}}, \"scene\": {\"xaxis\": {\"backgroundcolor\": \"#E5ECF6\", \"gridcolor\": \"white\", \"gridwidth\": 2, \"linecolor\": \"white\", \"showbackground\": true, \"ticks\": \"\", \"zerolinecolor\": \"white\"}, \"yaxis\": {\"backgroundcolor\": \"#E5ECF6\", \"gridcolor\": \"white\", \"gridwidth\": 2, \"linecolor\": \"white\", \"showbackground\": true, \"ticks\": \"\", \"zerolinecolor\": \"white\"}, \"zaxis\": {\"backgroundcolor\": \"#E5ECF6\", \"gridcolor\": \"white\", \"gridwidth\": 2, \"linecolor\": \"white\", \"showbackground\": true, \"ticks\": \"\", \"zerolinecolor\": \"white\"}}, \"shapedefaults\": {\"line\": {\"color\": \"#2a3f5f\"}}, \"ternary\": {\"aaxis\": {\"gridcolor\": \"white\", \"linecolor\": \"white\", \"ticks\": \"\"}, \"baxis\": {\"gridcolor\": \"white\", \"linecolor\": \"white\", \"ticks\": \"\"}, \"bgcolor\": \"#E5ECF6\", \"caxis\": {\"gridcolor\": \"white\", \"linecolor\": \"white\", \"ticks\": \"\"}}, \"title\": {\"x\": 0.05}, \"xaxis\": {\"automargin\": true, \"gridcolor\": \"white\", \"linecolor\": \"white\", \"ticks\": \"\", \"title\": {\"standoff\": 15}, \"zerolinecolor\": \"white\", \"zerolinewidth\": 2}, \"yaxis\": {\"automargin\": true, \"gridcolor\": \"white\", \"linecolor\": \"white\", \"ticks\": \"\", \"title\": {\"standoff\": 15}, \"zerolinecolor\": \"white\", \"zerolinewidth\": 2}}}, \"title\": {\"text\": \"ROC Curve\"}, \"xaxis\": {\"title\": {\"text\": \"FPR\"}}, \"yaxis\": {\"title\": {\"text\": \"TPR\"}}},\n",
              "                        {\"responsive\": true}\n",
              "                    ).then(function(){\n",
              "                            \n",
              "var gd = document.getElementById('6f560164-7c12-4a52-bd18-59eae72590f5');\n",
              "var x = new MutationObserver(function (mutations, observer) {{\n",
              "        var display = window.getComputedStyle(gd).display;\n",
              "        if (!display || display === 'none') {{\n",
              "            console.log([gd, 'removed!']);\n",
              "            Plotly.purge(gd);\n",
              "            observer.disconnect();\n",
              "        }}\n",
              "}});\n",
              "\n",
              "// Listen for the removal of the full notebook cells\n",
              "var notebookContainer = gd.closest('#notebook-container');\n",
              "if (notebookContainer) {{\n",
              "    x.observe(notebookContainer, {childList: true});\n",
              "}}\n",
              "\n",
              "// Listen for the clearing of the current output cell\n",
              "var outputEl = gd.closest('.output');\n",
              "if (outputEl) {{\n",
              "    x.observe(outputEl, {childList: true});\n",
              "}}\n",
              "\n",
              "                        })\n",
              "                };\n",
              "                \n",
              "            </script>\n",
              "        </div>\n",
              "</body>\n",
              "</html>"
            ]
          },
          "metadata": {}
        }
      ]
    },
    {
      "cell_type": "code",
      "metadata": {
        "colab": {
          "base_uri": "https://localhost:8080/"
        },
        "id": "kYeomYB36Nfw",
        "outputId": "9c13f9e9-3f8a-40fd-abaa-d94e7fa9d08f"
      },
      "source": [
        "# Model_1 is the better model, judging from its learning curves and ROC curve; let's evaluate it\n",
        "evaluate_model(y_true, pred)"
      ],
      "execution_count": null,
      "outputs": [
        {
          "output_type": "stream",
          "name": "stdout",
          "text": [
            "===== Classification Report ======\n",
            "              precision    recall  f1-score   support\n",
            "\n",
            "           0       0.94      0.93      0.94       269\n",
            "           1       0.98      0.98      0.98       789\n",
            "\n",
            "    accuracy                           0.97      1058\n",
            "   macro avg       0.96      0.96      0.96      1058\n",
            "weighted avg       0.97      0.97      0.97      1058\n",
            "\n",
            "\n",
            "===== Confusion Matrix =====\n",
            "[[251  18]\n",
            " [ 16 773]]\n",
            "\n",
            "===== Other Metrics =====\n",
            "ROC_AUC: 0.989229142665863\n"
          ]
        }
      ]
    },
    {
      "cell_type": "code",
      "metadata": {
        "colab": {
          "base_uri": "https://localhost:8080/"
        },
        "id": "bleWeTFhlk2x",
        "outputId": "0e7898e4-2477-404f-e1e3-514adba95906"
      },
      "source": [
        "# For comparison\n",
        "model_1.evaluate(predict_valid_gs)"
      ],
      "execution_count": null,
      "outputs": [
        {
          "output_type": "stream",
          "name": "stdout",
          "text": [
            "34/34 [==============================] - 14s 418ms/step - loss: 0.1063 - tp: 773.0000 - fp: 18.0000 - tn: 251.0000 - fn: 16.0000 - accuracy: 0.9679 - precision: 0.9772 - recall: 0.9797 - auc: 0.9892\n"
          ]
        },
        {
          "output_type": "execute_result",
          "data": {
            "text/plain": [
              "[0.10626493394374847,\n",
              " 773.0,\n",
              " 18.0,\n",
              " 251.0,\n",
              " 16.0,\n",
              " 0.967863917350769,\n",
              " 0.9772440195083618,\n",
              " 0.979721188545227,\n",
              " 0.989229142665863]"
            ]
          },
          "metadata": {},
          "execution_count": 29
        }
      ]
    },
    {
      "cell_type": "markdown",
      "metadata": {
        "id": "_hrMnDylxCV3"
      },
      "source": [
        "Using augmented data actually hurt our model's performance, so from now on, we are not going to augment our data. Our baseline model actually performed really well.\n",
        "\n",
        "As we can see from this model's ROC curve, this model is a really good classifier."
      ]
    },
    {
      "cell_type": "markdown",
      "metadata": {
        "id": "u4fjkTb5-5kz"
      },
      "source": [
        "# Using Pretrained Models"
      ]
    },
    {
      "cell_type": "markdown",
      "metadata": {
        "id": "h5uHTbJx-5kz"
      },
      "source": [
        "After reading some articles, I decided that using pretrained models that were trained on the ImageNet dataset would probably help in predicting these lung images. So, I picked out these models to see which one of them would perform better.\n",
        "\n",
        "You can try reading these for starters:\n",
        "\n",
        "* https://towardsdatascience.com/does-imagenet-pretraining-work-for-chest-radiography-images-covid-19-2e2d9f5f0875\n",
        "\n",
        "* https://arxiv.org/pdf/1902.07208.pdf\n",
        "\n",
        "I chose to use models from the DenseNet and ResNet architecture family, because with most experiments I found, these two models seemed to perform well with radiology images. I also chose EfficientNet just to see how it would fare with the other two."
      ]
    },
    {
      "cell_type": "code",
      "metadata": {
        "id": "fNyFsfNa-5k0",
        "execution": {
          "iopub.status.busy": "2021-09-05T05:26:43.129859Z",
          "iopub.execute_input": "2021-09-05T05:26:43.130217Z",
          "iopub.status.idle": "2021-09-05T05:26:43.137217Z",
          "shell.execute_reply.started": "2021-09-05T05:26:43.130178Z",
          "shell.execute_reply": "2021-09-05T05:26:43.134952Z"
        },
        "trusted": true
      },
      "source": [
        "def create_model(model_url, num_classes=1):\n",
        "  \"\"\"Takes a TensorFlow Hub URL and creates a Keras Sequential model with it.\n",
        "\n",
        "  Args:\n",
        "  model_url (str): A TensorFlow Hub feature extraction URL.\n",
        "  num_classes (int): Number of output neurons in output layer,\n",
        "  should be equal to number of target classes, default 10.\n",
        "\n",
        "  Returns:\n",
        "  An uncompiled Keras Sequential model with model_url as feature\n",
        "  extractor layer and Dense output layer with num_classes outputs.\n",
        "  \"\"\"\n",
        "  # Download the pretrained model and save it as a Keras layer\n",
        "  feature_extractor_layer = hub.KerasLayer(model_url,\n",
        "                                          trainable=False, # freeze the underlying patterns\n",
        "                                          name='feature_extraction_layer',\n",
        "                                          input_shape=(224, 224, 3,)) # define the input image shape\n",
        "\n",
        "  # Create our own model\n",
        "  model = tf.keras.Sequential([\n",
        "    feature_extractor_layer, # use the feature extraction layer as the base\n",
        "    layers.Dense(num_classes, activation='sigmoid', name='output_layer') # create our own output layer      \n",
        "  ])\n",
        "\n",
        "  return model"
      ],
      "execution_count": null,
      "outputs": []
    },
    {
      "cell_type": "code",
      "metadata": {
        "id": "TFm5-Sm4-5k0",
        "execution": {
          "iopub.status.busy": "2021-09-05T05:26:43.138593Z",
          "iopub.execute_input": "2021-09-05T05:26:43.138972Z",
          "iopub.status.idle": "2021-09-05T05:26:43.151981Z",
          "shell.execute_reply.started": "2021-09-05T05:26:43.138939Z",
          "shell.execute_reply": "2021-09-05T05:26:43.151207Z"
        },
        "trusted": true
      },
      "source": [
        "efficientnetv2_url = 'https://tfhub.dev/google/imagenet/efficientnet_v2_imagenet21k_ft1k_b0/feature_vector/2'\n",
        "\n",
        "MODEL_HISTORY = []"
      ],
      "execution_count": 16,
      "outputs": []
    },
    {
      "cell_type": "markdown",
      "metadata": {
        "id": "KDU6Sl4c-5k0"
      },
      "source": [
        "## ResNetV2-50"
      ]
    },
    {
      "cell_type": "code",
      "metadata": {
        "id": "vq6o5w5w-5k0",
        "execution": {
          "iopub.status.busy": "2021-09-05T05:26:43.153223Z",
          "iopub.execute_input": "2021-09-05T05:26:43.153719Z",
          "iopub.status.idle": "2021-09-05T06:04:57.673717Z",
          "shell.execute_reply.started": "2021-09-05T05:26:43.153682Z",
          "shell.execute_reply": "2021-09-05T06:04:57.67276Z"
        },
        "trusted": true,
        "colab": {
          "base_uri": "https://localhost:8080/"
        },
        "outputId": "6a8dbeaf-707d-4643-e188-1e523d1b1049"
      },
      "source": [
        "tf.random.set_seed(42)\n",
        "\n",
        "# Get the model\n",
        "base_model = tf.keras.applications.ResNet50V2(include_top=False)\n",
        "base_model.trainable = False\n",
        "\n",
        "# Build the model\n",
        "inputs = layers.Input(shape=(224, 224, 3), name='input_layer')\n",
        "out = base_model(inputs, training=False)\n",
        "out = layers.GlobalMaxPooling2D()(out)\n",
        "out = layers.Dense(1, activation='sigmoid', name='output_layer')(out)\n",
        "model_resnet = keras.Model(inputs, out)\n",
        "\n",
        "# Compile model\n",
        "model_resnet.compile(loss='binary_crossentropy',\n",
        "                    optimizer=Adam(learning_rate=5e-5),\n",
        "                    metrics=metrics)\n",
        "\n",
        "# Train the model\n",
        "history_resnet = model_resnet.fit(non_aug_train_rgb, epochs=30,\n",
        "                                  validation_data=non_aug_valid_rgb,\n",
        "                                  steps_per_epoch=len(non_aug_train_rgb),\n",
        "                                  validation_steps=len(non_aug_valid_rgb),\n",
        "                                  callbacks=callbacks)\n",
        "\n",
        "# Save history\n",
        "MODEL_HISTORY.append(['ResNetV2-50', history_resnet])"
      ],
      "execution_count": null,
      "outputs": [
        {
          "output_type": "stream",
          "name": "stdout",
          "text": [
            "Epoch 1/30\n",
            "133/133 [==============================] - 872s 7s/step - loss: 0.9379 - tp: 3260.0000 - fp: 829.0000 - tn: 551.0000 - fn: 772.0000 - accuracy: 0.7181 - precision: 0.7973 - recall: 0.8085 - auc: 0.6449 - val_loss: 0.7543 - val_tp: 693.0000 - val_fp: 145.0000 - val_tn: 124.0000 - val_fn: 96.0000 - val_accuracy: 0.7722 - val_precision: 0.8270 - val_recall: 0.8783 - val_auc: 0.7615\n",
            "Epoch 2/30\n",
            "133/133 [==============================] - 83s 623ms/step - loss: 0.4987 - tp: 2802.0000 - fp: 370.0000 - tn: 703.0000 - fn: 353.0000 - accuracy: 0.8290 - precision: 0.8834 - recall: 0.8881 - auc: 0.8669 - val_loss: 0.5078 - val_tp: 719.0000 - val_fp: 103.0000 - val_tn: 166.0000 - val_fn: 70.0000 - val_accuracy: 0.8365 - val_precision: 0.8747 - val_recall: 0.9113 - val_auc: 0.8713\n",
            "Epoch 3/30\n",
            "133/133 [==============================] - 84s 628ms/step - loss: 0.3550 - tp: 2880.0000 - fp: 279.0000 - tn: 794.0000 - fn: 275.0000 - accuracy: 0.8690 - precision: 0.9117 - recall: 0.9128 - auc: 0.9247 - val_loss: 0.4196 - val_tp: 742.0000 - val_fp: 83.0000 - val_tn: 186.0000 - val_fn: 47.0000 - val_accuracy: 0.8771 - val_precision: 0.8994 - val_recall: 0.9404 - val_auc: 0.9097\n",
            "Epoch 4/30\n",
            "133/133 [==============================] - 84s 631ms/step - loss: 0.2880 - tp: 2935.0000 - fp: 234.0000 - tn: 839.0000 - fn: 220.0000 - accuracy: 0.8926 - precision: 0.9262 - recall: 0.9303 - auc: 0.9491 - val_loss: 0.3658 - val_tp: 746.0000 - val_fp: 72.0000 - val_tn: 197.0000 - val_fn: 43.0000 - val_accuracy: 0.8913 - val_precision: 0.9120 - val_recall: 0.9455 - val_auc: 0.9305\n",
            "Epoch 5/30\n",
            "133/133 [==============================] - 82s 620ms/step - loss: 0.2482 - tp: 2959.0000 - fp: 198.0000 - tn: 875.0000 - fn: 196.0000 - accuracy: 0.9068 - precision: 0.9373 - recall: 0.9379 - auc: 0.9607 - val_loss: 0.3205 - val_tp: 745.0000 - val_fp: 67.0000 - val_tn: 202.0000 - val_fn: 44.0000 - val_accuracy: 0.8951 - val_precision: 0.9175 - val_recall: 0.9442 - val_auc: 0.9446\n",
            "Epoch 6/30\n",
            "133/133 [==============================] - 82s 616ms/step - loss: 0.2203 - tp: 2978.0000 - fp: 178.0000 - tn: 895.0000 - fn: 177.0000 - accuracy: 0.9160 - precision: 0.9436 - recall: 0.9439 - auc: 0.9677 - val_loss: 0.3072 - val_tp: 754.0000 - val_fp: 69.0000 - val_tn: 200.0000 - val_fn: 35.0000 - val_accuracy: 0.9017 - val_precision: 0.9162 - val_recall: 0.9556 - val_auc: 0.9534\n",
            "Epoch 7/30\n",
            "133/133 [==============================] - 81s 611ms/step - loss: 0.1998 - tp: 3004.0000 - fp: 163.0000 - tn: 910.0000 - fn: 151.0000 - accuracy: 0.9257 - precision: 0.9485 - recall: 0.9521 - auc: 0.9725 - val_loss: 0.2801 - val_tp: 752.0000 - val_fp: 60.0000 - val_tn: 209.0000 - val_fn: 37.0000 - val_accuracy: 0.9083 - val_precision: 0.9261 - val_recall: 0.9531 - val_auc: 0.9584\n",
            "Epoch 8/30\n",
            "133/133 [==============================] - 81s 612ms/step - loss: 0.1833 - tp: 3009.0000 - fp: 146.0000 - tn: 927.0000 - fn: 146.0000 - accuracy: 0.9309 - precision: 0.9537 - recall: 0.9537 - auc: 0.9761 - val_loss: 0.2723 - val_tp: 763.0000 - val_fp: 61.0000 - val_tn: 208.0000 - val_fn: 26.0000 - val_accuracy: 0.9178 - val_precision: 0.9260 - val_recall: 0.9670 - val_auc: 0.9622\n",
            "Epoch 9/30\n",
            "133/133 [==============================] - 82s 616ms/step - loss: 0.1699 - tp: 3031.0000 - fp: 143.0000 - tn: 930.0000 - fn: 124.0000 - accuracy: 0.9368 - precision: 0.9549 - recall: 0.9607 - auc: 0.9798 - val_loss: 0.2517 - val_tp: 761.0000 - val_fp: 56.0000 - val_tn: 213.0000 - val_fn: 28.0000 - val_accuracy: 0.9206 - val_precision: 0.9315 - val_recall: 0.9645 - val_auc: 0.9651\n",
            "Epoch 10/30\n",
            "133/133 [==============================] - 81s 606ms/step - loss: 0.1568 - tp: 3037.0000 - fp: 120.0000 - tn: 953.0000 - fn: 118.0000 - accuracy: 0.9437 - precision: 0.9620 - recall: 0.9626 - auc: 0.9812 - val_loss: 0.2387 - val_tp: 761.0000 - val_fp: 49.0000 - val_tn: 220.0000 - val_fn: 28.0000 - val_accuracy: 0.9272 - val_precision: 0.9395 - val_recall: 0.9645 - val_auc: 0.9672\n",
            "Epoch 11/30\n",
            "133/133 [==============================] - 80s 601ms/step - loss: 0.1481 - tp: 3043.0000 - fp: 122.0000 - tn: 951.0000 - fn: 112.0000 - accuracy: 0.9447 - precision: 0.9615 - recall: 0.9645 - auc: 0.9832 - val_loss: 0.2279 - val_tp: 762.0000 - val_fp: 47.0000 - val_tn: 222.0000 - val_fn: 27.0000 - val_accuracy: 0.9301 - val_precision: 0.9419 - val_recall: 0.9658 - val_auc: 0.9703\n",
            "Epoch 12/30\n",
            "133/133 [==============================] - 80s 603ms/step - loss: 0.1404 - tp: 3042.0000 - fp: 113.0000 - tn: 960.0000 - fn: 113.0000 - accuracy: 0.9465 - precision: 0.9642 - recall: 0.9642 - auc: 0.9853 - val_loss: 0.2301 - val_tp: 768.0000 - val_fp: 53.0000 - val_tn: 216.0000 - val_fn: 21.0000 - val_accuracy: 0.9301 - val_precision: 0.9354 - val_recall: 0.9734 - val_auc: 0.9702\n",
            "Epoch 13/30\n",
            "133/133 [==============================] - 80s 603ms/step - loss: 0.1331 - tp: 3052.0000 - fp: 106.0000 - tn: 967.0000 - fn: 103.0000 - accuracy: 0.9506 - precision: 0.9664 - recall: 0.9674 - auc: 0.9860 - val_loss: 0.2315 - val_tp: 770.0000 - val_fp: 55.0000 - val_tn: 214.0000 - val_fn: 19.0000 - val_accuracy: 0.9301 - val_precision: 0.9333 - val_recall: 0.9759 - val_auc: 0.9698\n"
          ]
        }
      ]
    },
    {
      "cell_type": "code",
      "metadata": {
        "id": "5tMhhOuZbL34",
        "execution": {
          "iopub.status.busy": "2021-09-05T06:04:57.675099Z",
          "iopub.execute_input": "2021-09-05T06:04:57.675485Z",
          "iopub.status.idle": "2021-09-05T06:04:57.687513Z",
          "shell.execute_reply.started": "2021-09-05T06:04:57.675448Z",
          "shell.execute_reply": "2021-09-05T06:04:57.686577Z"
        },
        "trusted": true,
        "colab": {
          "base_uri": "https://localhost:8080/"
        },
        "outputId": "13d53975-369b-46e9-c0ba-24c3f64c36a6"
      },
      "source": [
        "model_resnet.summary()"
      ],
      "execution_count": null,
      "outputs": [
        {
          "output_type": "stream",
          "name": "stdout",
          "text": [
            "Model: \"model_1\"\n",
            "_________________________________________________________________\n",
            "Layer (type)                 Output Shape              Param #   \n",
            "=================================================================\n",
            "input_layer (InputLayer)     [(None, 224, 224, 3)]     0         \n",
            "_________________________________________________________________\n",
            "resnet50v2 (Functional)      (None, None, None, 2048)  23564800  \n",
            "_________________________________________________________________\n",
            "global_max_pooling2d_1 (Glob (None, 2048)              0         \n",
            "_________________________________________________________________\n",
            "output_layer (Dense)         (None, 1)                 2049      \n",
            "=================================================================\n",
            "Total params: 23,566,849\n",
            "Trainable params: 2,049\n",
            "Non-trainable params: 23,564,800\n",
            "_________________________________________________________________\n"
          ]
        }
      ]
    },
    {
      "cell_type": "code",
      "metadata": {
        "id": "WvgWBCX8bNWH",
        "execution": {
          "iopub.status.busy": "2021-09-05T06:04:57.688751Z",
          "iopub.execute_input": "2021-09-05T06:04:57.689341Z",
          "iopub.status.idle": "2021-09-05T06:04:58.24451Z",
          "shell.execute_reply.started": "2021-09-05T06:04:57.689251Z",
          "shell.execute_reply": "2021-09-05T06:04:58.243716Z"
        },
        "trusted": true,
        "colab": {
          "base_uri": "https://localhost:8080/"
        },
        "outputId": "a135c27a-c1b8-4923-c1cc-86941cb52380"
      },
      "source": [
        "plot_learning_curves(['ResNetV2-50', history_resnet])"
      ],
      "execution_count": null,
      "outputs": [
        {
          "output_type": "display_data",
          "data": {
            "text/html": [
              "<html>\n",
              "<head><meta charset=\"utf-8\" /></head>\n",
              "<body>\n",
              "    <div>\n",
              "            <script src=\"https://cdnjs.cloudflare.com/ajax/libs/mathjax/2.7.5/MathJax.js?config=TeX-AMS-MML_SVG\"></script><script type=\"text/javascript\">if (window.MathJax) {MathJax.Hub.Config({SVG: {font: \"STIX-Web\"}});}</script>\n",
              "                <script type=\"text/javascript\">window.PlotlyConfig = {MathJaxConfig: 'local'};</script>\n",
              "        <script src=\"https://cdn.plot.ly/plotly-latest.min.js\"></script>    \n",
              "            <div id=\"024a4869-e4b9-4ae9-b347-3378f60dcd11\" class=\"plotly-graph-div\" style=\"height:1500px; width:100%;\"></div>\n",
              "            <script type=\"text/javascript\">\n",
              "                \n",
              "                    window.PLOTLYENV=window.PLOTLYENV || {};\n",
              "                    \n",
              "                if (document.getElementById(\"024a4869-e4b9-4ae9-b347-3378f60dcd11\")) {\n",
              "                    Plotly.newPlot(\n",
              "                        '024a4869-e4b9-4ae9-b347-3378f60dcd11',\n",
              "                        [{\"name\": \"ResNetV2-50 train\", \"type\": \"scatter\", \"x\": [1, 2, 3, 4, 5, 6, 7, 8, 9, 10, 11, 12, 13], \"xaxis\": \"x\", \"y\": [0.937869131565094, 0.49867507815361023, 0.3549535870552063, 0.2880323529243469, 0.24815206229686737, 0.22033636271953583, 0.19983471930027008, 0.1833352893590927, 0.16987618803977966, 0.15682168304920197, 0.1480989009141922, 0.140388622879982, 0.13314786553382874], \"yaxis\": \"y\"}, {\"name\": \"ResNetV2-50 val\", \"type\": \"scatter\", \"x\": [1, 2, 3, 4, 5, 6, 7, 8, 9, 10, 11, 12, 13], \"xaxis\": \"x\", \"y\": [0.7542555928230286, 0.5078321099281311, 0.41960006952285767, 0.36578115820884705, 0.32048019766807556, 0.30723559856414795, 0.2800542712211609, 0.2722965478897095, 0.2517040967941284, 0.2387215495109558, 0.22789926826953888, 0.23006190359592438, 0.231504887342453], \"yaxis\": \"y\"}, {\"name\": \"ResNetV2-50 train\", \"type\": \"scatter\", \"x\": [1, 2, 3, 4, 5, 6, 7, 8, 9, 10, 11, 12, 13], \"xaxis\": \"x2\", \"y\": [0.8085317611694336, 0.8881140947341919, 0.9128367900848389, 0.9302694201469421, 0.9378764033317566, 0.9438985586166382, 0.9521394371986389, 0.9537242650985718, 0.9606972932815552, 0.9625990390777588, 0.9645007848739624, 0.9641838073730469, 0.9673534035682678], \"yaxis\": \"y2\"}, {\"name\": \"ResNetV2-50 val\", \"type\": \"scatter\", \"x\": [1, 2, 3, 4, 5, 6, 7, 8, 9, 10, 11, 12, 13], \"xaxis\": \"x2\", \"y\": [0.8783270120620728, 0.91128009557724, 0.9404309391975403, 0.9455006122589111, 0.9442331790924072, 0.9556400775909424, 0.9531052112579346, 0.9670469164848328, 0.964512050151825, 0.964512050151825, 0.9657794833183289, 0.9733840227127075, 0.9759188890457153], \"yaxis\": \"y2\"}, {\"name\": \"ResNetV2-50 train\", \"type\": \"scatter\", \"x\": [1, 2, 3, 4, 5, 6, 7, 8, 9, 10, 11, 12, 13], \"xaxis\": \"x3\", \"y\": [0.6449475288391113, 0.8669015765190125, 0.9247163534164429, 0.9490892887115479, 0.960707426071167, 0.9676511287689209, 0.9724892973899841, 0.9761133193969727, 0.9797837138175964, 0.9812411665916443, 0.9832213521003723, 0.9852798581123352, 0.9860072731971741], \"yaxis\": \"y3\"}, {\"name\": \"ResNetV2-50val\", \"type\": \"scatter\", \"x\": [1, 2, 3, 4, 5, 6, 7, 8, 9, 10, 11, 12, 13], \"xaxis\": \"x3\", \"y\": [0.7614598274230957, 0.8712689280509949, 0.9097300171852112, 0.9304516911506653, 0.944612443447113, 0.9533902406692505, 0.9583632946014404, 0.9622363448143005, 0.9651080965995789, 0.9671789407730103, 0.9703002572059631, 0.9701942205429077, 0.9697749614715576], \"yaxis\": \"y3\"}],\n",
              "                        {\"annotations\": [{\"font\": {\"size\": 16}, \"showarrow\": false, \"text\": \"Loss\", \"x\": 0.5, \"xanchor\": \"center\", \"xref\": \"paper\", \"y\": 1.0, \"yanchor\": \"bottom\", \"yref\": \"paper\"}, {\"font\": {\"size\": 16}, \"showarrow\": false, \"text\": \"Recall\", \"x\": 0.5, \"xanchor\": \"center\", \"xref\": \"paper\", \"y\": 0.6111111111111112, \"yanchor\": \"bottom\", \"yref\": \"paper\"}, {\"font\": {\"size\": 16}, \"showarrow\": false, \"text\": \"AUC\", \"x\": 0.5, \"xanchor\": \"center\", \"xref\": \"paper\", \"y\": 0.22222222222222224, \"yanchor\": \"bottom\", \"yref\": \"paper\"}], \"height\": 1500, \"template\": {\"data\": {\"bar\": [{\"error_x\": {\"color\": \"#2a3f5f\"}, \"error_y\": {\"color\": \"#2a3f5f\"}, \"marker\": {\"line\": {\"color\": \"#E5ECF6\", \"width\": 0.5}}, \"type\": \"bar\"}], \"barpolar\": [{\"marker\": {\"line\": {\"color\": \"#E5ECF6\", \"width\": 0.5}}, \"type\": \"barpolar\"}], \"carpet\": [{\"aaxis\": {\"endlinecolor\": \"#2a3f5f\", \"gridcolor\": \"white\", \"linecolor\": \"white\", \"minorgridcolor\": \"white\", \"startlinecolor\": \"#2a3f5f\"}, \"baxis\": {\"endlinecolor\": \"#2a3f5f\", \"gridcolor\": \"white\", \"linecolor\": \"white\", \"minorgridcolor\": \"white\", \"startlinecolor\": \"#2a3f5f\"}, \"type\": \"carpet\"}], \"choropleth\": [{\"colorbar\": {\"outlinewidth\": 0, \"ticks\": \"\"}, \"type\": \"choropleth\"}], \"contour\": [{\"colorbar\": {\"outlinewidth\": 0, \"ticks\": \"\"}, \"colorscale\": [[0.0, \"#0d0887\"], [0.1111111111111111, \"#46039f\"], [0.2222222222222222, \"#7201a8\"], [0.3333333333333333, \"#9c179e\"], [0.4444444444444444, \"#bd3786\"], [0.5555555555555556, \"#d8576b\"], [0.6666666666666666, \"#ed7953\"], [0.7777777777777778, \"#fb9f3a\"], [0.8888888888888888, \"#fdca26\"], [1.0, \"#f0f921\"]], \"type\": \"contour\"}], \"contourcarpet\": [{\"colorbar\": {\"outlinewidth\": 0, \"ticks\": \"\"}, \"type\": \"contourcarpet\"}], \"heatmap\": [{\"colorbar\": {\"outlinewidth\": 0, \"ticks\": \"\"}, \"colorscale\": [[0.0, \"#0d0887\"], [0.1111111111111111, \"#46039f\"], [0.2222222222222222, \"#7201a8\"], [0.3333333333333333, \"#9c179e\"], [0.4444444444444444, \"#bd3786\"], [0.5555555555555556, \"#d8576b\"], [0.6666666666666666, \"#ed7953\"], [0.7777777777777778, \"#fb9f3a\"], [0.8888888888888888, \"#fdca26\"], [1.0, \"#f0f921\"]], \"type\": \"heatmap\"}], \"heatmapgl\": [{\"colorbar\": {\"outlinewidth\": 0, \"ticks\": \"\"}, \"colorscale\": [[0.0, \"#0d0887\"], [0.1111111111111111, \"#46039f\"], [0.2222222222222222, \"#7201a8\"], [0.3333333333333333, \"#9c179e\"], [0.4444444444444444, \"#bd3786\"], [0.5555555555555556, \"#d8576b\"], [0.6666666666666666, \"#ed7953\"], [0.7777777777777778, \"#fb9f3a\"], [0.8888888888888888, \"#fdca26\"], [1.0, \"#f0f921\"]], \"type\": \"heatmapgl\"}], \"histogram\": [{\"marker\": {\"colorbar\": {\"outlinewidth\": 0, \"ticks\": \"\"}}, \"type\": \"histogram\"}], \"histogram2d\": [{\"colorbar\": {\"outlinewidth\": 0, \"ticks\": \"\"}, \"colorscale\": [[0.0, \"#0d0887\"], [0.1111111111111111, \"#46039f\"], [0.2222222222222222, \"#7201a8\"], [0.3333333333333333, \"#9c179e\"], [0.4444444444444444, \"#bd3786\"], [0.5555555555555556, \"#d8576b\"], [0.6666666666666666, \"#ed7953\"], [0.7777777777777778, \"#fb9f3a\"], [0.8888888888888888, \"#fdca26\"], [1.0, \"#f0f921\"]], \"type\": \"histogram2d\"}], \"histogram2dcontour\": [{\"colorbar\": {\"outlinewidth\": 0, \"ticks\": \"\"}, \"colorscale\": [[0.0, \"#0d0887\"], [0.1111111111111111, \"#46039f\"], [0.2222222222222222, \"#7201a8\"], [0.3333333333333333, \"#9c179e\"], [0.4444444444444444, \"#bd3786\"], [0.5555555555555556, \"#d8576b\"], [0.6666666666666666, \"#ed7953\"], [0.7777777777777778, \"#fb9f3a\"], [0.8888888888888888, \"#fdca26\"], [1.0, \"#f0f921\"]], \"type\": \"histogram2dcontour\"}], \"mesh3d\": [{\"colorbar\": {\"outlinewidth\": 0, \"ticks\": \"\"}, \"type\": \"mesh3d\"}], \"parcoords\": [{\"line\": {\"colorbar\": {\"outlinewidth\": 0, \"ticks\": \"\"}}, \"type\": \"parcoords\"}], \"pie\": [{\"automargin\": true, \"type\": \"pie\"}], \"scatter\": [{\"marker\": {\"colorbar\": {\"outlinewidth\": 0, \"ticks\": \"\"}}, \"type\": \"scatter\"}], \"scatter3d\": [{\"line\": {\"colorbar\": {\"outlinewidth\": 0, \"ticks\": \"\"}}, \"marker\": {\"colorbar\": {\"outlinewidth\": 0, \"ticks\": \"\"}}, \"type\": \"scatter3d\"}], \"scattercarpet\": [{\"marker\": {\"colorbar\": {\"outlinewidth\": 0, \"ticks\": \"\"}}, \"type\": \"scattercarpet\"}], \"scattergeo\": [{\"marker\": {\"colorbar\": {\"outlinewidth\": 0, \"ticks\": \"\"}}, \"type\": \"scattergeo\"}], \"scattergl\": [{\"marker\": {\"colorbar\": {\"outlinewidth\": 0, \"ticks\": \"\"}}, \"type\": \"scattergl\"}], \"scattermapbox\": [{\"marker\": {\"colorbar\": {\"outlinewidth\": 0, \"ticks\": \"\"}}, \"type\": \"scattermapbox\"}], \"scatterpolar\": [{\"marker\": {\"colorbar\": {\"outlinewidth\": 0, \"ticks\": \"\"}}, \"type\": \"scatterpolar\"}], \"scatterpolargl\": [{\"marker\": {\"colorbar\": {\"outlinewidth\": 0, \"ticks\": \"\"}}, \"type\": \"scatterpolargl\"}], \"scatterternary\": [{\"marker\": {\"colorbar\": {\"outlinewidth\": 0, \"ticks\": \"\"}}, \"type\": \"scatterternary\"}], \"surface\": [{\"colorbar\": {\"outlinewidth\": 0, \"ticks\": \"\"}, \"colorscale\": [[0.0, \"#0d0887\"], [0.1111111111111111, \"#46039f\"], [0.2222222222222222, \"#7201a8\"], [0.3333333333333333, \"#9c179e\"], [0.4444444444444444, \"#bd3786\"], [0.5555555555555556, \"#d8576b\"], [0.6666666666666666, \"#ed7953\"], [0.7777777777777778, \"#fb9f3a\"], [0.8888888888888888, \"#fdca26\"], [1.0, \"#f0f921\"]], \"type\": \"surface\"}], \"table\": [{\"cells\": {\"fill\": {\"color\": \"#EBF0F8\"}, \"line\": {\"color\": \"white\"}}, \"header\": {\"fill\": {\"color\": \"#C8D4E3\"}, \"line\": {\"color\": \"white\"}}, \"type\": \"table\"}]}, \"layout\": {\"annotationdefaults\": {\"arrowcolor\": \"#2a3f5f\", \"arrowhead\": 0, \"arrowwidth\": 1}, \"coloraxis\": {\"colorbar\": {\"outlinewidth\": 0, \"ticks\": \"\"}}, \"colorscale\": {\"diverging\": [[0, \"#8e0152\"], [0.1, \"#c51b7d\"], [0.2, \"#de77ae\"], [0.3, \"#f1b6da\"], [0.4, \"#fde0ef\"], [0.5, \"#f7f7f7\"], [0.6, \"#e6f5d0\"], [0.7, \"#b8e186\"], [0.8, \"#7fbc41\"], [0.9, \"#4d9221\"], [1, \"#276419\"]], \"sequential\": [[0.0, \"#0d0887\"], [0.1111111111111111, \"#46039f\"], [0.2222222222222222, \"#7201a8\"], [0.3333333333333333, \"#9c179e\"], [0.4444444444444444, \"#bd3786\"], [0.5555555555555556, \"#d8576b\"], [0.6666666666666666, \"#ed7953\"], [0.7777777777777778, \"#fb9f3a\"], [0.8888888888888888, \"#fdca26\"], [1.0, \"#f0f921\"]], \"sequentialminus\": [[0.0, \"#0d0887\"], [0.1111111111111111, \"#46039f\"], [0.2222222222222222, \"#7201a8\"], [0.3333333333333333, \"#9c179e\"], [0.4444444444444444, \"#bd3786\"], [0.5555555555555556, \"#d8576b\"], [0.6666666666666666, \"#ed7953\"], [0.7777777777777778, \"#fb9f3a\"], [0.8888888888888888, \"#fdca26\"], [1.0, \"#f0f921\"]]}, \"colorway\": [\"#636efa\", \"#EF553B\", \"#00cc96\", \"#ab63fa\", \"#FFA15A\", \"#19d3f3\", \"#FF6692\", \"#B6E880\", \"#FF97FF\", \"#FECB52\"], \"font\": {\"color\": \"#2a3f5f\"}, \"geo\": {\"bgcolor\": \"white\", \"lakecolor\": \"white\", \"landcolor\": \"#E5ECF6\", \"showlakes\": true, \"showland\": true, \"subunitcolor\": \"white\"}, \"hoverlabel\": {\"align\": \"left\"}, \"hovermode\": \"closest\", \"mapbox\": {\"style\": \"light\"}, \"paper_bgcolor\": \"white\", \"plot_bgcolor\": \"#E5ECF6\", \"polar\": {\"angularaxis\": {\"gridcolor\": \"white\", \"linecolor\": \"white\", \"ticks\": \"\"}, \"bgcolor\": \"#E5ECF6\", \"radialaxis\": {\"gridcolor\": \"white\", \"linecolor\": \"white\", \"ticks\": \"\"}}, \"scene\": {\"xaxis\": {\"backgroundcolor\": \"#E5ECF6\", \"gridcolor\": \"white\", \"gridwidth\": 2, \"linecolor\": \"white\", \"showbackground\": true, \"ticks\": \"\", \"zerolinecolor\": \"white\"}, \"yaxis\": {\"backgroundcolor\": \"#E5ECF6\", \"gridcolor\": \"white\", \"gridwidth\": 2, \"linecolor\": \"white\", \"showbackground\": true, \"ticks\": \"\", \"zerolinecolor\": \"white\"}, \"zaxis\": {\"backgroundcolor\": \"#E5ECF6\", \"gridcolor\": \"white\", \"gridwidth\": 2, \"linecolor\": \"white\", \"showbackground\": true, \"ticks\": \"\", \"zerolinecolor\": \"white\"}}, \"shapedefaults\": {\"line\": {\"color\": \"#2a3f5f\"}}, \"ternary\": {\"aaxis\": {\"gridcolor\": \"white\", \"linecolor\": \"white\", \"ticks\": \"\"}, \"baxis\": {\"gridcolor\": \"white\", \"linecolor\": \"white\", \"ticks\": \"\"}, \"bgcolor\": \"#E5ECF6\", \"caxis\": {\"gridcolor\": \"white\", \"linecolor\": \"white\", \"ticks\": \"\"}}, \"title\": {\"x\": 0.05}, \"xaxis\": {\"automargin\": true, \"gridcolor\": \"white\", \"linecolor\": \"white\", \"ticks\": \"\", \"title\": {\"standoff\": 15}, \"zerolinecolor\": \"white\", \"zerolinewidth\": 2}, \"yaxis\": {\"automargin\": true, \"gridcolor\": \"white\", \"linecolor\": \"white\", \"ticks\": \"\", \"title\": {\"standoff\": 15}, \"zerolinecolor\": \"white\", \"zerolinewidth\": 2}}}, \"title\": {\"text\": \"Learning Curves\"}, \"xaxis\": {\"anchor\": \"y\", \"domain\": [0.0, 1.0], \"title\": {\"text\": \"Epochs\"}}, \"xaxis2\": {\"anchor\": \"y2\", \"domain\": [0.0, 1.0], \"title\": {\"text\": \"Epochs\"}}, \"xaxis3\": {\"anchor\": \"y3\", \"domain\": [0.0, 1.0], \"title\": {\"text\": \"Epochs\"}}, \"yaxis\": {\"anchor\": \"x\", \"domain\": [0.7777777777777778, 1.0], \"title\": {\"text\": \"Loss\"}}, \"yaxis2\": {\"anchor\": \"x2\", \"domain\": [0.3888888888888889, 0.6111111111111112], \"title\": {\"text\": \"Recall\"}}, \"yaxis3\": {\"anchor\": \"x3\", \"domain\": [0.0, 0.22222222222222224], \"title\": {\"text\": \"AUC\"}}},\n",
              "                        {\"responsive\": true}\n",
              "                    ).then(function(){\n",
              "                            \n",
              "var gd = document.getElementById('024a4869-e4b9-4ae9-b347-3378f60dcd11');\n",
              "var x = new MutationObserver(function (mutations, observer) {{\n",
              "        var display = window.getComputedStyle(gd).display;\n",
              "        if (!display || display === 'none') {{\n",
              "            console.log([gd, 'removed!']);\n",
              "            Plotly.purge(gd);\n",
              "            observer.disconnect();\n",
              "        }}\n",
              "}});\n",
              "\n",
              "// Listen for the removal of the full notebook cells\n",
              "var notebookContainer = gd.closest('#notebook-container');\n",
              "if (notebookContainer) {{\n",
              "    x.observe(notebookContainer, {childList: true});\n",
              "}}\n",
              "\n",
              "// Listen for the clearing of the current output cell\n",
              "var outputEl = gd.closest('.output');\n",
              "if (outputEl) {{\n",
              "    x.observe(outputEl, {childList: true});\n",
              "}}\n",
              "\n",
              "                        })\n",
              "                };\n",
              "                \n",
              "            </script>\n",
              "        </div>\n",
              "</body>\n",
              "</html>"
            ]
          },
          "metadata": {}
        }
      ]
    },
    {
      "cell_type": "markdown",
      "metadata": {
        "id": "yJOxxUNl-5k0"
      },
      "source": [
        "## DenseNet-121"
      ]
    },
    {
      "cell_type": "code",
      "metadata": {
        "id": "EpGBMvwb-5k0",
        "execution": {
          "iopub.status.busy": "2021-09-05T06:04:58.245748Z",
          "iopub.execute_input": "2021-09-05T06:04:58.246099Z",
          "iopub.status.idle": "2021-09-05T06:30:36.745853Z",
          "shell.execute_reply.started": "2021-09-05T06:04:58.246062Z",
          "shell.execute_reply": "2021-09-05T06:30:36.745008Z"
        },
        "trusted": true,
        "colab": {
          "base_uri": "https://localhost:8080/"
        },
        "outputId": "81d1bc96-57a9-414a-cb42-6390bbae548b"
      },
      "source": [
        "tf.random.set_seed(42)\n",
        "\n",
        "# Get the model\n",
        "base_model = tf.keras.applications.DenseNet121(include_top=False)\n",
        "base_model.trainable = False\n",
        "\n",
        "# Build the model\n",
        "inputs = layers.Input(shape=(224, 224, 3), name='input_layer')\n",
        "out = base_model(inputs, training=False)\n",
        "out = layers.GlobalMaxPooling2D()(out)\n",
        "out = layers.Dense(1, activation='sigmoid', name='output_layer')(out)\n",
        "model_dense = keras.Model(inputs, out)\n",
        "\n",
        "# Compile the model\n",
        "model_dense.compile(loss='binary_crossentropy',\n",
        "                    optimizer=Adam(learning_rate=5e-5),\n",
        "                    metrics=metrics)\n",
        "\n",
        "# Train the model\n",
        "history_dense = model_dense.fit(non_aug_train_rgb, epochs=30,\n",
        "                                validation_data=non_aug_valid_rgb,\n",
        "                                steps_per_epoch=len(non_aug_train_rgb),\n",
        "                                validation_steps=len(non_aug_valid_rgb),\n",
        "                                callbacks=callbacks)\n",
        "\n",
        "# Save history\n",
        "MODEL_HISTORY.append(['DenseNet-121', history_dense])"
      ],
      "execution_count": null,
      "outputs": [
        {
          "output_type": "stream",
          "name": "stdout",
          "text": [
            "Downloading data from https://storage.googleapis.com/tensorflow/keras-applications/densenet/densenet121_weights_tf_dim_ordering_tf_kernels_notop.h5\n",
            "29089792/29084464 [==============================] - 0s 0us/step\n",
            "29097984/29084464 [==============================] - 0s 0us/step\n",
            "Epoch 1/30\n",
            "133/133 [==============================] - 95s 634ms/step - loss: 4.3781 - tp: 887.0000 - fp: 80.0000 - tn: 1262.0000 - fn: 3057.0000 - accuracy: 0.2755 - precision: 0.9173 - recall: 0.2249 - auc: 0.5918 - val_loss: 1.1271 - val_tp: 255.0000 - val_fp: 59.0000 - val_tn: 210.0000 - val_fn: 534.0000 - val_accuracy: 0.4395 - val_precision: 0.8121 - val_recall: 0.3232 - val_auc: 0.6032\n",
            "Epoch 2/30\n",
            "133/133 [==============================] - 79s 595ms/step - loss: 0.7971 - tp: 2190.0000 - fp: 714.0000 - tn: 359.0000 - fn: 965.0000 - accuracy: 0.6029 - precision: 0.7541 - recall: 0.6941 - auc: 0.5323 - val_loss: 0.6598 - val_tp: 670.0000 - val_fp: 199.0000 - val_tn: 70.0000 - val_fn: 119.0000 - val_accuracy: 0.6994 - val_precision: 0.7710 - val_recall: 0.8492 - val_auc: 0.6115\n",
            "Epoch 3/30\n",
            "133/133 [==============================] - ETA: 0s - loss: 0.6774 - tp: 2641.0000 - fp: 833.0000 - tn: 240.0000 - fn: 514.0000 - accuracy: 0.6814 - precision: 0.7602 - recall: 0.8371 - auc: 0.5792Epoch 4/30\n",
            "133/133 [==============================] - 77s 577ms/step - loss: 0.6253 - tp: 2687.0000 - fp: 797.0000 - tn: 276.0000 - fn: 468.0000 - accuracy: 0.7008 - precision: 0.7712 - recall: 0.8517 - auc: 0.6323 - val_loss: 0.5680 - val_tp: 697.0000 - val_fp: 184.0000 - val_tn: 85.0000 - val_fn: 92.0000 - val_accuracy: 0.7391 - val_precision: 0.7911 - val_recall: 0.8834 - val_auc: 0.7018\n",
            "Epoch 5/30\n",
            "133/133 [==============================] - 77s 581ms/step - loss: 0.5739 - tp: 2733.0000 - fp: 750.0000 - tn: 323.0000 - fn: 422.0000 - accuracy: 0.7228 - precision: 0.7847 - recall: 0.8662 - auc: 0.6867 - val_loss: 0.5237 - val_tp: 705.0000 - val_fp: 169.0000 - val_tn: 100.0000 - val_fn: 84.0000 - val_accuracy: 0.7609 - val_precision: 0.8066 - val_recall: 0.8935 - val_auc: 0.7457\n",
            "Epoch 6/30\n",
            "133/133 [==============================] - 81s 607ms/step - loss: 0.5257 - tp: 2754.0000 - fp: 684.0000 - tn: 389.0000 - fn: 401.0000 - accuracy: 0.7434 - precision: 0.8010 - recall: 0.8729 - auc: 0.7375 - val_loss: 0.4819 - val_tp: 709.0000 - val_fp: 158.0000 - val_tn: 111.0000 - val_fn: 80.0000 - val_accuracy: 0.7750 - val_precision: 0.8178 - val_recall: 0.8986 - val_auc: 0.7867\n",
            "Epoch 7/30\n",
            "133/133 [==============================] - 77s 580ms/step - loss: 0.4811 - tp: 2794.0000 - fp: 629.0000 - tn: 444.0000 - fn: 361.0000 - accuracy: 0.7658 - precision: 0.8162 - recall: 0.8856 - auc: 0.7829 - val_loss: 0.4454 - val_tp: 716.0000 - val_fp: 142.0000 - val_tn: 127.0000 - val_fn: 73.0000 - val_accuracy: 0.7968 - val_precision: 0.8345 - val_recall: 0.9075 - val_auc: 0.8209\n",
            "Epoch 8/30\n",
            "133/133 [==============================] - 78s 584ms/step - loss: 0.4420 - tp: 2817.0000 - fp: 582.0000 - tn: 491.0000 - fn: 338.0000 - accuracy: 0.7824 - precision: 0.8288 - recall: 0.8929 - auc: 0.8206 - val_loss: 0.4124 - val_tp: 716.0000 - val_fp: 123.0000 - val_tn: 146.0000 - val_fn: 73.0000 - val_accuracy: 0.8147 - val_precision: 0.8534 - val_recall: 0.9075 - val_auc: 0.8493\n",
            "Epoch 9/30\n",
            "133/133 [==============================] - 80s 603ms/step - loss: 0.4080 - tp: 2828.0000 - fp: 507.0000 - tn: 566.0000 - fn: 327.0000 - accuracy: 0.8027 - precision: 0.8480 - recall: 0.8964 - auc: 0.8515 - val_loss: 0.3850 - val_tp: 724.0000 - val_fp: 121.0000 - val_tn: 148.0000 - val_fn: 65.0000 - val_accuracy: 0.8242 - val_precision: 0.8568 - val_recall: 0.9176 - val_auc: 0.8708\n",
            "Epoch 10/30\n",
            "133/133 [==============================] - 79s 597ms/step - loss: 0.3786 - tp: 2869.0000 - fp: 473.0000 - tn: 600.0000 - fn: 286.0000 - accuracy: 0.8205 - precision: 0.8585 - recall: 0.9094 - auc: 0.8750 - val_loss: 0.3602 - val_tp: 727.0000 - val_fp: 111.0000 - val_tn: 158.0000 - val_fn: 62.0000 - val_accuracy: 0.8365 - val_precision: 0.8675 - val_recall: 0.9214 - val_auc: 0.8887\n",
            "Epoch 11/30\n",
            "133/133 [==============================] - 78s 586ms/step - loss: 0.3528 - tp: 2901.0000 - fp: 441.0000 - tn: 632.0000 - fn: 254.0000 - accuracy: 0.8356 - precision: 0.8680 - recall: 0.9195 - auc: 0.8941 - val_loss: 0.3388 - val_tp: 726.0000 - val_fp: 95.0000 - val_tn: 174.0000 - val_fn: 63.0000 - val_accuracy: 0.8507 - val_precision: 0.8843 - val_recall: 0.9202 - val_auc: 0.9025\n",
            "Epoch 12/30\n",
            "133/133 [==============================] - 77s 581ms/step - loss: 0.3308 - tp: 2911.0000 - fp: 389.0000 - tn: 684.0000 - fn: 244.0000 - accuracy: 0.8503 - precision: 0.8821 - recall: 0.9227 - auc: 0.9090 - val_loss: 0.3205 - val_tp: 731.0000 - val_fp: 89.0000 - val_tn: 180.0000 - val_fn: 58.0000 - val_accuracy: 0.8611 - val_precision: 0.8915 - val_recall: 0.9265 - val_auc: 0.9126\n",
            "Epoch 13/30\n",
            "133/133 [==============================] - 77s 581ms/step - loss: 0.3118 - tp: 2929.0000 - fp: 370.0000 - tn: 703.0000 - fn: 226.0000 - accuracy: 0.8590 - precision: 0.8878 - recall: 0.9284 - auc: 0.9202 - val_loss: 0.3054 - val_tp: 735.0000 - val_fp: 86.0000 - val_tn: 183.0000 - val_fn: 54.0000 - val_accuracy: 0.8677 - val_precision: 0.8952 - val_recall: 0.9316 - val_auc: 0.9212\n",
            "Epoch 14/30\n",
            "133/133 [==============================] - 80s 604ms/step - loss: 0.2952 - tp: 2928.0000 - fp: 311.0000 - tn: 762.0000 - fn: 227.0000 - accuracy: 0.8728 - precision: 0.9040 - recall: 0.9281 - auc: 0.9299 - val_loss: 0.2926 - val_tp: 740.0000 - val_fp: 84.0000 - val_tn: 185.0000 - val_fn: 49.0000 - val_accuracy: 0.8743 - val_precision: 0.8981 - val_recall: 0.9379 - val_auc: 0.9281\n",
            "Epoch 15/30\n",
            "133/133 [==============================] - 78s 584ms/step - loss: 0.2802 - tp: 2945.0000 - fp: 297.0000 - tn: 776.0000 - fn: 210.0000 - accuracy: 0.8801 - precision: 0.9084 - recall: 0.9334 - auc: 0.9375 - val_loss: 0.2807 - val_tp: 744.0000 - val_fp: 81.0000 - val_tn: 188.0000 - val_fn: 45.0000 - val_accuracy: 0.8809 - val_precision: 0.9018 - val_recall: 0.9430 - val_auc: 0.9334\n",
            "Epoch 16/30\n",
            "133/133 [==============================] - 77s 581ms/step - loss: 0.2671 - tp: 2959.0000 - fp: 287.0000 - tn: 786.0000 - fn: 196.0000 - accuracy: 0.8858 - precision: 0.9116 - recall: 0.9379 - auc: 0.9436 - val_loss: 0.2691 - val_tp: 743.0000 - val_fp: 73.0000 - val_tn: 196.0000 - val_fn: 46.0000 - val_accuracy: 0.8875 - val_precision: 0.9105 - val_recall: 0.9417 - val_auc: 0.9385\n",
            "Epoch 17/30\n",
            "133/133 [==============================] - 78s 585ms/step - loss: 0.2558 - tp: 2965.0000 - fp: 252.0000 - tn: 821.0000 - fn: 190.0000 - accuracy: 0.8955 - precision: 0.9217 - recall: 0.9398 - auc: 0.9488 - val_loss: 0.2620 - val_tp: 746.0000 - val_fp: 79.0000 - val_tn: 190.0000 - val_fn: 43.0000 - val_accuracy: 0.8847 - val_precision: 0.9042 - val_recall: 0.9455 - val_auc: 0.9425\n",
            "Epoch 18/30\n",
            "133/133 [==============================] - 82s 614ms/step - loss: 0.2464 - tp: 2962.0000 - fp: 249.0000 - tn: 824.0000 - fn: 193.0000 - accuracy: 0.8955 - precision: 0.9225 - recall: 0.9388 - auc: 0.9527 - val_loss: 0.2532 - val_tp: 748.0000 - val_fp: 75.0000 - val_tn: 194.0000 - val_fn: 41.0000 - val_accuracy: 0.8904 - val_precision: 0.9089 - val_recall: 0.9480 - val_auc: 0.9458\n",
            "Epoch 19/30\n",
            "133/133 [==============================] - 82s 620ms/step - loss: 0.2370 - tp: 2972.0000 - fp: 233.0000 - tn: 840.0000 - fn: 183.0000 - accuracy: 0.9016 - precision: 0.9273 - recall: 0.9420 - auc: 0.9565 - val_loss: 0.2465 - val_tp: 748.0000 - val_fp: 72.0000 - val_tn: 197.0000 - val_fn: 41.0000 - val_accuracy: 0.8932 - val_precision: 0.9122 - val_recall: 0.9480 - val_auc: 0.9487\n",
            "Epoch 20/30\n",
            "133/133 [==============================] - 84s 632ms/step - loss: 0.2288 - tp: 2976.0000 - fp: 221.0000 - tn: 852.0000 - fn: 179.0000 - accuracy: 0.9054 - precision: 0.9309 - recall: 0.9433 - auc: 0.9597 - val_loss: 0.2391 - val_tp: 749.0000 - val_fp: 68.0000 - val_tn: 201.0000 - val_fn: 40.0000 - val_accuracy: 0.8979 - val_precision: 0.9168 - val_recall: 0.9493 - val_auc: 0.9515\n",
            "Epoch 21/30\n",
            "133/133 [==============================] - 82s 618ms/step - loss: 0.2209 - tp: 2985.0000 - fp: 211.0000 - tn: 862.0000 - fn: 170.0000 - accuracy: 0.9099 - precision: 0.9340 - recall: 0.9461 - auc: 0.9625 - val_loss: 0.2328 - val_tp: 744.0000 - val_fp: 50.0000 - val_tn: 219.0000 - val_fn: 45.0000 - val_accuracy: 0.9102 - val_precision: 0.9370 - val_recall: 0.9430 - val_auc: 0.9543\n",
            "Epoch 22/30\n",
            "133/133 [==============================] - 81s 608ms/step - loss: 0.2143 - tp: 2980.0000 - fp: 201.0000 - tn: 872.0000 - fn: 175.0000 - accuracy: 0.9111 - precision: 0.9368 - recall: 0.9445 - auc: 0.9649 - val_loss: 0.2303 - val_tp: 754.0000 - val_fp: 69.0000 - val_tn: 200.0000 - val_fn: 35.0000 - val_accuracy: 0.9017 - val_precision: 0.9162 - val_recall: 0.9556 - val_auc: 0.9560\n",
            "Epoch 23/30\n",
            "133/133 [==============================] - 81s 611ms/step - loss: 0.2082 - tp: 2996.0000 - fp: 202.0000 - tn: 871.0000 - fn: 159.0000 - accuracy: 0.9146 - precision: 0.9368 - recall: 0.9496 - auc: 0.9669 - val_loss: 0.2229 - val_tp: 752.0000 - val_fp: 59.0000 - val_tn: 210.0000 - val_fn: 37.0000 - val_accuracy: 0.9093 - val_precision: 0.9273 - val_recall: 0.9531 - val_auc: 0.9579\n",
            "Epoch 24/30\n",
            "133/133 [==============================] - 80s 601ms/step - loss: 0.2023 - tp: 2994.0000 - fp: 185.0000 - tn: 888.0000 - fn: 161.0000 - accuracy: 0.9182 - precision: 0.9418 - recall: 0.9490 - auc: 0.9688 - val_loss: 0.2223 - val_tp: 757.0000 - val_fp: 66.0000 - val_tn: 203.0000 - val_fn: 32.0000 - val_accuracy: 0.9074 - val_precision: 0.9198 - val_recall: 0.9594 - val_auc: 0.9593\n",
            "Epoch 25/30\n",
            "133/133 [==============================] - 79s 591ms/step - loss: 0.1974 - tp: 3004.0000 - fp: 191.0000 - tn: 882.0000 - fn: 151.0000 - accuracy: 0.9191 - precision: 0.9402 - recall: 0.9521 - auc: 0.9702 - val_loss: 0.2141 - val_tp: 752.0000 - val_fp: 50.0000 - val_tn: 219.0000 - val_fn: 37.0000 - val_accuracy: 0.9178 - val_precision: 0.9377 - val_recall: 0.9531 - val_auc: 0.9610\n",
            "Epoch 26/30\n",
            "133/133 [==============================] - 78s 590ms/step - loss: 0.1923 - tp: 2998.0000 - fp: 183.0000 - tn: 890.0000 - fn: 157.0000 - accuracy: 0.9196 - precision: 0.9425 - recall: 0.9502 - auc: 0.9719 - val_loss: 0.2111 - val_tp: 753.0000 - val_fp: 54.0000 - val_tn: 215.0000 - val_fn: 36.0000 - val_accuracy: 0.9149 - val_precision: 0.9331 - val_recall: 0.9544 - val_auc: 0.9625\n",
            "Epoch 27/30\n",
            "133/133 [==============================] - 80s 605ms/step - loss: 0.1874 - tp: 3000.0000 - fp: 177.0000 - tn: 896.0000 - fn: 155.0000 - accuracy: 0.9215 - precision: 0.9443 - recall: 0.9509 - auc: 0.9733 - val_loss: 0.2076 - val_tp: 753.0000 - val_fp: 53.0000 - val_tn: 216.0000 - val_fn: 36.0000 - val_accuracy: 0.9159 - val_precision: 0.9342 - val_recall: 0.9544 - val_auc: 0.9635\n",
            "Epoch 28/30\n",
            "133/133 [==============================] - 81s 610ms/step - loss: 0.1833 - tp: 3007.0000 - fp: 167.0000 - tn: 906.0000 - fn: 148.0000 - accuracy: 0.9255 - precision: 0.9474 - recall: 0.9531 - auc: 0.9744 - val_loss: 0.2045 - val_tp: 754.0000 - val_fp: 53.0000 - val_tn: 216.0000 - val_fn: 35.0000 - val_accuracy: 0.9168 - val_precision: 0.9343 - val_recall: 0.9556 - val_auc: 0.9647\n",
            "Epoch 29/30\n",
            "133/133 [==============================] - 79s 591ms/step - loss: 0.1790 - tp: 3012.0000 - fp: 167.0000 - tn: 906.0000 - fn: 143.0000 - accuracy: 0.9267 - precision: 0.9475 - recall: 0.9547 - auc: 0.9756 - val_loss: 0.2028 - val_tp: 757.0000 - val_fp: 56.0000 - val_tn: 213.0000 - val_fn: 32.0000 - val_accuracy: 0.9168 - val_precision: 0.9311 - val_recall: 0.9594 - val_auc: 0.9655\n",
            "Epoch 30/30\n",
            "133/133 [==============================] - 79s 590ms/step - loss: 0.1754 - tp: 3017.0000 - fp: 161.0000 - tn: 912.0000 - fn: 138.0000 - accuracy: 0.9293 - precision: 0.9493 - recall: 0.9563 - auc: 0.9766 - val_loss: 0.2001 - val_tp: 757.0000 - val_fp: 56.0000 - val_tn: 213.0000 - val_fn: 32.0000 - val_accuracy: 0.9168 - val_precision: 0.9311 - val_recall: 0.9594 - val_auc: 0.9664\n"
          ]
        }
      ]
    },
    {
      "cell_type": "code",
      "metadata": {
        "id": "T760xOOSVYFx",
        "execution": {
          "iopub.status.busy": "2021-09-05T06:30:36.747238Z",
          "iopub.execute_input": "2021-09-05T06:30:36.74758Z",
          "iopub.status.idle": "2021-09-05T06:30:36.778618Z",
          "shell.execute_reply.started": "2021-09-05T06:30:36.747546Z",
          "shell.execute_reply": "2021-09-05T06:30:36.777862Z"
        },
        "trusted": true,
        "colab": {
          "base_uri": "https://localhost:8080/"
        },
        "outputId": "6ab9cef4-cf10-49e8-f307-3b923cef50f7"
      },
      "source": [
        "model_dense.summary()"
      ],
      "execution_count": null,
      "outputs": [
        {
          "output_type": "stream",
          "name": "stdout",
          "text": [
            "Model: \"model_2\"\n",
            "_________________________________________________________________\n",
            "Layer (type)                 Output Shape              Param #   \n",
            "=================================================================\n",
            "input_layer (InputLayer)     [(None, 224, 224, 3)]     0         \n",
            "_________________________________________________________________\n",
            "densenet121 (Functional)     (None, None, None, 1024)  7037504   \n",
            "_________________________________________________________________\n",
            "global_max_pooling2d_2 (Glob (None, 1024)              0         \n",
            "_________________________________________________________________\n",
            "output_layer (Dense)         (None, 1)                 1025      \n",
            "=================================================================\n",
            "Total params: 7,038,529\n",
            "Trainable params: 1,025\n",
            "Non-trainable params: 7,037,504\n",
            "_________________________________________________________________\n"
          ]
        }
      ]
    },
    {
      "cell_type": "code",
      "metadata": {
        "id": "imdzeho-Vazk",
        "execution": {
          "iopub.status.busy": "2021-09-05T06:30:36.77975Z",
          "iopub.execute_input": "2021-09-05T06:30:36.780088Z",
          "iopub.status.idle": "2021-09-05T06:30:37.280865Z",
          "shell.execute_reply.started": "2021-09-05T06:30:36.780053Z",
          "shell.execute_reply": "2021-09-05T06:30:37.2799Z"
        },
        "trusted": true,
        "colab": {
          "base_uri": "https://localhost:8080/",
          "height": 1000
        },
        "outputId": "da005696-8997-45eb-a4e2-1ddf7db06701"
      },
      "source": [
        "plot_learning_curves(['DenseNet121', history_dense])"
      ],
      "execution_count": null,
      "outputs": [
        {
          "output_type": "display_data",
          "data": {
            "text/html": [
              "<html>\n",
              "<head><meta charset=\"utf-8\" /></head>\n",
              "<body>\n",
              "    <div>\n",
              "            <script src=\"https://cdnjs.cloudflare.com/ajax/libs/mathjax/2.7.5/MathJax.js?config=TeX-AMS-MML_SVG\"></script><script type=\"text/javascript\">if (window.MathJax) {MathJax.Hub.Config({SVG: {font: \"STIX-Web\"}});}</script>\n",
              "                <script type=\"text/javascript\">window.PlotlyConfig = {MathJaxConfig: 'local'};</script>\n",
              "        <script src=\"https://cdn.plot.ly/plotly-latest.min.js\"></script>    \n",
              "            <div id=\"242bf03f-ca47-46f4-9595-1a18624def5f\" class=\"plotly-graph-div\" style=\"height:1500px; width:100%;\"></div>\n",
              "            <script type=\"text/javascript\">\n",
              "                \n",
              "                    window.PLOTLYENV=window.PLOTLYENV || {};\n",
              "                    \n",
              "                if (document.getElementById(\"242bf03f-ca47-46f4-9595-1a18624def5f\")) {\n",
              "                    Plotly.newPlot(\n",
              "                        '242bf03f-ca47-46f4-9595-1a18624def5f',\n",
              "                        [{\"name\": \"DenseNet121 train\", \"type\": \"scatter\", \"x\": [1, 2, 3, 4, 5, 6, 7, 8, 9, 10, 11, 12, 13, 14, 15, 16, 17, 18, 19, 20, 21, 22, 23, 24, 25, 26, 27, 28, 29, 30], \"xaxis\": \"x\", \"y\": [4.378089427947998, 0.7970864772796631, 0.6773853302001953, 0.6252784729003906, 0.5739037394523621, 0.5256581902503967, 0.4811100959777832, 0.4419693052768707, 0.40799084305763245, 0.3786346912384033, 0.3528025150299072, 0.33079004287719727, 0.3118034601211548, 0.295193612575531, 0.2802130877971649, 0.2671493589878082, 0.25582581758499146, 0.24636852741241455, 0.23698511719703674, 0.2288021296262741, 0.22087633609771729, 0.2143447995185852, 0.20815160870552063, 0.20234541594982147, 0.19744689762592316, 0.19226400554180145, 0.18738549947738647, 0.1832531839609146, 0.17896832525730133, 0.17539484798908234], \"yaxis\": \"y\"}, {\"name\": \"DenseNet121 val\", \"type\": \"scatter\", \"x\": [1, 2, 3, 4, 5, 6, 7, 8, 9, 10, 11, 12, 13, 14, 15, 16, 17, 18, 19, 20, 21, 22, 23, 24, 25, 26, 27, 28, 29, 30], \"xaxis\": \"x\", \"y\": [1.127140760421753, 0.6598147749900818, 0.6140576601028442, 0.5679722428321838, 0.5237079858779907, 0.48193681240081787, 0.4453730583190918, 0.41244715452194214, 0.3850255012512207, 0.3601728677749634, 0.33883482217788696, 0.3204929232597351, 0.3054456114768982, 0.29257285594940186, 0.28070929646492004, 0.26907938718795776, 0.2620115578174591, 0.2532302439212799, 0.24648995697498322, 0.23906955122947693, 0.23275823891162872, 0.2302699238061905, 0.22289296984672546, 0.22234636545181274, 0.21409285068511963, 0.21110649406909943, 0.20760224759578705, 0.2044772356748581, 0.2028464823961258, 0.20010848343372345], \"yaxis\": \"y\"}, {\"name\": \"DenseNet121 train\", \"type\": \"scatter\", \"x\": [1, 2, 3, 4, 5, 6, 7, 8, 9, 10, 11, 12, 13, 14, 15, 16, 17, 18, 19, 20, 21, 22, 23, 24, 25, 26, 27, 28, 29, 30], \"xaxis\": \"x2\", \"y\": [0.2248985767364502, 0.6941362619400024, 0.8370839953422546, 0.8516640067100525, 0.8662440776824951, 0.8729001879692078, 0.885578453540802, 0.8928684592247009, 0.8963549733161926, 0.9093502163887024, 0.9194928407669067, 0.9226624369621277, 0.9283676743507385, 0.928050696849823, 0.9334389567375183, 0.9378764033317566, 0.9397781491279602, 0.9388272762298584, 0.9419968128204346, 0.9432646632194519, 0.9461172819137573, 0.9445325136184692, 0.949603796005249, 0.9489699006080627, 0.9521394371986389, 0.9502376914024353, 0.9508716464042664, 0.9530903100967407, 0.9546751379966736, 0.9562599062919617], \"yaxis\": \"y2\"}, {\"name\": \"DenseNet121 val\", \"type\": \"scatter\", \"x\": [1, 2, 3, 4, 5, 6, 7, 8, 9, 10, 11, 12, 13, 14, 15, 16, 17, 18, 19, 20, 21, 22, 23, 24, 25, 26, 27, 28, 29, 30], \"xaxis\": \"x2\", \"y\": [0.32319390773773193, 0.8491761684417725, 0.8631178736686707, 0.8833966851234436, 0.8935361504554749, 0.8986058235168457, 0.9074777960777283, 0.9074777960777283, 0.9176172614097595, 0.9214195013046265, 0.9201520681381226, 0.9264892339706421, 0.9315589070320129, 0.9378960728645325, 0.9429658055305481, 0.9416983723640442, 0.9455006122589111, 0.948035478591919, 0.948035478591919, 0.9493029117584229, 0.9429658055305481, 0.9556400775909424, 0.9531052112579346, 0.9594423174858093, 0.9531052112579346, 0.9543726444244385, 0.9543726444244385, 0.9556400775909424, 0.9594423174858093, 0.9594423174858093], \"yaxis\": \"y2\"}, {\"name\": \"DenseNet121 train\", \"type\": \"scatter\", \"x\": [1, 2, 3, 4, 5, 6, 7, 8, 9, 10, 11, 12, 13, 14, 15, 16, 17, 18, 19, 20, 21, 22, 23, 24, 25, 26, 27, 28, 29, 30], \"xaxis\": \"x3\", \"y\": [0.5918023586273193, 0.5322765707969666, 0.5792452692985535, 0.6322943568229675, 0.6866837739944458, 0.7375049591064453, 0.7828941941261292, 0.8205685615539551, 0.851466953754425, 0.8749937415122986, 0.8940972089767456, 0.9089881777763367, 0.9202200174331665, 0.9299446940422058, 0.9374936819076538, 0.9436267018318176, 0.9488142132759094, 0.9527259469032288, 0.9565367102622986, 0.9596612453460693, 0.9625329375267029, 0.964923620223999, 0.9669362306594849, 0.9688234925270081, 0.9702308773994446, 0.9718666672706604, 0.9733023047447205, 0.9744433760643005, 0.975570797920227, 0.9766270518302917], \"yaxis\": \"y3\"}, {\"name\": \"DenseNet121val\", \"type\": \"scatter\", \"x\": [1, 2, 3, 4, 5, 6, 7, 8, 9, 10, 11, 12, 13, 14, 15, 16, 17, 18, 19, 20, 21, 22, 23, 24, 25, 26, 27, 28, 29, 30], \"xaxis\": \"x3\", \"y\": [0.6032411456108093, 0.6114794015884399, 0.6553752422332764, 0.7018154263496399, 0.7457089424133301, 0.7866764664649963, 0.8208781480789185, 0.8492515087127686, 0.8708495497703552, 0.8887066841125488, 0.9024670124053955, 0.9126206040382385, 0.9212169647216797, 0.9280816912651062, 0.9333634376525879, 0.9385367631912231, 0.9424710869789124, 0.9458399415016174, 0.9487257599830627, 0.9515456557273865, 0.9543420672416687, 0.956031084060669, 0.9579180479049683, 0.9592562317848206, 0.9609689712524414, 0.9624860882759094, 0.9635155200958252, 0.9647098779678345, 0.9655107855796814, 0.966396689414978], \"yaxis\": \"y3\"}],\n",
              "                        {\"annotations\": [{\"font\": {\"size\": 16}, \"showarrow\": false, \"text\": \"Loss\", \"x\": 0.5, \"xanchor\": \"center\", \"xref\": \"paper\", \"y\": 1.0, \"yanchor\": \"bottom\", \"yref\": \"paper\"}, {\"font\": {\"size\": 16}, \"showarrow\": false, \"text\": \"Recall\", \"x\": 0.5, \"xanchor\": \"center\", \"xref\": \"paper\", \"y\": 0.6111111111111112, \"yanchor\": \"bottom\", \"yref\": \"paper\"}, {\"font\": {\"size\": 16}, \"showarrow\": false, \"text\": \"AUC\", \"x\": 0.5, \"xanchor\": \"center\", \"xref\": \"paper\", \"y\": 0.22222222222222224, \"yanchor\": \"bottom\", \"yref\": \"paper\"}], \"height\": 1500, \"template\": {\"data\": {\"bar\": [{\"error_x\": {\"color\": \"#2a3f5f\"}, \"error_y\": {\"color\": \"#2a3f5f\"}, \"marker\": {\"line\": {\"color\": \"#E5ECF6\", \"width\": 0.5}}, \"type\": \"bar\"}], \"barpolar\": [{\"marker\": {\"line\": {\"color\": \"#E5ECF6\", \"width\": 0.5}}, \"type\": \"barpolar\"}], \"carpet\": [{\"aaxis\": {\"endlinecolor\": \"#2a3f5f\", \"gridcolor\": \"white\", \"linecolor\": \"white\", \"minorgridcolor\": \"white\", \"startlinecolor\": \"#2a3f5f\"}, \"baxis\": {\"endlinecolor\": \"#2a3f5f\", \"gridcolor\": \"white\", \"linecolor\": \"white\", \"minorgridcolor\": \"white\", \"startlinecolor\": \"#2a3f5f\"}, \"type\": \"carpet\"}], \"choropleth\": [{\"colorbar\": {\"outlinewidth\": 0, \"ticks\": \"\"}, \"type\": \"choropleth\"}], \"contour\": [{\"colorbar\": {\"outlinewidth\": 0, \"ticks\": \"\"}, \"colorscale\": [[0.0, \"#0d0887\"], [0.1111111111111111, \"#46039f\"], [0.2222222222222222, \"#7201a8\"], [0.3333333333333333, \"#9c179e\"], [0.4444444444444444, \"#bd3786\"], [0.5555555555555556, \"#d8576b\"], [0.6666666666666666, \"#ed7953\"], [0.7777777777777778, \"#fb9f3a\"], [0.8888888888888888, \"#fdca26\"], [1.0, \"#f0f921\"]], \"type\": \"contour\"}], \"contourcarpet\": [{\"colorbar\": {\"outlinewidth\": 0, \"ticks\": \"\"}, \"type\": \"contourcarpet\"}], \"heatmap\": [{\"colorbar\": {\"outlinewidth\": 0, \"ticks\": \"\"}, \"colorscale\": [[0.0, \"#0d0887\"], [0.1111111111111111, \"#46039f\"], [0.2222222222222222, \"#7201a8\"], [0.3333333333333333, \"#9c179e\"], [0.4444444444444444, \"#bd3786\"], [0.5555555555555556, \"#d8576b\"], [0.6666666666666666, \"#ed7953\"], [0.7777777777777778, \"#fb9f3a\"], [0.8888888888888888, \"#fdca26\"], [1.0, \"#f0f921\"]], \"type\": \"heatmap\"}], \"heatmapgl\": [{\"colorbar\": {\"outlinewidth\": 0, \"ticks\": \"\"}, \"colorscale\": [[0.0, \"#0d0887\"], [0.1111111111111111, \"#46039f\"], [0.2222222222222222, \"#7201a8\"], [0.3333333333333333, \"#9c179e\"], [0.4444444444444444, \"#bd3786\"], [0.5555555555555556, \"#d8576b\"], [0.6666666666666666, \"#ed7953\"], [0.7777777777777778, \"#fb9f3a\"], [0.8888888888888888, \"#fdca26\"], [1.0, \"#f0f921\"]], \"type\": \"heatmapgl\"}], \"histogram\": [{\"marker\": {\"colorbar\": {\"outlinewidth\": 0, \"ticks\": \"\"}}, \"type\": \"histogram\"}], \"histogram2d\": [{\"colorbar\": {\"outlinewidth\": 0, \"ticks\": \"\"}, \"colorscale\": [[0.0, \"#0d0887\"], [0.1111111111111111, \"#46039f\"], [0.2222222222222222, \"#7201a8\"], [0.3333333333333333, \"#9c179e\"], [0.4444444444444444, \"#bd3786\"], [0.5555555555555556, \"#d8576b\"], [0.6666666666666666, \"#ed7953\"], [0.7777777777777778, \"#fb9f3a\"], [0.8888888888888888, \"#fdca26\"], [1.0, \"#f0f921\"]], \"type\": \"histogram2d\"}], \"histogram2dcontour\": [{\"colorbar\": {\"outlinewidth\": 0, \"ticks\": \"\"}, \"colorscale\": [[0.0, \"#0d0887\"], [0.1111111111111111, \"#46039f\"], [0.2222222222222222, \"#7201a8\"], [0.3333333333333333, \"#9c179e\"], [0.4444444444444444, \"#bd3786\"], [0.5555555555555556, \"#d8576b\"], [0.6666666666666666, \"#ed7953\"], [0.7777777777777778, \"#fb9f3a\"], [0.8888888888888888, \"#fdca26\"], [1.0, \"#f0f921\"]], \"type\": \"histogram2dcontour\"}], \"mesh3d\": [{\"colorbar\": {\"outlinewidth\": 0, \"ticks\": \"\"}, \"type\": \"mesh3d\"}], \"parcoords\": [{\"line\": {\"colorbar\": {\"outlinewidth\": 0, \"ticks\": \"\"}}, \"type\": \"parcoords\"}], \"pie\": [{\"automargin\": true, \"type\": \"pie\"}], \"scatter\": [{\"marker\": {\"colorbar\": {\"outlinewidth\": 0, \"ticks\": \"\"}}, \"type\": \"scatter\"}], \"scatter3d\": [{\"line\": {\"colorbar\": {\"outlinewidth\": 0, \"ticks\": \"\"}}, \"marker\": {\"colorbar\": {\"outlinewidth\": 0, \"ticks\": \"\"}}, \"type\": \"scatter3d\"}], \"scattercarpet\": [{\"marker\": {\"colorbar\": {\"outlinewidth\": 0, \"ticks\": \"\"}}, \"type\": \"scattercarpet\"}], \"scattergeo\": [{\"marker\": {\"colorbar\": {\"outlinewidth\": 0, \"ticks\": \"\"}}, \"type\": \"scattergeo\"}], \"scattergl\": [{\"marker\": {\"colorbar\": {\"outlinewidth\": 0, \"ticks\": \"\"}}, \"type\": \"scattergl\"}], \"scattermapbox\": [{\"marker\": {\"colorbar\": {\"outlinewidth\": 0, \"ticks\": \"\"}}, \"type\": \"scattermapbox\"}], \"scatterpolar\": [{\"marker\": {\"colorbar\": {\"outlinewidth\": 0, \"ticks\": \"\"}}, \"type\": \"scatterpolar\"}], \"scatterpolargl\": [{\"marker\": {\"colorbar\": {\"outlinewidth\": 0, \"ticks\": \"\"}}, \"type\": \"scatterpolargl\"}], \"scatterternary\": [{\"marker\": {\"colorbar\": {\"outlinewidth\": 0, \"ticks\": \"\"}}, \"type\": \"scatterternary\"}], \"surface\": [{\"colorbar\": {\"outlinewidth\": 0, \"ticks\": \"\"}, \"colorscale\": [[0.0, \"#0d0887\"], [0.1111111111111111, \"#46039f\"], [0.2222222222222222, \"#7201a8\"], [0.3333333333333333, \"#9c179e\"], [0.4444444444444444, \"#bd3786\"], [0.5555555555555556, \"#d8576b\"], [0.6666666666666666, \"#ed7953\"], [0.7777777777777778, \"#fb9f3a\"], [0.8888888888888888, \"#fdca26\"], [1.0, \"#f0f921\"]], \"type\": \"surface\"}], \"table\": [{\"cells\": {\"fill\": {\"color\": \"#EBF0F8\"}, \"line\": {\"color\": \"white\"}}, \"header\": {\"fill\": {\"color\": \"#C8D4E3\"}, \"line\": {\"color\": \"white\"}}, \"type\": \"table\"}]}, \"layout\": {\"annotationdefaults\": {\"arrowcolor\": \"#2a3f5f\", \"arrowhead\": 0, \"arrowwidth\": 1}, \"coloraxis\": {\"colorbar\": {\"outlinewidth\": 0, \"ticks\": \"\"}}, \"colorscale\": {\"diverging\": [[0, \"#8e0152\"], [0.1, \"#c51b7d\"], [0.2, \"#de77ae\"], [0.3, \"#f1b6da\"], [0.4, \"#fde0ef\"], [0.5, \"#f7f7f7\"], [0.6, \"#e6f5d0\"], [0.7, \"#b8e186\"], [0.8, \"#7fbc41\"], [0.9, \"#4d9221\"], [1, \"#276419\"]], \"sequential\": [[0.0, \"#0d0887\"], [0.1111111111111111, \"#46039f\"], [0.2222222222222222, \"#7201a8\"], [0.3333333333333333, \"#9c179e\"], [0.4444444444444444, \"#bd3786\"], [0.5555555555555556, \"#d8576b\"], [0.6666666666666666, \"#ed7953\"], [0.7777777777777778, \"#fb9f3a\"], [0.8888888888888888, \"#fdca26\"], [1.0, \"#f0f921\"]], \"sequentialminus\": [[0.0, \"#0d0887\"], [0.1111111111111111, \"#46039f\"], [0.2222222222222222, \"#7201a8\"], [0.3333333333333333, \"#9c179e\"], [0.4444444444444444, \"#bd3786\"], [0.5555555555555556, \"#d8576b\"], [0.6666666666666666, \"#ed7953\"], [0.7777777777777778, \"#fb9f3a\"], [0.8888888888888888, \"#fdca26\"], [1.0, \"#f0f921\"]]}, \"colorway\": [\"#636efa\", \"#EF553B\", \"#00cc96\", \"#ab63fa\", \"#FFA15A\", \"#19d3f3\", \"#FF6692\", \"#B6E880\", \"#FF97FF\", \"#FECB52\"], \"font\": {\"color\": \"#2a3f5f\"}, \"geo\": {\"bgcolor\": \"white\", \"lakecolor\": \"white\", \"landcolor\": \"#E5ECF6\", \"showlakes\": true, \"showland\": true, \"subunitcolor\": \"white\"}, \"hoverlabel\": {\"align\": \"left\"}, \"hovermode\": \"closest\", \"mapbox\": {\"style\": \"light\"}, \"paper_bgcolor\": \"white\", \"plot_bgcolor\": \"#E5ECF6\", \"polar\": {\"angularaxis\": {\"gridcolor\": \"white\", \"linecolor\": \"white\", \"ticks\": \"\"}, \"bgcolor\": \"#E5ECF6\", \"radialaxis\": {\"gridcolor\": \"white\", \"linecolor\": \"white\", \"ticks\": \"\"}}, \"scene\": {\"xaxis\": {\"backgroundcolor\": \"#E5ECF6\", \"gridcolor\": \"white\", \"gridwidth\": 2, \"linecolor\": \"white\", \"showbackground\": true, \"ticks\": \"\", \"zerolinecolor\": \"white\"}, \"yaxis\": {\"backgroundcolor\": \"#E5ECF6\", \"gridcolor\": \"white\", \"gridwidth\": 2, \"linecolor\": \"white\", \"showbackground\": true, \"ticks\": \"\", \"zerolinecolor\": \"white\"}, \"zaxis\": {\"backgroundcolor\": \"#E5ECF6\", \"gridcolor\": \"white\", \"gridwidth\": 2, \"linecolor\": \"white\", \"showbackground\": true, \"ticks\": \"\", \"zerolinecolor\": \"white\"}}, \"shapedefaults\": {\"line\": {\"color\": \"#2a3f5f\"}}, \"ternary\": {\"aaxis\": {\"gridcolor\": \"white\", \"linecolor\": \"white\", \"ticks\": \"\"}, \"baxis\": {\"gridcolor\": \"white\", \"linecolor\": \"white\", \"ticks\": \"\"}, \"bgcolor\": \"#E5ECF6\", \"caxis\": {\"gridcolor\": \"white\", \"linecolor\": \"white\", \"ticks\": \"\"}}, \"title\": {\"x\": 0.05}, \"xaxis\": {\"automargin\": true, \"gridcolor\": \"white\", \"linecolor\": \"white\", \"ticks\": \"\", \"title\": {\"standoff\": 15}, \"zerolinecolor\": \"white\", \"zerolinewidth\": 2}, \"yaxis\": {\"automargin\": true, \"gridcolor\": \"white\", \"linecolor\": \"white\", \"ticks\": \"\", \"title\": {\"standoff\": 15}, \"zerolinecolor\": \"white\", \"zerolinewidth\": 2}}}, \"title\": {\"text\": \"Learning Curves\"}, \"xaxis\": {\"anchor\": \"y\", \"domain\": [0.0, 1.0], \"title\": {\"text\": \"Epochs\"}}, \"xaxis2\": {\"anchor\": \"y2\", \"domain\": [0.0, 1.0], \"title\": {\"text\": \"Epochs\"}}, \"xaxis3\": {\"anchor\": \"y3\", \"domain\": [0.0, 1.0], \"title\": {\"text\": \"Epochs\"}}, \"yaxis\": {\"anchor\": \"x\", \"domain\": [0.7777777777777778, 1.0], \"title\": {\"text\": \"Loss\"}}, \"yaxis2\": {\"anchor\": \"x2\", \"domain\": [0.3888888888888889, 0.6111111111111112], \"title\": {\"text\": \"Recall\"}}, \"yaxis3\": {\"anchor\": \"x3\", \"domain\": [0.0, 0.22222222222222224], \"title\": {\"text\": \"AUC\"}}},\n",
              "                        {\"responsive\": true}\n",
              "                    ).then(function(){\n",
              "                            \n",
              "var gd = document.getElementById('242bf03f-ca47-46f4-9595-1a18624def5f');\n",
              "var x = new MutationObserver(function (mutations, observer) {{\n",
              "        var display = window.getComputedStyle(gd).display;\n",
              "        if (!display || display === 'none') {{\n",
              "            console.log([gd, 'removed!']);\n",
              "            Plotly.purge(gd);\n",
              "            observer.disconnect();\n",
              "        }}\n",
              "}});\n",
              "\n",
              "// Listen for the removal of the full notebook cells\n",
              "var notebookContainer = gd.closest('#notebook-container');\n",
              "if (notebookContainer) {{\n",
              "    x.observe(notebookContainer, {childList: true});\n",
              "}}\n",
              "\n",
              "// Listen for the clearing of the current output cell\n",
              "var outputEl = gd.closest('.output');\n",
              "if (outputEl) {{\n",
              "    x.observe(outputEl, {childList: true});\n",
              "}}\n",
              "\n",
              "                        })\n",
              "                };\n",
              "                \n",
              "            </script>\n",
              "        </div>\n",
              "</body>\n",
              "</html>"
            ]
          },
          "metadata": {}
        }
      ]
    },
    {
      "cell_type": "markdown",
      "metadata": {
        "id": "ppU_-bQE-5k0"
      },
      "source": [
        "## EfficientNetV2-B0"
      ]
    },
    {
      "cell_type": "code",
      "metadata": {
        "id": "cllXOMeu-5k1",
        "execution": {
          "iopub.status.busy": "2021-09-05T06:30:37.282328Z",
          "iopub.execute_input": "2021-09-05T06:30:37.28269Z"
        },
        "trusted": true,
        "colab": {
          "base_uri": "https://localhost:8080/"
        },
        "outputId": "1f02b505-4a20-48ac-cb1b-0746c2f315fd"
      },
      "source": [
        "tf.random.set_seed(42)\n",
        "\n",
        "# Build model\n",
        "model_efficientnet = create_model(efficientnetv2_url)\n",
        "\n",
        "# Compile model\n",
        "model_efficientnet.compile(loss='binary_crossentropy',\n",
        "                           optimizer=Adam(learning_rate=5e-5),\n",
        "                           metrics=metrics)\n",
        "\n",
        "# Train the model\n",
        "history_efficientnet = model_efficientnet.fit(non_aug_train_rgb, epochs=30,\n",
        "                                              validation_data=non_aug_valid_rgb,\n",
        "                                              steps_per_epoch=len(non_aug_train_rgb),\n",
        "                                              validation_steps=len(non_aug_valid_rgb),\n",
        "                                              callbacks=callbacks)\n",
        "\n",
        "# Save history\n",
        "MODEL_HISTORY.append(['EfficientNetV2-B0', history_efficientnet])"
      ],
      "execution_count": null,
      "outputs": [
        {
          "output_type": "stream",
          "name": "stdout",
          "text": [
            "Epoch 1/30\n",
            "133/133 [==============================] - 85s 567ms/step - loss: 0.7459 - tp: 2287.0000 - fp: 541.0000 - tn: 801.0000 - fn: 1657.0000 - accuracy: 0.5009 - precision: 0.8087 - recall: 0.5799 - auc: 0.6495 - val_loss: 0.5727 - val_tp: 741.0000 - val_fp: 241.0000 - val_tn: 28.0000 - val_fn: 48.0000 - val_accuracy: 0.7268 - val_precision: 0.7546 - val_recall: 0.9392 - val_auc: 0.6182\n",
            "Epoch 2/30\n",
            "133/133 [==============================] - 73s 551ms/step - loss: 0.5325 - tp: 3095.0000 - fp: 1044.0000 - tn: 29.0000 - fn: 60.0000 - accuracy: 0.7389 - precision: 0.7478 - recall: 0.9810 - auc: 0.6909 - val_loss: 0.4986 - val_tp: 782.0000 - val_fp: 264.0000 - val_tn: 5.0000 - val_fn: 7.0000 - val_accuracy: 0.7439 - val_precision: 0.7476 - val_recall: 0.9911 - val_auc: 0.7766\n",
            "Epoch 3/30\n",
            "133/133 [==============================] - 72s 543ms/step - loss: 0.4760 - tp: 3136.0000 - fp: 1047.0000 - tn: 26.0000 - fn: 19.0000 - accuracy: 0.7479 - precision: 0.7497 - recall: 0.9940 - auc: 0.8231 - val_loss: 0.4510 - val_tp: 783.0000 - val_fp: 254.0000 - val_tn: 15.0000 - val_fn: 6.0000 - val_accuracy: 0.7543 - val_precision: 0.7551 - val_recall: 0.9924 - val_auc: 0.8670\n",
            "Epoch 4/30\n",
            "133/133 [==============================] - 73s 547ms/step - loss: 0.4318 - tp: 3132.0000 - fp: 976.0000 - tn: 97.0000 - fn: 23.0000 - accuracy: 0.7637 - precision: 0.7624 - recall: 0.9927 - auc: 0.8915 - val_loss: 0.4109 - val_tp: 783.0000 - val_fp: 235.0000 - val_tn: 34.0000 - val_fn: 6.0000 - val_accuracy: 0.7722 - val_precision: 0.7692 - val_recall: 0.9924 - val_auc: 0.9140\n",
            "Epoch 5/30\n",
            "133/133 [==============================] - 74s 554ms/step - loss: 0.3945 - tp: 3126.0000 - fp: 827.0000 - tn: 246.0000 - fn: 29.0000 - accuracy: 0.7975 - precision: 0.7908 - recall: 0.9908 - auc: 0.9272 - val_loss: 0.3764 - val_tp: 783.0000 - val_fp: 192.0000 - val_tn: 77.0000 - val_fn: 6.0000 - val_accuracy: 0.8129 - val_precision: 0.8031 - val_recall: 0.9924 - val_auc: 0.9392\n",
            "Epoch 6/30\n",
            "133/133 [==============================] - 73s 551ms/step - loss: 0.3625 - tp: 3118.0000 - fp: 636.0000 - tn: 437.0000 - fn: 37.0000 - accuracy: 0.8408 - precision: 0.8306 - recall: 0.9883 - auc: 0.9463 - val_loss: 0.3468 - val_tp: 783.0000 - val_fp: 147.0000 - val_tn: 122.0000 - val_fn: 6.0000 - val_accuracy: 0.8554 - val_precision: 0.8419 - val_recall: 0.9924 - val_auc: 0.9539\n",
            "Epoch 7/30\n",
            "133/133 [==============================] - 73s 549ms/step - loss: 0.3356 - tp: 3107.0000 - fp: 497.0000 - tn: 576.0000 - fn: 48.0000 - accuracy: 0.8711 - precision: 0.8621 - recall: 0.9848 - auc: 0.9584 - val_loss: 0.3219 - val_tp: 784.0000 - val_fp: 117.0000 - val_tn: 152.0000 - val_fn: 5.0000 - val_accuracy: 0.8847 - val_precision: 0.8701 - val_recall: 0.9937 - val_auc: 0.9629\n",
            "Epoch 8/30\n",
            "133/133 [==============================] - 72s 542ms/step - loss: 0.3128 - tp: 3100.0000 - fp: 404.0000 - tn: 669.0000 - fn: 55.0000 - accuracy: 0.8914 - precision: 0.8847 - recall: 0.9826 - auc: 0.9652 - val_loss: 0.3013 - val_tp: 785.0000 - val_fp: 98.0000 - val_tn: 171.0000 - val_fn: 4.0000 - val_accuracy: 0.9036 - val_precision: 0.8890 - val_recall: 0.9949 - val_auc: 0.9682\n",
            "Epoch 9/30\n",
            "133/133 [==============================] - 72s 543ms/step - loss: 0.2932 - tp: 3096.0000 - fp: 323.0000 - tn: 750.0000 - fn: 59.0000 - accuracy: 0.9096 - precision: 0.9055 - recall: 0.9813 - auc: 0.9703 - val_loss: 0.2834 - val_tp: 785.0000 - val_fp: 90.0000 - val_tn: 179.0000 - val_fn: 4.0000 - val_accuracy: 0.9112 - val_precision: 0.8971 - val_recall: 0.9949 - val_auc: 0.9722\n",
            "Epoch 10/30\n",
            "133/133 [==============================] - 72s 540ms/step - loss: 0.2761 - tp: 3096.0000 - fp: 285.0000 - tn: 788.0000 - fn: 59.0000 - accuracy: 0.9186 - precision: 0.9157 - recall: 0.9813 - auc: 0.9736 - val_loss: 0.2670 - val_tp: 782.0000 - val_fp: 77.0000 - val_tn: 192.0000 - val_fn: 7.0000 - val_accuracy: 0.9206 - val_precision: 0.9104 - val_recall: 0.9911 - val_auc: 0.9756\n",
            "Epoch 11/30\n",
            "133/133 [==============================] - 72s 539ms/step - loss: 0.2612 - tp: 3091.0000 - fp: 249.0000 - tn: 824.0000 - fn: 64.0000 - accuracy: 0.9260 - precision: 0.9254 - recall: 0.9797 - auc: 0.9763 - val_loss: 0.2529 - val_tp: 779.0000 - val_fp: 64.0000 - val_tn: 205.0000 - val_fn: 10.0000 - val_accuracy: 0.9301 - val_precision: 0.9241 - val_recall: 0.9873 - val_auc: 0.9780\n",
            "Epoch 12/30\n",
            "133/133 [==============================] - 72s 540ms/step - loss: 0.2480 - tp: 3086.0000 - fp: 214.0000 - tn: 859.0000 - fn: 69.0000 - accuracy: 0.9331 - precision: 0.9352 - recall: 0.9781 - auc: 0.9786 - val_loss: 0.2404 - val_tp: 775.0000 - val_fp: 57.0000 - val_tn: 212.0000 - val_fn: 14.0000 - val_accuracy: 0.9329 - val_precision: 0.9315 - val_recall: 0.9823 - val_auc: 0.9798\n",
            "Epoch 13/30\n",
            "133/133 [==============================] - 72s 542ms/step - loss: 0.2366 - tp: 3082.0000 - fp: 197.0000 - tn: 876.0000 - fn: 73.0000 - accuracy: 0.9361 - precision: 0.9399 - recall: 0.9769 - auc: 0.9800 - val_loss: 0.2298 - val_tp: 776.0000 - val_fp: 55.0000 - val_tn: 214.0000 - val_fn: 13.0000 - val_accuracy: 0.9357 - val_precision: 0.9338 - val_recall: 0.9835 - val_auc: 0.9812\n",
            "Epoch 14/30\n",
            "133/133 [==============================] - 71s 535ms/step - loss: 0.2263 - tp: 3083.0000 - fp: 185.0000 - tn: 888.0000 - fn: 72.0000 - accuracy: 0.9392 - precision: 0.9434 - recall: 0.9772 - auc: 0.9815 - val_loss: 0.2204 - val_tp: 776.0000 - val_fp: 55.0000 - val_tn: 214.0000 - val_fn: 13.0000 - val_accuracy: 0.9357 - val_precision: 0.9338 - val_recall: 0.9835 - val_auc: 0.9823\n",
            "Epoch 15/30\n",
            "133/133 [==============================] - 72s 540ms/step - loss: 0.2170 - tp: 3077.0000 - fp: 159.0000 - tn: 914.0000 - fn: 78.0000 - accuracy: 0.9439 - precision: 0.9509 - recall: 0.9753 - auc: 0.9826 - val_loss: 0.2123 - val_tp: 778.0000 - val_fp: 53.0000 - val_tn: 216.0000 - val_fn: 11.0000 - val_accuracy: 0.9395 - val_precision: 0.9362 - val_recall: 0.9861 - val_auc: 0.9832\n",
            "Epoch 16/30\n",
            "133/133 [==============================] - 77s 579ms/step - loss: 0.2089 - tp: 3080.0000 - fp: 168.0000 - tn: 905.0000 - fn: 75.0000 - accuracy: 0.9425 - precision: 0.9483 - recall: 0.9762 - auc: 0.9835 - val_loss: 0.2041 - val_tp: 776.0000 - val_fp: 46.0000 - val_tn: 223.0000 - val_fn: 13.0000 - val_accuracy: 0.9442 - val_precision: 0.9440 - val_recall: 0.9835 - val_auc: 0.9842\n",
            "Epoch 17/30\n",
            "133/133 [==============================] - 73s 551ms/step - loss: 0.2013 - tp: 3072.0000 - fp: 148.0000 - tn: 925.0000 - fn: 83.0000 - accuracy: 0.9454 - precision: 0.9540 - recall: 0.9737 - auc: 0.9844 - val_loss: 0.1970 - val_tp: 776.0000 - val_fp: 45.0000 - val_tn: 224.0000 - val_fn: 13.0000 - val_accuracy: 0.9452 - val_precision: 0.9452 - val_recall: 0.9835 - val_auc: 0.9849\n",
            "Epoch 18/30\n",
            "133/133 [==============================] - 76s 569ms/step - loss: 0.1946 - tp: 3070.0000 - fp: 144.0000 - tn: 929.0000 - fn: 85.0000 - accuracy: 0.9458 - precision: 0.9552 - recall: 0.9731 - auc: 0.9851 - val_loss: 0.1904 - val_tp: 774.0000 - val_fp: 39.0000 - val_tn: 230.0000 - val_fn: 15.0000 - val_accuracy: 0.9490 - val_precision: 0.9520 - val_recall: 0.9810 - val_auc: 0.9856\n",
            "Epoch 19/30\n",
            "133/133 [==============================] - 75s 563ms/step - loss: 0.1884 - tp: 3070.0000 - fp: 139.0000 - tn: 934.0000 - fn: 85.0000 - accuracy: 0.9470 - precision: 0.9567 - recall: 0.9731 - auc: 0.9858 - val_loss: 0.1844 - val_tp: 773.0000 - val_fp: 36.0000 - val_tn: 233.0000 - val_fn: 16.0000 - val_accuracy: 0.9509 - val_precision: 0.9555 - val_recall: 0.9797 - val_auc: 0.9862\n",
            "Epoch 20/30\n",
            "133/133 [==============================] - 75s 567ms/step - loss: 0.1825 - tp: 3070.0000 - fp: 130.0000 - tn: 943.0000 - fn: 85.0000 - accuracy: 0.9491 - precision: 0.9594 - recall: 0.9731 - auc: 0.9864 - val_loss: 0.1795 - val_tp: 774.0000 - val_fp: 37.0000 - val_tn: 232.0000 - val_fn: 15.0000 - val_accuracy: 0.9509 - val_precision: 0.9544 - val_recall: 0.9810 - val_auc: 0.9867\n",
            "Epoch 21/30\n",
            "133/133 [==============================] - 77s 581ms/step - loss: 0.1775 - tp: 3071.0000 - fp: 128.0000 - tn: 945.0000 - fn: 84.0000 - accuracy: 0.9499 - precision: 0.9600 - recall: 0.9734 - auc: 0.9868 - val_loss: 0.1747 - val_tp: 774.0000 - val_fp: 37.0000 - val_tn: 232.0000 - val_fn: 15.0000 - val_accuracy: 0.9509 - val_precision: 0.9544 - val_recall: 0.9810 - val_auc: 0.9871\n",
            "Epoch 22/30\n",
            "133/133 [==============================] - 81s 608ms/step - loss: 0.1726 - tp: 3077.0000 - fp: 131.0000 - tn: 942.0000 - fn: 78.0000 - accuracy: 0.9506 - precision: 0.9592 - recall: 0.9753 - auc: 0.9873 - val_loss: 0.1696 - val_tp: 772.0000 - val_fp: 31.0000 - val_tn: 238.0000 - val_fn: 17.0000 - val_accuracy: 0.9546 - val_precision: 0.9614 - val_recall: 0.9785 - val_auc: 0.9876\n",
            "Epoch 23/30\n",
            "133/133 [==============================] - 74s 554ms/step - loss: 0.1682 - tp: 3074.0000 - fp: 125.0000 - tn: 948.0000 - fn: 81.0000 - accuracy: 0.9513 - precision: 0.9609 - recall: 0.9743 - auc: 0.9877 - val_loss: 0.1658 - val_tp: 772.0000 - val_fp: 33.0000 - val_tn: 236.0000 - val_fn: 17.0000 - val_accuracy: 0.9527 - val_precision: 0.9590 - val_recall: 0.9785 - val_auc: 0.9879\n",
            "Epoch 24/30\n",
            "133/133 [==============================] - 73s 550ms/step - loss: 0.1639 - tp: 3073.0000 - fp: 120.0000 - tn: 953.0000 - fn: 82.0000 - accuracy: 0.9522 - precision: 0.9624 - recall: 0.9740 - auc: 0.9882 - val_loss: 0.1617 - val_tp: 771.0000 - val_fp: 31.0000 - val_tn: 238.0000 - val_fn: 18.0000 - val_accuracy: 0.9537 - val_precision: 0.9613 - val_recall: 0.9772 - val_auc: 0.9883\n",
            "Epoch 25/30\n",
            "133/133 [==============================] - 74s 555ms/step - loss: 0.1601 - tp: 3065.0000 - fp: 113.0000 - tn: 960.0000 - fn: 90.0000 - accuracy: 0.9520 - precision: 0.9644 - recall: 0.9715 - auc: 0.9886 - val_loss: 0.1584 - val_tp: 771.0000 - val_fp: 31.0000 - val_tn: 238.0000 - val_fn: 18.0000 - val_accuracy: 0.9537 - val_precision: 0.9613 - val_recall: 0.9772 - val_auc: 0.9884\n",
            "Epoch 26/30\n",
            "133/133 [==============================] - 75s 564ms/step - loss: 0.1565 - tp: 3077.0000 - fp: 121.0000 - tn: 952.0000 - fn: 78.0000 - accuracy: 0.9529 - precision: 0.9622 - recall: 0.9753 - auc: 0.9889 - val_loss: 0.1550 - val_tp: 771.0000 - val_fp: 31.0000 - val_tn: 238.0000 - val_fn: 18.0000 - val_accuracy: 0.9537 - val_precision: 0.9613 - val_recall: 0.9772 - val_auc: 0.9887\n",
            "Epoch 27/30\n",
            "133/133 [==============================] - 75s 563ms/step - loss: 0.1531 - tp: 3073.0000 - fp: 111.0000 - tn: 962.0000 - fn: 82.0000 - accuracy: 0.9544 - precision: 0.9651 - recall: 0.9740 - auc: 0.9892 - val_loss: 0.1518 - val_tp: 771.0000 - val_fp: 30.0000 - val_tn: 239.0000 - val_fn: 18.0000 - val_accuracy: 0.9546 - val_precision: 0.9625 - val_recall: 0.9772 - val_auc: 0.9890\n",
            "Epoch 28/30\n",
            "133/133 [==============================] - 75s 562ms/step - loss: 0.1500 - tp: 3072.0000 - fp: 115.0000 - tn: 958.0000 - fn: 83.0000 - accuracy: 0.9532 - precision: 0.9639 - recall: 0.9737 - auc: 0.9895 - val_loss: 0.1484 - val_tp: 768.0000 - val_fp: 29.0000 - val_tn: 240.0000 - val_fn: 21.0000 - val_accuracy: 0.9527 - val_precision: 0.9636 - val_recall: 0.9734 - val_auc: 0.9892\n",
            "Epoch 29/30\n",
            "133/133 [==============================] - 75s 566ms/step - loss: 0.1470 - tp: 3074.0000 - fp: 113.0000 - tn: 960.0000 - fn: 81.0000 - accuracy: 0.9541 - precision: 0.9645 - recall: 0.9743 - auc: 0.9898 - val_loss: 0.1456 - val_tp: 768.0000 - val_fp: 29.0000 - val_tn: 240.0000 - val_fn: 21.0000 - val_accuracy: 0.9527 - val_precision: 0.9636 - val_recall: 0.9734 - val_auc: 0.9895\n",
            "Epoch 30/30\n",
            "133/133 [==============================] - 75s 564ms/step - loss: 0.1442 - tp: 3074.0000 - fp: 108.0000 - tn: 965.0000 - fn: 81.0000 - accuracy: 0.9553 - precision: 0.9661 - recall: 0.9743 - auc: 0.9901 - val_loss: 0.1431 - val_tp: 769.0000 - val_fp: 29.0000 - val_tn: 240.0000 - val_fn: 20.0000 - val_accuracy: 0.9537 - val_precision: 0.9637 - val_recall: 0.9747 - val_auc: 0.9897\n"
          ]
        }
      ]
    },
    {
      "cell_type": "code",
      "metadata": {
        "id": "aP_bQPy2jYPy",
        "trusted": true,
        "colab": {
          "base_uri": "https://localhost:8080/"
        },
        "outputId": "349233be-fdc9-473e-f698-4d0ebacf5a07"
      },
      "source": [
        "model_efficientnet.summary()"
      ],
      "execution_count": null,
      "outputs": [
        {
          "output_type": "stream",
          "name": "stdout",
          "text": [
            "Model: \"sequential\"\n",
            "_________________________________________________________________\n",
            "Layer (type)                 Output Shape              Param #   \n",
            "=================================================================\n",
            "feature_extraction_layer (Ke (None, 1280)              5919312   \n",
            "_________________________________________________________________\n",
            "output_layer (Dense)         (None, 1)                 1281      \n",
            "=================================================================\n",
            "Total params: 5,920,593\n",
            "Trainable params: 1,281\n",
            "Non-trainable params: 5,919,312\n",
            "_________________________________________________________________\n"
          ]
        }
      ]
    },
    {
      "cell_type": "code",
      "metadata": {
        "colab": {
          "base_uri": "https://localhost:8080/",
          "height": 1000
        },
        "id": "2c07_b5Lbhs6",
        "outputId": "f9724233-9b6e-4df5-ac89-14122f6eedcb"
      },
      "source": [
        "plot_learning_curves(['EfficientNetV2-B0', history_efficientnet])"
      ],
      "execution_count": null,
      "outputs": [
        {
          "output_type": "display_data",
          "data": {
            "text/html": [
              "<html>\n",
              "<head><meta charset=\"utf-8\" /></head>\n",
              "<body>\n",
              "    <div>\n",
              "            <script src=\"https://cdnjs.cloudflare.com/ajax/libs/mathjax/2.7.5/MathJax.js?config=TeX-AMS-MML_SVG\"></script><script type=\"text/javascript\">if (window.MathJax) {MathJax.Hub.Config({SVG: {font: \"STIX-Web\"}});}</script>\n",
              "                <script type=\"text/javascript\">window.PlotlyConfig = {MathJaxConfig: 'local'};</script>\n",
              "        <script src=\"https://cdn.plot.ly/plotly-latest.min.js\"></script>    \n",
              "            <div id=\"72117608-9664-498c-b22d-09cbb038446b\" class=\"plotly-graph-div\" style=\"height:1500px; width:100%;\"></div>\n",
              "            <script type=\"text/javascript\">\n",
              "                \n",
              "                    window.PLOTLYENV=window.PLOTLYENV || {};\n",
              "                    \n",
              "                if (document.getElementById(\"72117608-9664-498c-b22d-09cbb038446b\")) {\n",
              "                    Plotly.newPlot(\n",
              "                        '72117608-9664-498c-b22d-09cbb038446b',\n",
              "                        [{\"name\": \"EfficientNetV2-B0 train\", \"type\": \"scatter\", \"x\": [1, 2, 3, 4, 5, 6, 7, 8, 9, 10, 11, 12, 13, 14, 15, 16, 17, 18, 19, 20, 21, 22, 23, 24, 25, 26, 27, 28, 29, 30], \"xaxis\": \"x\", \"y\": [0.7458680868148804, 0.532501220703125, 0.47604426741600037, 0.43179792165756226, 0.3944973051548004, 0.3624955117702484, 0.3356401026248932, 0.31275805830955505, 0.2931840419769287, 0.27609115839004517, 0.2611597180366516, 0.24802207946777344, 0.2365504503250122, 0.22629454731941223, 0.21704818308353424, 0.20888666808605194, 0.20130866765975952, 0.1945825219154358, 0.18837633728981018, 0.1825408786535263, 0.1775047481060028, 0.17259521782398224, 0.16816802322864532, 0.16392755508422852, 0.16009581089019775, 0.156521737575531, 0.15313513576984406, 0.15000690519809723, 0.14699366688728333, 0.14419299364089966], \"yaxis\": \"y\"}, {\"name\": \"EfficientNetV2-B0 val\", \"type\": \"scatter\", \"x\": [1, 2, 3, 4, 5, 6, 7, 8, 9, 10, 11, 12, 13, 14, 15, 16, 17, 18, 19, 20, 21, 22, 23, 24, 25, 26, 27, 28, 29, 30], \"xaxis\": \"x\", \"y\": [0.5726664066314697, 0.49863725900650024, 0.4509718418121338, 0.4109311103820801, 0.3763755261898041, 0.34677854180336, 0.32189178466796875, 0.3012591302394867, 0.28342247009277344, 0.2670198976993561, 0.2529277503490448, 0.2404404729604721, 0.22979433834552765, 0.22040300071239471, 0.21227571368217468, 0.20405705273151398, 0.19695477187633514, 0.19036683440208435, 0.18438860774040222, 0.1795257031917572, 0.17467212677001953, 0.16961362957954407, 0.16577623784542084, 0.16171906888484955, 0.15836897492408752, 0.15498223900794983, 0.15182079374790192, 0.148428276181221, 0.14558763802051544, 0.1430719792842865], \"yaxis\": \"y\"}, {\"name\": \"EfficientNetV2-B0 train\", \"type\": \"scatter\", \"x\": [1, 2, 3, 4, 5, 6, 7, 8, 9, 10, 11, 12, 13, 14, 15, 16, 17, 18, 19, 20, 21, 22, 23, 24, 25, 26, 27, 28, 29, 30], \"xaxis\": \"x2\", \"y\": [0.5798681378364563, 0.9809825420379639, 0.9939777851104736, 0.9927099943161011, 0.9908082485198975, 0.9882726073265076, 0.9847860336303711, 0.9825673699378967, 0.9812995195388794, 0.9812995195388794, 0.9797147512435913, 0.9781299233436584, 0.9768621325492859, 0.9771791100502014, 0.9752773642539978, 0.9762282371520996, 0.9736925363540649, 0.9730586409568787, 0.9730586409568787, 0.9730586409568787, 0.9733756184577942, 0.9752773642539978, 0.974326491355896, 0.9740095138549805, 0.9714738726615906, 0.9752773642539978, 0.9740095138549805, 0.9736925363540649, 0.974326491355896, 0.974326491355896], \"yaxis\": \"y2\"}, {\"name\": \"EfficientNetV2-B0 val\", \"type\": \"scatter\", \"x\": [1, 2, 3, 4, 5, 6, 7, 8, 9, 10, 11, 12, 13, 14, 15, 16, 17, 18, 19, 20, 21, 22, 23, 24, 25, 26, 27, 28, 29, 30], \"xaxis\": \"x2\", \"y\": [0.9391635060310364, 0.9911280274391174, 0.9923954606056213, 0.9923954606056213, 0.9923954606056213, 0.9923954606056213, 0.9936628937721252, 0.9949302673339844, 0.9949302673339844, 0.9911280274391174, 0.9873257279396057, 0.9822559952735901, 0.983523428440094, 0.983523428440094, 0.9860582947731018, 0.983523428440094, 0.983523428440094, 0.980988621711731, 0.979721188545227, 0.980988621711731, 0.980988621711731, 0.9784537553787231, 0.9784537553787231, 0.9771863222122192, 0.9771863222122192, 0.9771863222122192, 0.9771863222122192, 0.9733840227127075, 0.9733840227127075, 0.9746514558792114], \"yaxis\": \"y2\"}, {\"name\": \"EfficientNetV2-B0 train\", \"type\": \"scatter\", \"x\": [1, 2, 3, 4, 5, 6, 7, 8, 9, 10, 11, 12, 13, 14, 15, 16, 17, 18, 19, 20, 21, 22, 23, 24, 25, 26, 27, 28, 29, 30], \"xaxis\": \"x3\", \"y\": [0.6494952440261841, 0.6909111142158508, 0.8231350183486938, 0.8915370106697083, 0.9271958470344543, 0.9463324546813965, 0.9584462642669678, 0.9652336835861206, 0.9702993035316467, 0.9735785126686096, 0.9763143062591553, 0.9785588979721069, 0.980026364326477, 0.9814924597740173, 0.9826388955116272, 0.9834997653961182, 0.9844046235084534, 0.9850525259971619, 0.9857834577560425, 0.986362874507904, 0.9868428707122803, 0.9873406291007996, 0.9876824617385864, 0.9882212281227112, 0.9885709881782532, 0.9889116883277893, 0.9891905784606934, 0.9895205497741699, 0.989842414855957, 0.9900559782981873], \"yaxis\": \"y3\"}, {\"name\": \"EfficientNetV2-B0val\", \"type\": \"scatter\", \"x\": [1, 2, 3, 4, 5, 6, 7, 8, 9, 10, 11, 12, 13, 14, 15, 16, 17, 18, 19, 20, 21, 22, 23, 24, 25, 26, 27, 28, 29, 30], \"xaxis\": \"x3\", \"y\": [0.6181981563568115, 0.7766454219818115, 0.8670260906219482, 0.9139775633811951, 0.9391729235649109, 0.9538803100585938, 0.9629053473472595, 0.968241274356842, 0.9722201824188232, 0.9756103157997131, 0.9779707789421082, 0.9798318147659302, 0.9812477231025696, 0.9822960495948792, 0.9832241535186768, 0.9842066168785095, 0.9849463701248169, 0.9856248497962952, 0.9861690402030945, 0.9867249727249146, 0.9871490597724915, 0.9876461029052734, 0.9879217147827148, 0.9882867932319641, 0.9884400367736816, 0.988732099533081, 0.989007830619812, 0.9892269372940063, 0.9895213842391968, 0.9896650314331055], \"yaxis\": \"y3\"}],\n",
              "                        {\"annotations\": [{\"font\": {\"size\": 16}, \"showarrow\": false, \"text\": \"Loss\", \"x\": 0.5, \"xanchor\": \"center\", \"xref\": \"paper\", \"y\": 1.0, \"yanchor\": \"bottom\", \"yref\": \"paper\"}, {\"font\": {\"size\": 16}, \"showarrow\": false, \"text\": \"Recall\", \"x\": 0.5, \"xanchor\": \"center\", \"xref\": \"paper\", \"y\": 0.6111111111111112, \"yanchor\": \"bottom\", \"yref\": \"paper\"}, {\"font\": {\"size\": 16}, \"showarrow\": false, \"text\": \"AUC\", \"x\": 0.5, \"xanchor\": \"center\", \"xref\": \"paper\", \"y\": 0.22222222222222224, \"yanchor\": \"bottom\", \"yref\": \"paper\"}], \"height\": 1500, \"template\": {\"data\": {\"bar\": [{\"error_x\": {\"color\": \"#2a3f5f\"}, \"error_y\": {\"color\": \"#2a3f5f\"}, \"marker\": {\"line\": {\"color\": \"#E5ECF6\", \"width\": 0.5}}, \"type\": \"bar\"}], \"barpolar\": [{\"marker\": {\"line\": {\"color\": \"#E5ECF6\", \"width\": 0.5}}, \"type\": \"barpolar\"}], \"carpet\": [{\"aaxis\": {\"endlinecolor\": \"#2a3f5f\", \"gridcolor\": \"white\", \"linecolor\": \"white\", \"minorgridcolor\": \"white\", \"startlinecolor\": \"#2a3f5f\"}, \"baxis\": {\"endlinecolor\": \"#2a3f5f\", \"gridcolor\": \"white\", \"linecolor\": \"white\", \"minorgridcolor\": \"white\", \"startlinecolor\": \"#2a3f5f\"}, \"type\": \"carpet\"}], \"choropleth\": [{\"colorbar\": {\"outlinewidth\": 0, \"ticks\": \"\"}, \"type\": \"choropleth\"}], \"contour\": [{\"colorbar\": {\"outlinewidth\": 0, \"ticks\": \"\"}, \"colorscale\": [[0.0, \"#0d0887\"], [0.1111111111111111, \"#46039f\"], [0.2222222222222222, \"#7201a8\"], [0.3333333333333333, \"#9c179e\"], [0.4444444444444444, \"#bd3786\"], [0.5555555555555556, \"#d8576b\"], [0.6666666666666666, \"#ed7953\"], [0.7777777777777778, \"#fb9f3a\"], [0.8888888888888888, \"#fdca26\"], [1.0, \"#f0f921\"]], \"type\": \"contour\"}], \"contourcarpet\": [{\"colorbar\": {\"outlinewidth\": 0, \"ticks\": \"\"}, \"type\": \"contourcarpet\"}], \"heatmap\": [{\"colorbar\": {\"outlinewidth\": 0, \"ticks\": \"\"}, \"colorscale\": [[0.0, \"#0d0887\"], [0.1111111111111111, \"#46039f\"], [0.2222222222222222, \"#7201a8\"], [0.3333333333333333, \"#9c179e\"], [0.4444444444444444, \"#bd3786\"], [0.5555555555555556, \"#d8576b\"], [0.6666666666666666, \"#ed7953\"], [0.7777777777777778, \"#fb9f3a\"], [0.8888888888888888, \"#fdca26\"], [1.0, \"#f0f921\"]], \"type\": \"heatmap\"}], \"heatmapgl\": [{\"colorbar\": {\"outlinewidth\": 0, \"ticks\": \"\"}, \"colorscale\": [[0.0, \"#0d0887\"], [0.1111111111111111, \"#46039f\"], [0.2222222222222222, \"#7201a8\"], [0.3333333333333333, \"#9c179e\"], [0.4444444444444444, \"#bd3786\"], [0.5555555555555556, \"#d8576b\"], [0.6666666666666666, \"#ed7953\"], [0.7777777777777778, \"#fb9f3a\"], [0.8888888888888888, \"#fdca26\"], [1.0, \"#f0f921\"]], \"type\": \"heatmapgl\"}], \"histogram\": [{\"marker\": {\"colorbar\": {\"outlinewidth\": 0, \"ticks\": \"\"}}, \"type\": \"histogram\"}], \"histogram2d\": [{\"colorbar\": {\"outlinewidth\": 0, \"ticks\": \"\"}, \"colorscale\": [[0.0, \"#0d0887\"], [0.1111111111111111, \"#46039f\"], [0.2222222222222222, \"#7201a8\"], [0.3333333333333333, \"#9c179e\"], [0.4444444444444444, \"#bd3786\"], [0.5555555555555556, \"#d8576b\"], [0.6666666666666666, \"#ed7953\"], [0.7777777777777778, \"#fb9f3a\"], [0.8888888888888888, \"#fdca26\"], [1.0, \"#f0f921\"]], \"type\": \"histogram2d\"}], \"histogram2dcontour\": [{\"colorbar\": {\"outlinewidth\": 0, \"ticks\": \"\"}, \"colorscale\": [[0.0, \"#0d0887\"], [0.1111111111111111, \"#46039f\"], [0.2222222222222222, \"#7201a8\"], [0.3333333333333333, \"#9c179e\"], [0.4444444444444444, \"#bd3786\"], [0.5555555555555556, \"#d8576b\"], [0.6666666666666666, \"#ed7953\"], [0.7777777777777778, \"#fb9f3a\"], [0.8888888888888888, \"#fdca26\"], [1.0, \"#f0f921\"]], \"type\": \"histogram2dcontour\"}], \"mesh3d\": [{\"colorbar\": {\"outlinewidth\": 0, \"ticks\": \"\"}, \"type\": \"mesh3d\"}], \"parcoords\": [{\"line\": {\"colorbar\": {\"outlinewidth\": 0, \"ticks\": \"\"}}, \"type\": \"parcoords\"}], \"pie\": [{\"automargin\": true, \"type\": \"pie\"}], \"scatter\": [{\"marker\": {\"colorbar\": {\"outlinewidth\": 0, \"ticks\": \"\"}}, \"type\": \"scatter\"}], \"scatter3d\": [{\"line\": {\"colorbar\": {\"outlinewidth\": 0, \"ticks\": \"\"}}, \"marker\": {\"colorbar\": {\"outlinewidth\": 0, \"ticks\": \"\"}}, \"type\": \"scatter3d\"}], \"scattercarpet\": [{\"marker\": {\"colorbar\": {\"outlinewidth\": 0, \"ticks\": \"\"}}, \"type\": \"scattercarpet\"}], \"scattergeo\": [{\"marker\": {\"colorbar\": {\"outlinewidth\": 0, \"ticks\": \"\"}}, \"type\": \"scattergeo\"}], \"scattergl\": [{\"marker\": {\"colorbar\": {\"outlinewidth\": 0, \"ticks\": \"\"}}, \"type\": \"scattergl\"}], \"scattermapbox\": [{\"marker\": {\"colorbar\": {\"outlinewidth\": 0, \"ticks\": \"\"}}, \"type\": \"scattermapbox\"}], \"scatterpolar\": [{\"marker\": {\"colorbar\": {\"outlinewidth\": 0, \"ticks\": \"\"}}, \"type\": \"scatterpolar\"}], \"scatterpolargl\": [{\"marker\": {\"colorbar\": {\"outlinewidth\": 0, \"ticks\": \"\"}}, \"type\": \"scatterpolargl\"}], \"scatterternary\": [{\"marker\": {\"colorbar\": {\"outlinewidth\": 0, \"ticks\": \"\"}}, \"type\": \"scatterternary\"}], \"surface\": [{\"colorbar\": {\"outlinewidth\": 0, \"ticks\": \"\"}, \"colorscale\": [[0.0, \"#0d0887\"], [0.1111111111111111, \"#46039f\"], [0.2222222222222222, \"#7201a8\"], [0.3333333333333333, \"#9c179e\"], [0.4444444444444444, \"#bd3786\"], [0.5555555555555556, \"#d8576b\"], [0.6666666666666666, \"#ed7953\"], [0.7777777777777778, \"#fb9f3a\"], [0.8888888888888888, \"#fdca26\"], [1.0, \"#f0f921\"]], \"type\": \"surface\"}], \"table\": [{\"cells\": {\"fill\": {\"color\": \"#EBF0F8\"}, \"line\": {\"color\": \"white\"}}, \"header\": {\"fill\": {\"color\": \"#C8D4E3\"}, \"line\": {\"color\": \"white\"}}, \"type\": \"table\"}]}, \"layout\": {\"annotationdefaults\": {\"arrowcolor\": \"#2a3f5f\", \"arrowhead\": 0, \"arrowwidth\": 1}, \"coloraxis\": {\"colorbar\": {\"outlinewidth\": 0, \"ticks\": \"\"}}, \"colorscale\": {\"diverging\": [[0, \"#8e0152\"], [0.1, \"#c51b7d\"], [0.2, \"#de77ae\"], [0.3, \"#f1b6da\"], [0.4, \"#fde0ef\"], [0.5, \"#f7f7f7\"], [0.6, \"#e6f5d0\"], [0.7, \"#b8e186\"], [0.8, \"#7fbc41\"], [0.9, \"#4d9221\"], [1, \"#276419\"]], \"sequential\": [[0.0, \"#0d0887\"], [0.1111111111111111, \"#46039f\"], [0.2222222222222222, \"#7201a8\"], [0.3333333333333333, \"#9c179e\"], [0.4444444444444444, \"#bd3786\"], [0.5555555555555556, \"#d8576b\"], [0.6666666666666666, \"#ed7953\"], [0.7777777777777778, \"#fb9f3a\"], [0.8888888888888888, \"#fdca26\"], [1.0, \"#f0f921\"]], \"sequentialminus\": [[0.0, \"#0d0887\"], [0.1111111111111111, \"#46039f\"], [0.2222222222222222, \"#7201a8\"], [0.3333333333333333, \"#9c179e\"], [0.4444444444444444, \"#bd3786\"], [0.5555555555555556, \"#d8576b\"], [0.6666666666666666, \"#ed7953\"], [0.7777777777777778, \"#fb9f3a\"], [0.8888888888888888, \"#fdca26\"], [1.0, \"#f0f921\"]]}, \"colorway\": [\"#636efa\", \"#EF553B\", \"#00cc96\", \"#ab63fa\", \"#FFA15A\", \"#19d3f3\", \"#FF6692\", \"#B6E880\", \"#FF97FF\", \"#FECB52\"], \"font\": {\"color\": \"#2a3f5f\"}, \"geo\": {\"bgcolor\": \"white\", \"lakecolor\": \"white\", \"landcolor\": \"#E5ECF6\", \"showlakes\": true, \"showland\": true, \"subunitcolor\": \"white\"}, \"hoverlabel\": {\"align\": \"left\"}, \"hovermode\": \"closest\", \"mapbox\": {\"style\": \"light\"}, \"paper_bgcolor\": \"white\", \"plot_bgcolor\": \"#E5ECF6\", \"polar\": {\"angularaxis\": {\"gridcolor\": \"white\", \"linecolor\": \"white\", \"ticks\": \"\"}, \"bgcolor\": \"#E5ECF6\", \"radialaxis\": {\"gridcolor\": \"white\", \"linecolor\": \"white\", \"ticks\": \"\"}}, \"scene\": {\"xaxis\": {\"backgroundcolor\": \"#E5ECF6\", \"gridcolor\": \"white\", \"gridwidth\": 2, \"linecolor\": \"white\", \"showbackground\": true, \"ticks\": \"\", \"zerolinecolor\": \"white\"}, \"yaxis\": {\"backgroundcolor\": \"#E5ECF6\", \"gridcolor\": \"white\", \"gridwidth\": 2, \"linecolor\": \"white\", \"showbackground\": true, \"ticks\": \"\", \"zerolinecolor\": \"white\"}, \"zaxis\": {\"backgroundcolor\": \"#E5ECF6\", \"gridcolor\": \"white\", \"gridwidth\": 2, \"linecolor\": \"white\", \"showbackground\": true, \"ticks\": \"\", \"zerolinecolor\": \"white\"}}, \"shapedefaults\": {\"line\": {\"color\": \"#2a3f5f\"}}, \"ternary\": {\"aaxis\": {\"gridcolor\": \"white\", \"linecolor\": \"white\", \"ticks\": \"\"}, \"baxis\": {\"gridcolor\": \"white\", \"linecolor\": \"white\", \"ticks\": \"\"}, \"bgcolor\": \"#E5ECF6\", \"caxis\": {\"gridcolor\": \"white\", \"linecolor\": \"white\", \"ticks\": \"\"}}, \"title\": {\"x\": 0.05}, \"xaxis\": {\"automargin\": true, \"gridcolor\": \"white\", \"linecolor\": \"white\", \"ticks\": \"\", \"title\": {\"standoff\": 15}, \"zerolinecolor\": \"white\", \"zerolinewidth\": 2}, \"yaxis\": {\"automargin\": true, \"gridcolor\": \"white\", \"linecolor\": \"white\", \"ticks\": \"\", \"title\": {\"standoff\": 15}, \"zerolinecolor\": \"white\", \"zerolinewidth\": 2}}}, \"title\": {\"text\": \"Learning Curves\"}, \"xaxis\": {\"anchor\": \"y\", \"domain\": [0.0, 1.0], \"title\": {\"text\": \"Epochs\"}}, \"xaxis2\": {\"anchor\": \"y2\", \"domain\": [0.0, 1.0], \"title\": {\"text\": \"Epochs\"}}, \"xaxis3\": {\"anchor\": \"y3\", \"domain\": [0.0, 1.0], \"title\": {\"text\": \"Epochs\"}}, \"yaxis\": {\"anchor\": \"x\", \"domain\": [0.7777777777777778, 1.0], \"title\": {\"text\": \"Loss\"}}, \"yaxis2\": {\"anchor\": \"x2\", \"domain\": [0.3888888888888889, 0.6111111111111112], \"title\": {\"text\": \"Recall\"}}, \"yaxis3\": {\"anchor\": \"x3\", \"domain\": [0.0, 0.22222222222222224], \"title\": {\"text\": \"AUC\"}}},\n",
              "                        {\"responsive\": true}\n",
              "                    ).then(function(){\n",
              "                            \n",
              "var gd = document.getElementById('72117608-9664-498c-b22d-09cbb038446b');\n",
              "var x = new MutationObserver(function (mutations, observer) {{\n",
              "        var display = window.getComputedStyle(gd).display;\n",
              "        if (!display || display === 'none') {{\n",
              "            console.log([gd, 'removed!']);\n",
              "            Plotly.purge(gd);\n",
              "            observer.disconnect();\n",
              "        }}\n",
              "}});\n",
              "\n",
              "// Listen for the removal of the full notebook cells\n",
              "var notebookContainer = gd.closest('#notebook-container');\n",
              "if (notebookContainer) {{\n",
              "    x.observe(notebookContainer, {childList: true});\n",
              "}}\n",
              "\n",
              "// Listen for the clearing of the current output cell\n",
              "var outputEl = gd.closest('.output');\n",
              "if (outputEl) {{\n",
              "    x.observe(outputEl, {childList: true});\n",
              "}}\n",
              "\n",
              "                        })\n",
              "                };\n",
              "                \n",
              "            </script>\n",
              "        </div>\n",
              "</body>\n",
              "</html>"
            ]
          },
          "metadata": {}
        }
      ]
    },
    {
      "cell_type": "markdown",
      "metadata": {
        "id": "VoqZOt1YA5gh"
      },
      "source": [
        "With a network that is slightly more complex than our DenseNet121, the EfficientNetV2-B0 got better learning curves. I think this model did quite well compared to the other two."
      ]
    },
    {
      "cell_type": "markdown",
      "metadata": {
        "id": "C6q5g4Qa1O3T"
      },
      "source": [
        "## Evaluation"
      ]
    },
    {
      "cell_type": "code",
      "metadata": {
        "id": "gS4jQsgW6Qnr"
      },
      "source": [
        "predict_valid_rgb.reset()\n",
        "pred_resnet = model_resnet.predict(predict_valid_rgb)\n",
        "\n",
        "predict_valid_rgb.reset()\n",
        "pred_dense = model_dense.predict(predict_valid_rgb)\n",
        "\n",
        "predict_valid_rgb.reset()\n",
        "pred_efficientnet = model_efficientnet.predict(predict_valid_rgb)\n",
        "\n",
        "y_true = [0 if x == 'Normal' else 1 for x in valid_data['Label']]"
      ],
      "execution_count": null,
      "outputs": []
    },
    {
      "cell_type": "code",
      "metadata": {
        "colab": {
          "base_uri": "https://localhost:8080/",
          "height": 542
        },
        "id": "-91S5UjO63mE",
        "outputId": "7c983e5d-a7d0-46f7-fe38-4ce011ab32f7"
      },
      "source": [
        "plot_roc_curve(['ResNetV2-50', y_true, pred_resnet], ['DenseNet121', y_true, pred_dense], ['EfficientNetV2-B0', y_true, pred_efficientnet])"
      ],
      "execution_count": null,
      "outputs": [
        {
          "output_type": "display_data",
          "data": {
            "text/html": [
              "<html>\n",
              "<head><meta charset=\"utf-8\" /></head>\n",
              "<body>\n",
              "    <div>\n",
              "            <script src=\"https://cdnjs.cloudflare.com/ajax/libs/mathjax/2.7.5/MathJax.js?config=TeX-AMS-MML_SVG\"></script><script type=\"text/javascript\">if (window.MathJax) {MathJax.Hub.Config({SVG: {font: \"STIX-Web\"}});}</script>\n",
              "                <script type=\"text/javascript\">window.PlotlyConfig = {MathJaxConfig: 'local'};</script>\n",
              "        <script src=\"https://cdn.plot.ly/plotly-latest.min.js\"></script>    \n",
              "            <div id=\"470b245a-2106-4bb9-bce0-d4ebdd2db41f\" class=\"plotly-graph-div\" style=\"height:525px; width:100%;\"></div>\n",
              "            <script type=\"text/javascript\">\n",
              "                \n",
              "                    window.PLOTLYENV=window.PLOTLYENV || {};\n",
              "                    \n",
              "                if (document.getElementById(\"470b245a-2106-4bb9-bce0-d4ebdd2db41f\")) {\n",
              "                    Plotly.newPlot(\n",
              "                        '470b245a-2106-4bb9-bce0-d4ebdd2db41f',\n",
              "                        [{\"name\": \"ResNetV2-50\", \"type\": \"scatter\", \"x\": [0.0, 0.0, 0.0, 0.0, 0.0, 0.0, 0.0, 0.0, 0.0, 0.0, 0.0, 0.0, 0.0, 0.0, 0.0, 0.0, 0.0, 0.0, 0.0, 0.0, 0.0, 0.0, 0.0, 0.0, 0.0, 0.0, 0.0, 0.0, 0.0, 0.0, 0.0, 0.0, 0.0, 0.0, 0.0, 0.0, 0.0, 0.0, 0.0, 0.0, 0.0, 0.0, 0.0, 0.0, 0.0, 0.0, 0.0, 0.0, 0.0037174721189591076, 0.0037174721189591076, 0.0037174721189591076, 0.0037174721189591076, 0.0037174721189591076, 0.0037174721189591076, 0.0037174721189591076, 0.0037174721189591076, 0.0037174721189591076, 0.0037174721189591076, 0.0037174721189591076, 0.0037174721189591076, 0.0037174721189591076, 0.0037174721189591076, 0.0037174721189591076, 0.0037174721189591076, 0.0037174721189591076, 0.0037174721189591076, 0.0037174721189591076, 0.0037174721189591076, 0.0037174721189591076, 0.0037174721189591076, 0.0037174721189591076, 0.0037174721189591076, 0.0037174721189591076, 0.0037174721189591076, 0.0037174721189591076, 0.0037174721189591076, 0.0037174721189591076, 0.007434944237918215, 0.007434944237918215, 0.007434944237918215, 0.007434944237918215, 0.011152416356877323, 0.011152416356877323, 0.011152416356877323, 0.011152416356877323, 0.01486988847583643, 0.01486988847583643, 0.01858736059479554, 0.01858736059479554, 0.022304832713754646, 0.022304832713754646, 0.026022304832713755, 0.026022304832713755, 0.02973977695167286, 0.02973977695167286, 0.03345724907063197, 0.03345724907063197, 0.03717472118959108, 0.03717472118959108, 0.040892193308550186, 0.040892193308550186, 0.04460966542750929, 0.04460966542750929, 0.048327137546468404, 0.048327137546468404, 0.05204460966542751, 0.05204460966542751, 0.055762081784386616, 0.055762081784386616, 0.05947955390334572, 0.05947955390334572, 0.06319702602230483, 0.06319702602230483, 0.06691449814126393, 0.06691449814126393, 0.08550185873605948, 0.08550185873605948, 0.08921933085501858, 0.08921933085501858, 0.09293680297397769, 0.09293680297397769, 0.10037174721189591, 0.10037174721189591, 0.11152416356877323, 0.11152416356877323, 0.11895910780669144, 0.11895910780669144, 0.12639405204460966, 0.12639405204460966, 0.137546468401487, 0.137546468401487, 0.1412639405204461, 0.1412639405204461, 0.1524163568773234, 0.1524163568773234, 0.15985130111524162, 0.15985130111524162, 0.16356877323420074, 0.16356877323420074, 0.16728624535315986, 0.16728624535315986, 0.17100371747211895, 0.17100371747211895, 0.17472118959107807, 0.17472118959107807, 0.1970260223048327, 0.1970260223048327, 0.20074349442379183, 0.20074349442379183, 0.20446096654275092, 0.20446096654275092, 0.21561338289962825, 0.21561338289962825, 0.24907063197026022, 0.24907063197026022, 0.2527881040892193, 0.2527881040892193, 0.26022304832713755, 0.26022304832713755, 0.26765799256505574, 0.26765799256505574, 0.29739776951672864, 0.29739776951672864, 0.31970260223048325, 0.31970260223048325, 0.35315985130111527, 0.35315985130111527, 0.44609665427509293, 0.44609665427509293, 0.44981412639405205, 0.44981412639405205, 0.4795539033457249, 0.4795539033457249, 0.49070631970260226, 0.49070631970260226, 0.49814126394052044, 0.49814126394052044, 0.5650557620817844, 0.5650557620817844, 0.7174721189591078, 0.7174721189591078, 0.7211895910780669, 0.7211895910780669, 0.7509293680297398, 0.7509293680297398, 0.7769516728624535, 0.7769516728624535, 0.9888475836431226, 0.9888475836431226, 1.0], \"y\": [0.0, 0.020278833967046894, 0.03802281368821293, 0.045627376425855515, 0.06590621039290241, 0.07858048162230671, 0.08491761723700887, 0.09252217997465145, 0.09759188846641319, 0.10266159695817491, 0.10773130544993663, 0.11153358681875793, 0.12167300380228137, 0.12420785804816223, 0.12927756653992395, 0.13434727503168567, 0.13814955640050697, 0.14195183776932827, 0.14702154626108999, 0.14955640050697086, 0.15335868187579213, 0.1596958174904943, 0.1634980988593156, 0.16603295310519645, 0.16983523447401774, 0.17237008871989862, 0.17363751584283904, 0.17743979721166034, 0.17997465145754118, 0.18124207858048164, 0.18377693282636248, 0.1926489226869455, 0.19518377693282637, 0.19898605830164764, 0.20152091254752852, 0.20278833967046894, 0.20532319391634982, 0.20785804816223066, 0.21039290240811154, 0.21673003802281368, 0.22053231939163498, 0.2217997465145754, 0.22433460076045628, 0.229404309252218, 0.2332065906210393, 0.23447401774397972, 0.2370088719898606, 0.24334600760456274, 0.24461343472750316, 0.24714828897338403, 0.2534854245880862, 0.25602027883396705, 0.2585551330798479, 0.2623574144486692, 0.26489226869455007, 0.2674271229404309, 0.2737642585551331, 0.27629911280101394, 0.2813688212927757, 0.2864385297845374, 0.2915082382762991, 0.29404309252217997, 0.2991128010139417, 0.30164765525982257, 0.3282636248415716, 0.33079847908745247, 0.33840304182509506, 0.3409378960709759, 0.3574144486692015, 0.35994930291508237, 0.37389100126742714, 0.3776932826362484, 0.37896070975918883, 0.38149556400506973, 0.4131812420785805, 0.4157160963244613, 0.449936628643853, 0.449936628643853, 0.49809885931558934, 0.5006337135614702, 0.5044359949302915, 0.5044359949302915, 0.5095057034220533, 0.5120405576679341, 0.514575411913815, 0.514575411913815, 0.7591888466413181, 0.7591888466413181, 0.8124207858048162, 0.8124207858048162, 0.8783269961977186, 0.8783269961977186, 0.8821292775665399, 0.8821292775665399, 0.8846641318124208, 0.8846641318124208, 0.8859315589353612, 0.8859315589353612, 0.8884664131812421, 0.8884664131812421, 0.8910012674271229, 0.8910012674271229, 0.8948035487959443, 0.8948035487959443, 0.8973384030418251, 0.8973384030418251, 0.9100126742712294, 0.9100126742712294, 0.9112801013941698, 0.9112801013941698, 0.9125475285171103, 0.9125475285171103, 0.9214195183776933, 0.9214195183776933, 0.9226869455006337, 0.9226869455006337, 0.9252217997465145, 0.9252217997465145, 0.9290240811153359, 0.9290240811153359, 0.9302915082382763, 0.9302915082382763, 0.9340937896070975, 0.9340937896070975, 0.9378960709759189, 0.9378960709759189, 0.9391634980988594, 0.9391634980988594, 0.9429657794676806, 0.9429657794676806, 0.944233206590621, 0.944233206590621, 0.9518377693282636, 0.9518377693282636, 0.9543726235741445, 0.9543726235741445, 0.9569074778200254, 0.9569074778200254, 0.9581749049429658, 0.9581749049429658, 0.9594423320659062, 0.9594423320659062, 0.9657794676806084, 0.9657794676806084, 0.9708491761723701, 0.9708491761723701, 0.9721166032953105, 0.9721166032953105, 0.973384030418251, 0.973384030418251, 0.9746514575411914, 0.9746514575411914, 0.9759188846641318, 0.9759188846641318, 0.9771863117870723, 0.9771863117870723, 0.9784537389100126, 0.9784537389100126, 0.9797211660329531, 0.9797211660329531, 0.9809885931558935, 0.9809885931558935, 0.982256020278834, 0.982256020278834, 0.9835234474017744, 0.9835234474017744, 0.9860583016476553, 0.9860583016476553, 0.9873257287705957, 0.9873257287705957, 0.9885931558935361, 0.9885931558935361, 0.9898605830164765, 0.9898605830164765, 0.991128010139417, 0.991128010139417, 0.9923954372623575, 0.9923954372623575, 0.9936628643852978, 0.9936628643852978, 0.9949302915082383, 0.9949302915082383, 0.9961977186311787, 0.9961977186311787, 0.9974651457541192, 0.9974651457541192, 0.9987325728770595, 0.9987325728770595, 1.0, 1.0]}, {\"name\": \"DenseNet121\", \"type\": \"scatter\", \"x\": [0.0, 0.0, 0.0, 0.0, 0.0, 0.0037174721189591076, 0.0037174721189591076, 0.007434944237918215, 0.007434944237918215, 0.011152416356877323, 0.011152416356877323, 0.01486988847583643, 0.01486988847583643, 0.01858736059479554, 0.01858736059479554, 0.022304832713754646, 0.022304832713754646, 0.026022304832713755, 0.026022304832713755, 0.03345724907063197, 0.03345724907063197, 0.03717472118959108, 0.03717472118959108, 0.040892193308550186, 0.040892193308550186, 0.04460966542750929, 0.04460966542750929, 0.048327137546468404, 0.048327137546468404, 0.05204460966542751, 0.05204460966542751, 0.055762081784386616, 0.055762081784386616, 0.06319702602230483, 0.06319702602230483, 0.06691449814126393, 0.06691449814126393, 0.07434944237918216, 0.07434944237918216, 0.08178438661710037, 0.08178438661710037, 0.08550185873605948, 0.08550185873605948, 0.09293680297397769, 0.09293680297397769, 0.09665427509293681, 0.09665427509293681, 0.10037174721189591, 0.10037174721189591, 0.10408921933085502, 0.10408921933085502, 0.10780669144981413, 0.10780669144981413, 0.12267657992565056, 0.12267657992565056, 0.12639405204460966, 0.12639405204460966, 0.13011152416356878, 0.13011152416356878, 0.13382899628252787, 0.13382899628252787, 0.1412639405204461, 0.1412639405204461, 0.1449814126394052, 0.1449814126394052, 0.15613382899628253, 0.15613382899628253, 0.15985130111524162, 0.15985130111524162, 0.18587360594795538, 0.18587360594795538, 0.1895910780669145, 0.1895910780669145, 0.21189591078066913, 0.21189591078066913, 0.21561338289962825, 0.21561338289962825, 0.21933085501858737, 0.21933085501858737, 0.27137546468401486, 0.27137546468401486, 0.275092936802974, 0.275092936802974, 0.2825278810408922, 0.2825278810408922, 0.2936802973977695, 0.2936802973977695, 0.30111524163568776, 0.30111524163568776, 0.30855018587360594, 0.30855018587360594, 0.3382899628252788, 0.3382899628252788, 0.34944237918215615, 0.34944237918215615, 0.40892193308550184, 0.40892193308550184, 0.483271375464684, 0.483271375464684, 0.49070631970260226, 0.49070631970260226, 0.49814126394052044, 0.49814126394052044, 0.516728624535316, 0.516728624535316, 0.5278810408921933, 0.5278810408921933, 0.5427509293680297, 0.5427509293680297, 0.5724907063197026, 0.5724907063197026, 0.6765799256505576, 0.6765799256505576, 0.758364312267658, 0.758364312267658, 0.7732342007434945, 0.7732342007434945, 1.0], \"y\": [0.0, 0.0012674271229404308, 0.030418250950570342, 0.032953105196451206, 0.449936628643853, 0.449936628643853, 0.47275031685678076, 0.47275031685678076, 0.5792141951837769, 0.5792141951837769, 0.6070975918884665, 0.6070975918884665, 0.6679340937896071, 0.6679340937896071, 0.6818757921419518, 0.6818757921419518, 0.7160963244613435, 0.7160963244613435, 0.7262357414448669, 0.7262357414448669, 0.7591888466413181, 0.7591888466413181, 0.7908745247148289, 0.7908745247148289, 0.8428390367553865, 0.8428390367553865, 0.8605830164765526, 0.8605830164765526, 0.8808618504435995, 0.8808618504435995, 0.8821292775665399, 0.8821292775665399, 0.8884664131812421, 0.8884664131812421, 0.8935361216730038, 0.8935361216730038, 0.8973384030418251, 0.8973384030418251, 0.8986058301647655, 0.8986058301647655, 0.899873257287706, 0.899873257287706, 0.9036755386565273, 0.9036755386565273, 0.908745247148289, 0.908745247148289, 0.9163498098859315, 0.9163498098859315, 0.9214195183776933, 0.9214195183776933, 0.9252217997465145, 0.9252217997465145, 0.9315589353612167, 0.9315589353612167, 0.9378960709759189, 0.9378960709759189, 0.9391634980988594, 0.9391634980988594, 0.9416983523447402, 0.9416983523447402, 0.9429657794676806, 0.9429657794676806, 0.9455006337135615, 0.9455006337135615, 0.9493029150823827, 0.9493029150823827, 0.9505703422053232, 0.9505703422053232, 0.9518377693282636, 0.9518377693282636, 0.9581749049429658, 0.9581749049429658, 0.9594423320659062, 0.9594423320659062, 0.9657794676806084, 0.9657794676806084, 0.9670468948035488, 0.9670468948035488, 0.9708491761723701, 0.9708491761723701, 0.9721166032953105, 0.9721166032953105, 0.973384030418251, 0.973384030418251, 0.9746514575411914, 0.9746514575411914, 0.9759188846641318, 0.9759188846641318, 0.9797211660329531, 0.9797211660329531, 0.9809885931558935, 0.9809885931558935, 0.982256020278834, 0.982256020278834, 0.9835234474017744, 0.9835234474017744, 0.9873257287705957, 0.9873257287705957, 0.9885931558935361, 0.9885931558935361, 0.9898605830164765, 0.9898605830164765, 0.991128010139417, 0.991128010139417, 0.9923954372623575, 0.9923954372623575, 0.9936628643852978, 0.9936628643852978, 0.9949302915082383, 0.9949302915082383, 0.9961977186311787, 0.9961977186311787, 0.9974651457541192, 0.9974651457541192, 0.9987325728770595, 0.9987325728770595, 1.0, 1.0]}, {\"name\": \"EfficientNetV2-B0\", \"type\": \"scatter\", \"x\": [0.0, 0.0, 0.0, 0.0, 0.0, 0.0, 0.0, 0.0, 0.0, 0.0037174721189591076, 0.0037174721189591076, 0.007434944237918215, 0.007434944237918215, 0.011152416356877323, 0.011152416356877323, 0.01858736059479554, 0.01858736059479554, 0.022304832713754646, 0.022304832713754646, 0.026022304832713755, 0.026022304832713755, 0.02973977695167286, 0.02973977695167286, 0.03345724907063197, 0.03345724907063197, 0.03717472118959108, 0.03717472118959108, 0.040892193308550186, 0.040892193308550186, 0.04460966542750929, 0.04460966542750929, 0.048327137546468404, 0.048327137546468404, 0.055762081784386616, 0.055762081784386616, 0.05947955390334572, 0.05947955390334572, 0.06319702602230483, 0.06319702602230483, 0.07063197026022305, 0.07063197026022305, 0.07434944237918216, 0.07434944237918216, 0.07806691449814127, 0.07806691449814127, 0.08178438661710037, 0.08178438661710037, 0.09293680297397769, 0.09293680297397769, 0.10037174721189591, 0.10037174721189591, 0.10408921933085502, 0.10408921933085502, 0.11152416356877323, 0.11152416356877323, 0.11524163568773234, 0.11524163568773234, 0.11895910780669144, 0.11895910780669144, 0.12267657992565056, 0.12267657992565056, 0.12639405204460966, 0.12639405204460966, 0.13382899628252787, 0.13382899628252787, 0.14869888475836432, 0.14869888475836432, 0.15613382899628253, 0.15613382899628253, 0.17100371747211895, 0.17100371747211895, 0.1895910780669145, 0.1895910780669145, 0.20817843866171004, 0.20817843866171004, 0.3308550185873606, 0.3308550185873606, 0.34944237918215615, 0.34944237918215615, 0.6988847583643123, 0.6988847583643123, 1.0], \"y\": [0.0, 0.0012674271229404308, 0.23447401774397972, 0.2370088719898606, 0.2864385297845374, 0.2889733840304182, 0.46134347275031684, 0.46387832699619774, 0.6768060836501901, 0.6768060836501901, 0.7224334600760456, 0.7224334600760456, 0.7946768060836502, 0.7946768060836502, 0.8871989860583016, 0.8871989860583016, 0.8884664131812421, 0.8884664131812421, 0.9011406844106464, 0.9011406844106464, 0.9074778200253485, 0.9074778200253485, 0.926489226869455, 0.926489226869455, 0.9277566539923955, 0.9277566539923955, 0.9429657794676806, 0.9429657794676806, 0.9480354879594424, 0.9480354879594424, 0.9493029150823827, 0.9493029150823827, 0.9505703422053232, 0.9505703422053232, 0.9518377693282636, 0.9518377693282636, 0.9531051964512041, 0.9531051964512041, 0.9594423320659062, 0.9594423320659062, 0.9607097591888466, 0.9607097591888466, 0.9619771863117871, 0.9619771863117871, 0.9632446134347274, 0.9632446134347274, 0.9670468948035488, 0.9670468948035488, 0.9683143219264893, 0.9683143219264893, 0.9721166032953105, 0.9721166032953105, 0.9746514575411914, 0.9746514575411914, 0.9797211660329531, 0.9797211660329531, 0.9809885931558935, 0.9809885931558935, 0.9847908745247148, 0.9847908745247148, 0.9860583016476553, 0.9860583016476553, 0.9885931558935361, 0.9885931558935361, 0.9898605830164765, 0.9898605830164765, 0.991128010139417, 0.991128010139417, 0.9923954372623575, 0.9923954372623575, 0.9936628643852978, 0.9936628643852978, 0.9949302915082383, 0.9949302915082383, 0.9961977186311787, 0.9961977186311787, 0.9974651457541192, 0.9974651457541192, 0.9987325728770595, 0.9987325728770595, 1.0, 1.0]}],\n",
              "                        {\"template\": {\"data\": {\"bar\": [{\"error_x\": {\"color\": \"#2a3f5f\"}, \"error_y\": {\"color\": \"#2a3f5f\"}, \"marker\": {\"line\": {\"color\": \"#E5ECF6\", \"width\": 0.5}}, \"type\": \"bar\"}], \"barpolar\": [{\"marker\": {\"line\": {\"color\": \"#E5ECF6\", \"width\": 0.5}}, \"type\": \"barpolar\"}], \"carpet\": [{\"aaxis\": {\"endlinecolor\": \"#2a3f5f\", \"gridcolor\": \"white\", \"linecolor\": \"white\", \"minorgridcolor\": \"white\", \"startlinecolor\": \"#2a3f5f\"}, \"baxis\": {\"endlinecolor\": \"#2a3f5f\", \"gridcolor\": \"white\", \"linecolor\": \"white\", \"minorgridcolor\": \"white\", \"startlinecolor\": \"#2a3f5f\"}, \"type\": \"carpet\"}], \"choropleth\": [{\"colorbar\": {\"outlinewidth\": 0, \"ticks\": \"\"}, \"type\": \"choropleth\"}], \"contour\": [{\"colorbar\": {\"outlinewidth\": 0, \"ticks\": \"\"}, \"colorscale\": [[0.0, \"#0d0887\"], [0.1111111111111111, \"#46039f\"], [0.2222222222222222, \"#7201a8\"], [0.3333333333333333, \"#9c179e\"], [0.4444444444444444, \"#bd3786\"], [0.5555555555555556, \"#d8576b\"], [0.6666666666666666, \"#ed7953\"], [0.7777777777777778, \"#fb9f3a\"], [0.8888888888888888, \"#fdca26\"], [1.0, \"#f0f921\"]], \"type\": \"contour\"}], \"contourcarpet\": [{\"colorbar\": {\"outlinewidth\": 0, \"ticks\": \"\"}, \"type\": \"contourcarpet\"}], \"heatmap\": [{\"colorbar\": {\"outlinewidth\": 0, \"ticks\": \"\"}, \"colorscale\": [[0.0, \"#0d0887\"], [0.1111111111111111, \"#46039f\"], [0.2222222222222222, \"#7201a8\"], [0.3333333333333333, \"#9c179e\"], [0.4444444444444444, \"#bd3786\"], [0.5555555555555556, \"#d8576b\"], [0.6666666666666666, \"#ed7953\"], [0.7777777777777778, \"#fb9f3a\"], [0.8888888888888888, \"#fdca26\"], [1.0, \"#f0f921\"]], \"type\": \"heatmap\"}], \"heatmapgl\": [{\"colorbar\": {\"outlinewidth\": 0, \"ticks\": \"\"}, \"colorscale\": [[0.0, \"#0d0887\"], [0.1111111111111111, \"#46039f\"], [0.2222222222222222, \"#7201a8\"], [0.3333333333333333, \"#9c179e\"], [0.4444444444444444, \"#bd3786\"], [0.5555555555555556, \"#d8576b\"], [0.6666666666666666, \"#ed7953\"], [0.7777777777777778, \"#fb9f3a\"], [0.8888888888888888, \"#fdca26\"], [1.0, \"#f0f921\"]], \"type\": \"heatmapgl\"}], \"histogram\": [{\"marker\": {\"colorbar\": {\"outlinewidth\": 0, \"ticks\": \"\"}}, \"type\": \"histogram\"}], \"histogram2d\": [{\"colorbar\": {\"outlinewidth\": 0, \"ticks\": \"\"}, \"colorscale\": [[0.0, \"#0d0887\"], [0.1111111111111111, \"#46039f\"], [0.2222222222222222, \"#7201a8\"], [0.3333333333333333, \"#9c179e\"], [0.4444444444444444, \"#bd3786\"], [0.5555555555555556, \"#d8576b\"], [0.6666666666666666, \"#ed7953\"], [0.7777777777777778, \"#fb9f3a\"], [0.8888888888888888, \"#fdca26\"], [1.0, \"#f0f921\"]], \"type\": \"histogram2d\"}], \"histogram2dcontour\": [{\"colorbar\": {\"outlinewidth\": 0, \"ticks\": \"\"}, \"colorscale\": [[0.0, \"#0d0887\"], [0.1111111111111111, \"#46039f\"], [0.2222222222222222, \"#7201a8\"], [0.3333333333333333, \"#9c179e\"], [0.4444444444444444, \"#bd3786\"], [0.5555555555555556, \"#d8576b\"], [0.6666666666666666, \"#ed7953\"], [0.7777777777777778, \"#fb9f3a\"], [0.8888888888888888, \"#fdca26\"], [1.0, \"#f0f921\"]], \"type\": \"histogram2dcontour\"}], \"mesh3d\": [{\"colorbar\": {\"outlinewidth\": 0, \"ticks\": \"\"}, \"type\": \"mesh3d\"}], \"parcoords\": [{\"line\": {\"colorbar\": {\"outlinewidth\": 0, \"ticks\": \"\"}}, \"type\": \"parcoords\"}], \"pie\": [{\"automargin\": true, \"type\": \"pie\"}], \"scatter\": [{\"marker\": {\"colorbar\": {\"outlinewidth\": 0, \"ticks\": \"\"}}, \"type\": \"scatter\"}], \"scatter3d\": [{\"line\": {\"colorbar\": {\"outlinewidth\": 0, \"ticks\": \"\"}}, \"marker\": {\"colorbar\": {\"outlinewidth\": 0, \"ticks\": \"\"}}, \"type\": \"scatter3d\"}], \"scattercarpet\": [{\"marker\": {\"colorbar\": {\"outlinewidth\": 0, \"ticks\": \"\"}}, \"type\": \"scattercarpet\"}], \"scattergeo\": [{\"marker\": {\"colorbar\": {\"outlinewidth\": 0, \"ticks\": \"\"}}, \"type\": \"scattergeo\"}], \"scattergl\": [{\"marker\": {\"colorbar\": {\"outlinewidth\": 0, \"ticks\": \"\"}}, \"type\": \"scattergl\"}], \"scattermapbox\": [{\"marker\": {\"colorbar\": {\"outlinewidth\": 0, \"ticks\": \"\"}}, \"type\": \"scattermapbox\"}], \"scatterpolar\": [{\"marker\": {\"colorbar\": {\"outlinewidth\": 0, \"ticks\": \"\"}}, \"type\": \"scatterpolar\"}], \"scatterpolargl\": [{\"marker\": {\"colorbar\": {\"outlinewidth\": 0, \"ticks\": \"\"}}, \"type\": \"scatterpolargl\"}], \"scatterternary\": [{\"marker\": {\"colorbar\": {\"outlinewidth\": 0, \"ticks\": \"\"}}, \"type\": \"scatterternary\"}], \"surface\": [{\"colorbar\": {\"outlinewidth\": 0, \"ticks\": \"\"}, \"colorscale\": [[0.0, \"#0d0887\"], [0.1111111111111111, \"#46039f\"], [0.2222222222222222, \"#7201a8\"], [0.3333333333333333, \"#9c179e\"], [0.4444444444444444, \"#bd3786\"], [0.5555555555555556, \"#d8576b\"], [0.6666666666666666, \"#ed7953\"], [0.7777777777777778, \"#fb9f3a\"], [0.8888888888888888, \"#fdca26\"], [1.0, \"#f0f921\"]], \"type\": \"surface\"}], \"table\": [{\"cells\": {\"fill\": {\"color\": \"#EBF0F8\"}, \"line\": {\"color\": \"white\"}}, \"header\": {\"fill\": {\"color\": \"#C8D4E3\"}, \"line\": {\"color\": \"white\"}}, \"type\": \"table\"}]}, \"layout\": {\"annotationdefaults\": {\"arrowcolor\": \"#2a3f5f\", \"arrowhead\": 0, \"arrowwidth\": 1}, \"coloraxis\": {\"colorbar\": {\"outlinewidth\": 0, \"ticks\": \"\"}}, \"colorscale\": {\"diverging\": [[0, \"#8e0152\"], [0.1, \"#c51b7d\"], [0.2, \"#de77ae\"], [0.3, \"#f1b6da\"], [0.4, \"#fde0ef\"], [0.5, \"#f7f7f7\"], [0.6, \"#e6f5d0\"], [0.7, \"#b8e186\"], [0.8, \"#7fbc41\"], [0.9, \"#4d9221\"], [1, \"#276419\"]], \"sequential\": [[0.0, \"#0d0887\"], [0.1111111111111111, \"#46039f\"], [0.2222222222222222, \"#7201a8\"], [0.3333333333333333, \"#9c179e\"], [0.4444444444444444, \"#bd3786\"], [0.5555555555555556, \"#d8576b\"], [0.6666666666666666, \"#ed7953\"], [0.7777777777777778, \"#fb9f3a\"], [0.8888888888888888, \"#fdca26\"], [1.0, \"#f0f921\"]], \"sequentialminus\": [[0.0, \"#0d0887\"], [0.1111111111111111, \"#46039f\"], [0.2222222222222222, \"#7201a8\"], [0.3333333333333333, \"#9c179e\"], [0.4444444444444444, \"#bd3786\"], [0.5555555555555556, \"#d8576b\"], [0.6666666666666666, \"#ed7953\"], [0.7777777777777778, \"#fb9f3a\"], [0.8888888888888888, \"#fdca26\"], [1.0, \"#f0f921\"]]}, \"colorway\": [\"#636efa\", \"#EF553B\", \"#00cc96\", \"#ab63fa\", \"#FFA15A\", \"#19d3f3\", \"#FF6692\", \"#B6E880\", \"#FF97FF\", \"#FECB52\"], \"font\": {\"color\": \"#2a3f5f\"}, \"geo\": {\"bgcolor\": \"white\", \"lakecolor\": \"white\", \"landcolor\": \"#E5ECF6\", \"showlakes\": true, \"showland\": true, \"subunitcolor\": \"white\"}, \"hoverlabel\": {\"align\": \"left\"}, \"hovermode\": \"closest\", \"mapbox\": {\"style\": \"light\"}, \"paper_bgcolor\": \"white\", \"plot_bgcolor\": \"#E5ECF6\", \"polar\": {\"angularaxis\": {\"gridcolor\": \"white\", \"linecolor\": \"white\", \"ticks\": \"\"}, \"bgcolor\": \"#E5ECF6\", \"radialaxis\": {\"gridcolor\": \"white\", \"linecolor\": \"white\", \"ticks\": \"\"}}, \"scene\": {\"xaxis\": {\"backgroundcolor\": \"#E5ECF6\", \"gridcolor\": \"white\", \"gridwidth\": 2, \"linecolor\": \"white\", \"showbackground\": true, \"ticks\": \"\", \"zerolinecolor\": \"white\"}, \"yaxis\": {\"backgroundcolor\": \"#E5ECF6\", \"gridcolor\": \"white\", \"gridwidth\": 2, \"linecolor\": \"white\", \"showbackground\": true, \"ticks\": \"\", \"zerolinecolor\": \"white\"}, \"zaxis\": {\"backgroundcolor\": \"#E5ECF6\", \"gridcolor\": \"white\", \"gridwidth\": 2, \"linecolor\": \"white\", \"showbackground\": true, \"ticks\": \"\", \"zerolinecolor\": \"white\"}}, \"shapedefaults\": {\"line\": {\"color\": \"#2a3f5f\"}}, \"ternary\": {\"aaxis\": {\"gridcolor\": \"white\", \"linecolor\": \"white\", \"ticks\": \"\"}, \"baxis\": {\"gridcolor\": \"white\", \"linecolor\": \"white\", \"ticks\": \"\"}, \"bgcolor\": \"#E5ECF6\", \"caxis\": {\"gridcolor\": \"white\", \"linecolor\": \"white\", \"ticks\": \"\"}}, \"title\": {\"x\": 0.05}, \"xaxis\": {\"automargin\": true, \"gridcolor\": \"white\", \"linecolor\": \"white\", \"ticks\": \"\", \"title\": {\"standoff\": 15}, \"zerolinecolor\": \"white\", \"zerolinewidth\": 2}, \"yaxis\": {\"automargin\": true, \"gridcolor\": \"white\", \"linecolor\": \"white\", \"ticks\": \"\", \"title\": {\"standoff\": 15}, \"zerolinecolor\": \"white\", \"zerolinewidth\": 2}}}, \"title\": {\"text\": \"ROC Curve\"}, \"xaxis\": {\"title\": {\"text\": \"FPR\"}}, \"yaxis\": {\"title\": {\"text\": \"TPR\"}}},\n",
              "                        {\"responsive\": true}\n",
              "                    ).then(function(){\n",
              "                            \n",
              "var gd = document.getElementById('470b245a-2106-4bb9-bce0-d4ebdd2db41f');\n",
              "var x = new MutationObserver(function (mutations, observer) {{\n",
              "        var display = window.getComputedStyle(gd).display;\n",
              "        if (!display || display === 'none') {{\n",
              "            console.log([gd, 'removed!']);\n",
              "            Plotly.purge(gd);\n",
              "            observer.disconnect();\n",
              "        }}\n",
              "}});\n",
              "\n",
              "// Listen for the removal of the full notebook cells\n",
              "var notebookContainer = gd.closest('#notebook-container');\n",
              "if (notebookContainer) {{\n",
              "    x.observe(notebookContainer, {childList: true});\n",
              "}}\n",
              "\n",
              "// Listen for the clearing of the current output cell\n",
              "var outputEl = gd.closest('.output');\n",
              "if (outputEl) {{\n",
              "    x.observe(outputEl, {childList: true});\n",
              "}}\n",
              "\n",
              "                        })\n",
              "                };\n",
              "                \n",
              "            </script>\n",
              "        </div>\n",
              "</body>\n",
              "</html>"
            ]
          },
          "metadata": {}
        }
      ]
    },
    {
      "cell_type": "code",
      "metadata": {
        "id": "M8eHxf8n6szG",
        "trusted": true,
        "colab": {
          "base_uri": "https://localhost:8080/"
        },
        "outputId": "60da37f8-f65d-463e-b935-5c8b70de04f7"
      },
      "source": [
        "print('================# ResNetV2-50 #================')\n",
        "evaluate_model(y_true, pred_resnet)"
      ],
      "execution_count": null,
      "outputs": [
        {
          "output_type": "stream",
          "name": "stdout",
          "text": [
            "================# ResNetV2-50 #================\n",
            "===== Classification Report ======\n",
            "              precision    recall  f1-score   support\n",
            "\n",
            "           0       0.89      0.83      0.86       269\n",
            "           1       0.94      0.97      0.95       789\n",
            "\n",
            "    accuracy                           0.93      1058\n",
            "   macro avg       0.92      0.90      0.91      1058\n",
            "weighted avg       0.93      0.93      0.93      1058\n",
            "\n",
            "\n",
            "===== Confusion Matrix =====\n",
            "[[222  47]\n",
            " [ 27 762]]\n",
            "\n",
            "===== Other Metrics =====\n",
            "ROC_AUC: 0.9703002572059631\n"
          ]
        }
      ]
    },
    {
      "cell_type": "code",
      "metadata": {
        "id": "Ypay0nLlVeBD",
        "trusted": true,
        "colab": {
          "base_uri": "https://localhost:8080/"
        },
        "outputId": "3522848b-b2d9-41bc-f07d-2233800d6926"
      },
      "source": [
        "print('================# DenseNet121 #================')\n",
        "evaluate_model(y_true, pred_dense)"
      ],
      "execution_count": null,
      "outputs": [
        {
          "output_type": "stream",
          "name": "stdout",
          "text": [
            "================# DenseNet121 #================\n",
            "===== Classification Report ======\n",
            "              precision    recall  f1-score   support\n",
            "\n",
            "           0       0.87      0.79      0.83       269\n",
            "           1       0.93      0.96      0.95       789\n",
            "\n",
            "    accuracy                           0.92      1058\n",
            "   macro avg       0.90      0.88      0.89      1058\n",
            "weighted avg       0.92      0.92      0.92      1058\n",
            "\n",
            "\n",
            "===== Confusion Matrix =====\n",
            "[[213  56]\n",
            " [ 32 757]]\n",
            "\n",
            "===== Other Metrics =====\n",
            "ROC_AUC: 0.966396689414978\n"
          ]
        }
      ]
    },
    {
      "cell_type": "code",
      "metadata": {
        "id": "qkq2xNxPjcJ0",
        "trusted": true,
        "colab": {
          "base_uri": "https://localhost:8080/"
        },
        "outputId": "cae43e99-a56d-4ba0-953a-f1c7ff35d570"
      },
      "source": [
        "print('================# EfficientNetV2-B0 #================')\n",
        "evaluate_model(y_true, pred_efficientnet)"
      ],
      "execution_count": null,
      "outputs": [
        {
          "output_type": "stream",
          "name": "stdout",
          "text": [
            "================# EfficientNetV2-B0 #================\n",
            "===== Classification Report ======\n",
            "              precision    recall  f1-score   support\n",
            "\n",
            "           0       0.92      0.89      0.91       269\n",
            "           1       0.96      0.97      0.97       789\n",
            "\n",
            "    accuracy                           0.95      1058\n",
            "   macro avg       0.94      0.93      0.94      1058\n",
            "weighted avg       0.95      0.95      0.95      1058\n",
            "\n",
            "\n",
            "===== Confusion Matrix =====\n",
            "[[240  29]\n",
            " [ 20 769]]\n",
            "\n",
            "===== Other Metrics =====\n",
            "ROC_AUC: 0.9896650314331055\n"
          ]
        }
      ]
    },
    {
      "cell_type": "markdown",
      "metadata": {
        "id": "eNYgiVXsCKKm"
      },
      "source": [
        "Looking at these scores, it's safe to say that the model EfficientNetV2-B0 Model performed really well, getting the highest combination of AUC, recall, and loss scores."
      ]
    },
    {
      "cell_type": "markdown",
      "metadata": {
        "id": "7sazWXk8Caub"
      },
      "source": [
        "Let's plot their metrics to see which one of them is the best."
      ]
    },
    {
      "cell_type": "code",
      "metadata": {
        "id": "mtutFSgiOF9a"
      },
      "source": [
        "def show_values_on_bars(axs):\n",
        "    def _show_on_single_plot(ax):        \n",
        "        for p in ax.patches:\n",
        "            _x = p.get_x() + p.get_width() / 2\n",
        "            _y = p.get_y() + p.get_height()\n",
        "            value = '{:.2f}'.format(p.get_height())\n",
        "            ax.text(_x, _y, value, ha=\"center\") \n",
        "\n",
        "    if isinstance(axs, np.ndarray):\n",
        "        for idx, ax in np.ndenumerate(axs):\n",
        "            _show_on_single_plot(ax)\n",
        "    else:\n",
        "        _show_on_single_plot(axs)"
      ],
      "execution_count": null,
      "outputs": []
    },
    {
      "cell_type": "code",
      "metadata": {
        "id": "4sVoQrOpWfCF",
        "trusted": true,
        "colab": {
          "base_uri": "https://localhost:8080/",
          "height": 971
        },
        "outputId": "4d269701-8026-4a6b-c688-d9613cfb571d"
      },
      "source": [
        "HISTORY_ARRAY = np.array(MODEL_HISTORY)\n",
        "model_names = HISTORY_ARRAY[:, 0]\n",
        "histories = HISTORY_ARRAY[:, 1]\n",
        "\n",
        "fig, ax = plt.subplots(3, 2, figsize=(15, 15))\n",
        "sns.barplot(x=model_names, y=list(map(lambda x: x.history.get('auc')[-1], histories)), ax=ax[0, 0], palette='Spectral')\n",
        "sns.barplot(x=model_names, y=list(map(lambda x: x.history.get('val_auc')[-1], histories)), ax=ax[0, 1], palette='Spectral')\n",
        "sns.barplot(x=model_names, y=list(map(lambda x: x.history.get('recall')[-1], histories)), ax=ax[1, 0], palette='gist_yarg')\n",
        "sns.barplot(x=model_names, y=list(map(lambda x: x.history.get('val_recall')[-1], histories)), ax=ax[1, 1], palette='gist_yarg')\n",
        "sns.barplot(x=model_names, y=list(map(lambda x: x.history.get('loss')[-1], histories)), ax=ax[2, 0], palette='ocean')\n",
        "sns.barplot(x=model_names, y=list(map(lambda x: x.history.get('val_loss')[-1], histories)), ax=ax[2, 1], palette='ocean')\n",
        "\n",
        "ax[0, 0].set_title('Model Training AUC scores')\n",
        "ax[0, 1].set_title('Model Validation AUC scores')\n",
        "ax[1, 0].set_title('Model Training Recall scores')\n",
        "ax[1, 1].set_title('Model Validation Recall scores')\n",
        "ax[2, 0].set_title('Model Training Loss')\n",
        "ax[2, 1].set_title('Model Validation Loss')\n",
        "\n",
        "ax[0, 0].set_ylim((0.95, 1.0))\n",
        "ax[0, 1].set_ylim((0.95, 1.0))\n",
        "ax[1, 0].set_ylim((0.95, 1.0))\n",
        "ax[1, 1].set_ylim((0.95, 1.0))\n",
        "ax[2, 0].set_ylim((0.1, 0.25))\n",
        "ax[2, 1].set_ylim((0.1, 0.25))\n",
        "\n",
        "show_values_on_bars(ax)\n",
        "\n",
        "fig.suptitle('Model Comparisions')\n",
        "plt.show()"
      ],
      "execution_count": null,
      "outputs": [
        {
          "output_type": "display_data",
          "data": {
            "image/png": "[encoded data removed]",
            "text/plain": [
              "<Figure size 1080x1080 with 6 Axes>"
            ]
          },
          "metadata": {
            "needs_background": "light"
          }
        }
      ]
    },
    {
      "cell_type": "code",
      "metadata": {
        "id": "_7FYPgnDBelu",
        "trusted": true,
        "colab": {
          "base_uri": "https://localhost:8080/",
          "height": 1000
        },
        "outputId": "5a6516f5-93ff-4ae2-cd58-58f42226c4c1"
      },
      "source": [
        "model_names = HISTORY_ARRAY[:, 0]\n",
        "histories = HISTORY_ARRAY[:, 1]\n",
        "\n",
        "metric_dataframe = pd.DataFrame({\n",
        "    'Model Names': model_names,\n",
        "    'True Positives': list(map(lambda x: x.history.get('tp')[-1], histories)),\n",
        "    'False Positives': list(map(lambda x: x.history.get('fp')[-1], histories)),\n",
        "    'True Negatives': list(map(lambda x: x.history.get('tn')[-1], histories)),\n",
        "    'False Negatives': list(map(lambda x: x.history.get('fn')[-1], histories))\n",
        "})\n",
        "\n",
        "fig, ax = plt.subplots(2, 2, figsize=(20, 20))\n",
        "sns.barplot(x='Model Names', y='True Positives', data=metric_dataframe, ax=ax[0, 0], palette='ocean')\n",
        "sns.barplot(x='Model Names', y='False Positives', data=metric_dataframe, ax=ax[0, 1], palette='icefire_r') \n",
        "sns.barplot(x='Model Names', y='True Negatives', data=metric_dataframe, ax=ax[1, 0], palette='PuBu_r')\n",
        "sns.barplot(x='Model Names', y='False Negatives', data=metric_dataframe, ax=ax[1, 1], palette='YlOrBr')\n",
        "\n",
        "ax[0, 0].set_title('True Positives of Models')\n",
        "ax[0, 0].set_ylim((3000, 3100))\n",
        "ax[0, 1].set_title('False Positives of Models')\n",
        "ax[1, 0].set_title('True Negatives of Models')\n",
        "ax[1, 0].set_ylim((900, 1000))\n",
        "ax[1, 1].set_title('False Negatives of Models')\n",
        "\n",
        "show_values_on_bars(ax)\n",
        "\n",
        "fig.suptitle('Confusion Matrix comparision of Models', size=16)\n",
        "plt.show()"
      ],
      "execution_count": null,
      "outputs": [
        {
          "output_type": "display_data",
          "data": {
            "image/png": "[encoded data removed]",
            "text/plain": [
              "<Figure size 1440x1440 with 4 Axes>"
            ]
          },
          "metadata": {
            "needs_background": "light"
          }
        }
      ]
    },
    {
      "cell_type": "markdown",
      "metadata": {
        "id": "32svKS7tChFT"
      },
      "source": [
        "True to our prior assumptions, the EfficientNetV2-B0 performed the best, as it got the highest true positive rate and least false negative rate among the three models, with way less parameters than the ResNetV2-50 model.\n",
        "\n",
        "In the next section, we will try to improve the EfficientNetV2-B0 model we have here, using techniques like batch normalization, dropout, and hyperparameter tuning."
      ]
    },
    {
      "cell_type": "markdown",
      "metadata": {
        "id": "ANdBzs9p1CWp"
      },
      "source": [
        "# Improving Our Model Of Choice"
      ]
    },
    {
      "cell_type": "markdown",
      "metadata": {
        "id": "sU6AYml8sjFK"
      },
      "source": [
        "## Batch normalization"
      ]
    },
    {
      "cell_type": "code",
      "metadata": {
        "execution": {
          "iopub.status.busy": "2021-09-05T07:50:15.569797Z",
          "iopub.execute_input": "2021-09-05T07:50:15.570267Z",
          "iopub.status.idle": "2021-09-05T08:12:03.954714Z",
          "shell.execute_reply.started": "2021-09-05T07:50:15.570223Z",
          "shell.execute_reply": "2021-09-05T08:12:03.953884Z"
        },
        "trusted": true,
        "id": "_rdYmJ2DCKKp",
        "colab": {
          "base_uri": "https://localhost:8080/"
        },
        "outputId": "350ee53c-e95b-4bbf-cae2-01ac6dadda04"
      },
      "source": [
        "feature_extractor_layer = hub.KerasLayer(efficientnetv2_url,\n",
        "                                         trainable=False, # freeze the underlying patterns\n",
        "                                         name='feature_extraction_layer',\n",
        "                                         input_shape=(224, 224, 3,)) # define the input image shape\n",
        "\n",
        "model_batchnorm = tf.keras.Sequential([\n",
        "    feature_extractor_layer,\n",
        "    layers.BatchNormalization(),\n",
        "    layers.Dense(100),\n",
        "    layers.BatchNormalization(),\n",
        "    layers.Activation('relu'),\n",
        "    layers.Dense(1, activation='sigmoid', name='output_layer')     \n",
        "])\n",
        "\n",
        "# Compile model\n",
        "model_batchnorm.compile(loss='binary_crossentropy',\n",
        "                        optimizer=Adam(1e-4),\n",
        "                        metrics=metrics)\n",
        "\n",
        "# Train the model\n",
        "history_batchnorm = model_batchnorm.fit(non_aug_train_rgb, epochs=10,\n",
        "                                        validation_data=non_aug_valid_rgb,\n",
        "                                        steps_per_epoch=len(non_aug_train_rgb),\n",
        "                                        validation_steps=len(non_aug_valid_rgb),\n",
        "                                        callbacks=callbacks)"
      ],
      "execution_count": null,
      "outputs": [
        {
          "output_type": "stream",
          "name": "stdout",
          "text": [
            "Epoch 1/10\n",
            "133/133 [==============================] - 1157s 8s/step - loss: 0.4342 - tp: 2325.0000 - fp: 24.0000 - tn: 1049.0000 - fn: 830.0000 - accuracy: 0.7980 - precision: 0.9898 - recall: 0.7369 - auc: 0.9665 - val_loss: 0.3140 - val_tp: 717.0000 - val_fp: 6.0000 - val_tn: 263.0000 - val_fn: 72.0000 - val_accuracy: 0.9263 - val_precision: 0.9917 - val_recall: 0.9087 - val_auc: 0.9912\n",
            "Epoch 2/10\n",
            "133/133 [==============================] - 78s 584ms/step - loss: 0.2228 - tp: 2901.0000 - fp: 21.0000 - tn: 1052.0000 - fn: 254.0000 - accuracy: 0.9350 - precision: 0.9928 - recall: 0.9195 - auc: 0.9896 - val_loss: 0.2230 - val_tp: 742.0000 - val_fp: 6.0000 - val_tn: 263.0000 - val_fn: 47.0000 - val_accuracy: 0.9499 - val_precision: 0.9920 - val_recall: 0.9404 - val_auc: 0.9946\n",
            "Epoch 3/10\n",
            "133/133 [==============================] - 75s 565ms/step - loss: 0.1568 - tp: 3017.0000 - fp: 37.0000 - tn: 1036.0000 - fn: 138.0000 - accuracy: 0.9586 - precision: 0.9879 - recall: 0.9563 - auc: 0.9930 - val_loss: 0.1588 - val_tp: 751.0000 - val_fp: 6.0000 - val_tn: 263.0000 - val_fn: 38.0000 - val_accuracy: 0.9584 - val_precision: 0.9921 - val_recall: 0.9518 - val_auc: 0.9958\n",
            "Epoch 4/10\n",
            "133/133 [==============================] - 77s 582ms/step - loss: 0.1292 - tp: 3040.0000 - fp: 32.0000 - tn: 1041.0000 - fn: 115.0000 - accuracy: 0.9652 - precision: 0.9896 - recall: 0.9635 - auc: 0.9945 - val_loss: 0.1213 - val_tp: 764.0000 - val_fp: 7.0000 - val_tn: 262.0000 - val_fn: 25.0000 - val_accuracy: 0.9698 - val_precision: 0.9909 - val_recall: 0.9683 - val_auc: 0.9968\n",
            "Epoch 5/10\n",
            "133/133 [==============================] - 76s 570ms/step - loss: 0.1131 - tp: 3064.0000 - fp: 34.0000 - tn: 1039.0000 - fn: 91.0000 - accuracy: 0.9704 - precision: 0.9890 - recall: 0.9712 - auc: 0.9946 - val_loss: 0.0993 - val_tp: 771.0000 - val_fp: 9.0000 - val_tn: 260.0000 - val_fn: 18.0000 - val_accuracy: 0.9745 - val_precision: 0.9885 - val_recall: 0.9772 - val_auc: 0.9976\n",
            "Epoch 6/10\n",
            "133/133 [==============================] - 73s 550ms/step - loss: 0.0963 - tp: 3089.0000 - fp: 34.0000 - tn: 1039.0000 - fn: 66.0000 - accuracy: 0.9763 - precision: 0.9891 - recall: 0.9791 - auc: 0.9963 - val_loss: 0.0852 - val_tp: 776.0000 - val_fp: 7.0000 - val_tn: 262.0000 - val_fn: 13.0000 - val_accuracy: 0.9811 - val_precision: 0.9911 - val_recall: 0.9835 - val_auc: 0.9979\n",
            "Epoch 7/10\n",
            "133/133 [==============================] - 74s 555ms/step - loss: 0.0854 - tp: 3096.0000 - fp: 30.0000 - tn: 1043.0000 - fn: 59.0000 - accuracy: 0.9789 - precision: 0.9904 - recall: 0.9813 - auc: 0.9974 - val_loss: 0.0771 - val_tp: 776.0000 - val_fp: 7.0000 - val_tn: 262.0000 - val_fn: 13.0000 - val_accuracy: 0.9811 - val_precision: 0.9911 - val_recall: 0.9835 - val_auc: 0.9981\n",
            "Epoch 8/10\n",
            "133/133 [==============================] - 74s 559ms/step - loss: 0.0750 - tp: 3116.0000 - fp: 30.0000 - tn: 1043.0000 - fn: 39.0000 - accuracy: 0.9837 - precision: 0.9905 - recall: 0.9876 - auc: 0.9980 - val_loss: 0.0703 - val_tp: 778.0000 - val_fp: 8.0000 - val_tn: 261.0000 - val_fn: 11.0000 - val_accuracy: 0.9820 - val_precision: 0.9898 - val_recall: 0.9861 - val_auc: 0.9981\n",
            "Epoch 9/10\n",
            "133/133 [==============================] - 76s 575ms/step - loss: 0.0627 - tp: 3113.0000 - fp: 15.0000 - tn: 1058.0000 - fn: 42.0000 - accuracy: 0.9865 - precision: 0.9952 - recall: 0.9867 - auc: 0.9987 - val_loss: 0.0658 - val_tp: 779.0000 - val_fp: 7.0000 - val_tn: 262.0000 - val_fn: 10.0000 - val_accuracy: 0.9839 - val_precision: 0.9911 - val_recall: 0.9873 - val_auc: 0.9983\n",
            "Epoch 10/10\n",
            "133/133 [==============================] - 74s 560ms/step - loss: 0.0574 - tp: 3117.0000 - fp: 15.0000 - tn: 1058.0000 - fn: 38.0000 - accuracy: 0.9875 - precision: 0.9952 - recall: 0.9880 - auc: 0.9989 - val_loss: 0.0628 - val_tp: 783.0000 - val_fp: 10.0000 - val_tn: 259.0000 - val_fn: 6.0000 - val_accuracy: 0.9849 - val_precision: 0.9874 - val_recall: 0.9924 - val_auc: 0.9987\n"
          ]
        }
      ]
    },
    {
      "cell_type": "code",
      "metadata": {
        "id": "-QQx2rSq2pNk",
        "colab": {
          "base_uri": "https://localhost:8080/"
        },
        "outputId": "3c11171a-a8bc-4d4a-f1eb-68cc68c386c0"
      },
      "source": [
        "model_batchnorm.summary()"
      ],
      "execution_count": null,
      "outputs": [
        {
          "output_type": "stream",
          "name": "stdout",
          "text": [
            "Model: \"sequential\"\n",
            "_________________________________________________________________\n",
            "Layer (type)                 Output Shape              Param #   \n",
            "=================================================================\n",
            "feature_extraction_layer (Ke (None, 1280)              5919312   \n",
            "_________________________________________________________________\n",
            "batch_normalization (BatchNo (None, 1280)              5120      \n",
            "_________________________________________________________________\n",
            "dense (Dense)                (None, 100)               128100    \n",
            "_________________________________________________________________\n",
            "batch_normalization_1 (Batch (None, 100)               400       \n",
            "_________________________________________________________________\n",
            "activation (Activation)      (None, 100)               0         \n",
            "_________________________________________________________________\n",
            "output_layer (Dense)         (None, 1)                 101       \n",
            "=================================================================\n",
            "Total params: 6,053,033\n",
            "Trainable params: 130,961\n",
            "Non-trainable params: 5,922,072\n",
            "_________________________________________________________________\n"
          ]
        }
      ]
    },
    {
      "cell_type": "markdown",
      "metadata": {
        "id": "dOIRV4K0suT-"
      },
      "source": [
        "## Dropout"
      ]
    },
    {
      "cell_type": "code",
      "metadata": {
        "id": "Ohc9dqYEspWQ",
        "colab": {
          "base_uri": "https://localhost:8080/"
        },
        "outputId": "66cb5276-8676-4baa-d057-51ed8b0de4aa"
      },
      "source": [
        "feature_extractor_layer = hub.KerasLayer(efficientnetv2_url,\n",
        "                                         trainable=False, # freeze the underlying patterns\n",
        "                                         name='feature_extraction_layer',\n",
        "                                         input_shape=(224, 224, 3,)) # define the input image shape\n",
        "\n",
        "model_dropout = tf.keras.Sequential([\n",
        "    feature_extractor_layer,\n",
        "    layers.BatchNormalization(),\n",
        "    layers.Dense(100),\n",
        "    layers.BatchNormalization(),\n",
        "    layers.Activation('relu'),\n",
        "    layers.Dropout(0.2),\n",
        "    layers.Dense(1, activation='sigmoid', name='output_layer')     \n",
        "])\n",
        "\n",
        "# Compile model\n",
        "model_dropout.compile(loss='binary_crossentropy',\n",
        "                      optimizer=Adam(1e-4),\n",
        "                      metrics=metrics)\n",
        "\n",
        "# Train the model\n",
        "history_dropout = model_dropout.fit(non_aug_train_rgb, epochs=10,\n",
        "                                    validation_data=non_aug_valid_rgb,\n",
        "                                    steps_per_epoch=len(non_aug_train_rgb),\n",
        "                                    validation_steps=len(non_aug_valid_rgb),\n",
        "                                    callbacks=callbacks)"
      ],
      "execution_count": null,
      "outputs": [
        {
          "output_type": "stream",
          "name": "stdout",
          "text": [
            "Epoch 1/10\n",
            "133/133 [==============================] - 87s 589ms/step - loss: 0.5022 - tp: 2934.0000 - fp: 60.0000 - tn: 1282.0000 - fn: 1010.0000 - accuracy: 0.7507 - precision: 0.9800 - recall: 0.7439 - auc: 0.9564 - val_loss: 0.3344 - val_tp: 728.0000 - val_fp: 11.0000 - val_tn: 258.0000 - val_fn: 61.0000 - val_accuracy: 0.9319 - val_precision: 0.9851 - val_recall: 0.9227 - val_auc: 0.9870\n",
            "Epoch 2/10\n",
            "133/133 [==============================] - 75s 566ms/step - loss: 0.2543 - tp: 2858.0000 - fp: 39.0000 - tn: 1034.0000 - fn: 297.0000 - accuracy: 0.9205 - precision: 0.9865 - recall: 0.9059 - auc: 0.9851 - val_loss: 0.2407 - val_tp: 744.0000 - val_fp: 6.0000 - val_tn: 263.0000 - val_fn: 45.0000 - val_accuracy: 0.9518 - val_precision: 0.9920 - val_recall: 0.9430 - val_auc: 0.9918\n",
            "Epoch 3/10\n",
            "133/133 [==============================] - 74s 560ms/step - loss: 0.1915 - tp: 2980.0000 - fp: 42.0000 - tn: 1031.0000 - fn: 175.0000 - accuracy: 0.9487 - precision: 0.9861 - recall: 0.9445 - auc: 0.9881 - val_loss: 0.1732 - val_tp: 751.0000 - val_fp: 5.0000 - val_tn: 264.0000 - val_fn: 38.0000 - val_accuracy: 0.9594 - val_precision: 0.9934 - val_recall: 0.9518 - val_auc: 0.9937\n",
            "Epoch 4/10\n",
            "133/133 [==============================] - 74s 559ms/step - loss: 0.1526 - tp: 3005.0000 - fp: 50.0000 - tn: 1023.0000 - fn: 150.0000 - accuracy: 0.9527 - precision: 0.9836 - recall: 0.9525 - auc: 0.9912 - val_loss: 0.1340 - val_tp: 760.0000 - val_fp: 9.0000 - val_tn: 260.0000 - val_fn: 29.0000 - val_accuracy: 0.9641 - val_precision: 0.9883 - val_recall: 0.9632 - val_auc: 0.9945\n",
            "Epoch 5/10\n",
            "133/133 [==============================] - 76s 574ms/step - loss: 0.1348 - tp: 3039.0000 - fp: 47.0000 - tn: 1026.0000 - fn: 116.0000 - accuracy: 0.9614 - precision: 0.9848 - recall: 0.9632 - auc: 0.9918 - val_loss: 0.1082 - val_tp: 769.0000 - val_fp: 9.0000 - val_tn: 260.0000 - val_fn: 20.0000 - val_accuracy: 0.9726 - val_precision: 0.9884 - val_recall: 0.9747 - val_auc: 0.9965\n",
            "Epoch 6/10\n",
            "133/133 [==============================] - 74s 560ms/step - loss: 0.1162 - tp: 3077.0000 - fp: 48.0000 - tn: 1025.0000 - fn: 78.0000 - accuracy: 0.9702 - precision: 0.9846 - recall: 0.9753 - auc: 0.9939 - val_loss: 0.0930 - val_tp: 769.0000 - val_fp: 8.0000 - val_tn: 261.0000 - val_fn: 20.0000 - val_accuracy: 0.9735 - val_precision: 0.9897 - val_recall: 0.9747 - val_auc: 0.9973\n",
            "Epoch 7/10\n",
            "133/133 [==============================] - 74s 555ms/step - loss: 0.0969 - tp: 3090.0000 - fp: 43.0000 - tn: 1030.0000 - fn: 65.0000 - accuracy: 0.9745 - precision: 0.9863 - recall: 0.9794 - auc: 0.9962 - val_loss: 0.0832 - val_tp: 771.0000 - val_fp: 9.0000 - val_tn: 260.0000 - val_fn: 18.0000 - val_accuracy: 0.9745 - val_precision: 0.9885 - val_recall: 0.9772 - val_auc: 0.9979\n",
            "Epoch 8/10\n",
            "133/133 [==============================] - 74s 556ms/step - loss: 0.0889 - tp: 3094.0000 - fp: 34.0000 - tn: 1039.0000 - fn: 61.0000 - accuracy: 0.9775 - precision: 0.9891 - recall: 0.9807 - auc: 0.9968 - val_loss: 0.0762 - val_tp: 780.0000 - val_fp: 11.0000 - val_tn: 258.0000 - val_fn: 9.0000 - val_accuracy: 0.9811 - val_precision: 0.9861 - val_recall: 0.9886 - val_auc: 0.9979\n",
            "Epoch 9/10\n",
            "133/133 [==============================] - 75s 563ms/step - loss: 0.0797 - tp: 3104.0000 - fp: 44.0000 - tn: 1029.0000 - fn: 51.0000 - accuracy: 0.9775 - precision: 0.9860 - recall: 0.9838 - auc: 0.9971 - val_loss: 0.0689 - val_tp: 773.0000 - val_fp: 5.0000 - val_tn: 264.0000 - val_fn: 16.0000 - val_accuracy: 0.9802 - val_precision: 0.9936 - val_recall: 0.9797 - val_auc: 0.9984\n",
            "Epoch 10/10\n",
            "133/133 [==============================] - 79s 595ms/step - loss: 0.0756 - tp: 3095.0000 - fp: 32.0000 - tn: 1041.0000 - fn: 60.0000 - accuracy: 0.9782 - precision: 0.9898 - recall: 0.9810 - auc: 0.9971 - val_loss: 0.0644 - val_tp: 777.0000 - val_fp: 7.0000 - val_tn: 262.0000 - val_fn: 12.0000 - val_accuracy: 0.9820 - val_precision: 0.9911 - val_recall: 0.9848 - val_auc: 0.9985\n"
          ]
        }
      ]
    },
    {
      "cell_type": "code",
      "metadata": {
        "id": "BuH_K4dPOlG6",
        "colab": {
          "base_uri": "https://localhost:8080/"
        },
        "outputId": "c0519178-189c-418f-b640-904cacd9ec29"
      },
      "source": [
        "model_dropout.summary()"
      ],
      "execution_count": null,
      "outputs": [
        {
          "output_type": "stream",
          "name": "stdout",
          "text": [
            "Model: \"sequential_1\"\n",
            "_________________________________________________________________\n",
            "Layer (type)                 Output Shape              Param #   \n",
            "=================================================================\n",
            "feature_extraction_layer (Ke (None, 1280)              5919312   \n",
            "_________________________________________________________________\n",
            "batch_normalization_2 (Batch (None, 1280)              5120      \n",
            "_________________________________________________________________\n",
            "dense_1 (Dense)              (None, 100)               128100    \n",
            "_________________________________________________________________\n",
            "batch_normalization_3 (Batch (None, 100)               400       \n",
            "_________________________________________________________________\n",
            "activation_1 (Activation)    (None, 100)               0         \n",
            "_________________________________________________________________\n",
            "dropout (Dropout)            (None, 100)               0         \n",
            "_________________________________________________________________\n",
            "output_layer (Dense)         (None, 1)                 101       \n",
            "=================================================================\n",
            "Total params: 6,053,033\n",
            "Trainable params: 130,961\n",
            "Non-trainable params: 5,922,072\n",
            "_________________________________________________________________\n"
          ]
        }
      ]
    },
    {
      "cell_type": "markdown",
      "metadata": {
        "id": "RWBgnoDUs1iv"
      },
      "source": [
        "## Evaluate"
      ]
    },
    {
      "cell_type": "code",
      "metadata": {
        "execution": {
          "iopub.status.busy": "2021-09-05T08:12:03.956105Z",
          "iopub.execute_input": "2021-09-05T08:12:03.956437Z",
          "iopub.status.idle": "2021-09-05T08:12:04.481630Z",
          "shell.execute_reply.started": "2021-09-05T08:12:03.956407Z",
          "shell.execute_reply": "2021-09-05T08:12:04.479913Z"
        },
        "trusted": true,
        "id": "8ONlvghzCKKq",
        "colab": {
          "base_uri": "https://localhost:8080/",
          "height": 1000
        },
        "outputId": "9cd2cf11-9a91-4270-e023-c2dba9ac1ce6"
      },
      "source": [
        "plot_learning_curves(['BatchNorm_1_Layer', history_batchnorm], ['Batchnorm_Dropout', history_dropout])"
      ],
      "execution_count": null,
      "outputs": [
        {
          "output_type": "display_data",
          "data": {
            "text/html": [
              "<html>\n",
              "<head><meta charset=\"utf-8\" /></head>\n",
              "<body>\n",
              "    <div>\n",
              "            <script src=\"https://cdnjs.cloudflare.com/ajax/libs/mathjax/2.7.5/MathJax.js?config=TeX-AMS-MML_SVG\"></script><script type=\"text/javascript\">if (window.MathJax) {MathJax.Hub.Config({SVG: {font: \"STIX-Web\"}});}</script>\n",
              "                <script type=\"text/javascript\">window.PlotlyConfig = {MathJaxConfig: 'local'};</script>\n",
              "        <script src=\"https://cdn.plot.ly/plotly-latest.min.js\"></script>    \n",
              "            <div id=\"420ff7c8-8694-4a25-a9d3-8e490af4d12c\" class=\"plotly-graph-div\" style=\"height:1500px; width:100%;\"></div>\n",
              "            <script type=\"text/javascript\">\n",
              "                \n",
              "                    window.PLOTLYENV=window.PLOTLYENV || {};\n",
              "                    \n",
              "                if (document.getElementById(\"420ff7c8-8694-4a25-a9d3-8e490af4d12c\")) {\n",
              "                    Plotly.newPlot(\n",
              "                        '420ff7c8-8694-4a25-a9d3-8e490af4d12c',\n",
              "                        [{\"name\": \"BatchNorm_1_Layer train\", \"type\": \"scatter\", \"x\": [1, 2, 3, 4, 5, 6, 7, 8, 9, 10], \"xaxis\": \"x\", \"y\": [0.43418076634407043, 0.22282952070236206, 0.15676741302013397, 0.12923677265644073, 0.11307250708341599, 0.09627337753772736, 0.08537280559539795, 0.07504801452159882, 0.06273895502090454, 0.057381462305784225], \"yaxis\": \"y\"}, {\"name\": \"BatchNorm_1_Layer val\", \"type\": \"scatter\", \"x\": [1, 2, 3, 4, 5, 6, 7, 8, 9, 10], \"xaxis\": \"x\", \"y\": [0.31395602226257324, 0.22296449542045593, 0.1588371843099594, 0.12128093838691711, 0.09932190924882889, 0.08522284030914307, 0.0771360844373703, 0.07031691819429398, 0.06580019742250443, 0.06280114501714706], \"yaxis\": \"y\"}, {\"name\": \"BatchNorm_1_Layer train\", \"type\": \"scatter\", \"x\": [1, 2, 3, 4, 5, 6, 7, 8, 9, 10], \"xaxis\": \"x2\", \"y\": [0.7369255423545837, 0.9194928407669067, 0.9562599062919617, 0.9635499119758606, 0.971156895160675, 0.9790807962417603, 0.9812995195388794, 0.9876386523246765, 0.9866877794265747, 0.987955629825592], \"yaxis\": \"y2\"}, {\"name\": \"BatchNorm_1_Layer val\", \"type\": \"scatter\", \"x\": [1, 2, 3, 4, 5, 6, 7, 8, 9, 10], \"xaxis\": \"x2\", \"y\": [0.9087452292442322, 0.9404309391975403, 0.9518377780914307, 0.9683143496513367, 0.9771863222122192, 0.983523428440094, 0.983523428440094, 0.9860582947731018, 0.9873257279396057, 0.9923954606056213], \"yaxis\": \"y2\"}, {\"name\": \"BatchNorm_1_Layer train\", \"type\": \"scatter\", \"x\": [1, 2, 3, 4, 5, 6, 7, 8, 9, 10], \"xaxis\": \"x3\", \"y\": [0.9665362238883972, 0.9896437525749207, 0.9930100440979004, 0.9944734573364258, 0.9946234822273254, 0.9963144063949585, 0.9974433183670044, 0.9980247616767883, 0.9987410306930542, 0.9989035129547119], \"yaxis\": \"y3\"}, {\"name\": \"BatchNorm_1_Layerval\", \"type\": \"scatter\", \"x\": [1, 2, 3, 4, 5, 6, 7, 8, 9, 10], \"xaxis\": \"x3\", \"y\": [0.9912457466125488, 0.9946051836013794, 0.995809018611908, 0.9968219995498657, 0.9976181983947754, 0.9979221820831299, 0.9981082081794739, 0.9980822801589966, 0.9983485341072083, 0.998708963394165], \"yaxis\": \"y3\"}, {\"name\": \"Batchnorm_Dropout train\", \"type\": \"scatter\", \"x\": [1, 2, 3, 4, 5, 6, 7, 8, 9, 10], \"xaxis\": \"x\", \"y\": [0.5022068023681641, 0.2543409466743469, 0.19151979684829712, 0.15256421267986298, 0.134785994887352, 0.11615490913391113, 0.09693916887044907, 0.0889068990945816, 0.07972793281078339, 0.07562881708145142], \"yaxis\": \"y\"}, {\"name\": \"Batchnorm_Dropout val\", \"type\": \"scatter\", \"x\": [1, 2, 3, 4, 5, 6, 7, 8, 9, 10], \"xaxis\": \"x\", \"y\": [0.3344176411628723, 0.24070996046066284, 0.1732383519411087, 0.13396364450454712, 0.10822951793670654, 0.09296906739473343, 0.08322225511074066, 0.07616185396909714, 0.06893853098154068, 0.06437461823225021], \"yaxis\": \"y\"}, {\"name\": \"Batchnorm_Dropout train\", \"type\": \"scatter\", \"x\": [1, 2, 3, 4, 5, 6, 7, 8, 9, 10], \"xaxis\": \"x2\", \"y\": [0.743914783000946, 0.9058637022972107, 0.9445325136184692, 0.9524564146995544, 0.9632329344749451, 0.9752773642539978, 0.9793977737426758, 0.9806656241416931, 0.9838351607322693, 0.9809825420379639], \"yaxis\": \"y2\"}, {\"name\": \"Batchnorm_Dropout val\", \"type\": \"scatter\", \"x\": [1, 2, 3, 4, 5, 6, 7, 8, 9, 10], \"xaxis\": \"x2\", \"y\": [0.9226869344711304, 0.9429658055305481, 0.9518377780914307, 0.963244616985321, 0.9746514558792114, 0.9746514558792114, 0.9771863222122192, 0.9885931611061096, 0.979721188545227, 0.9847908616065979], \"yaxis\": \"y2\"}, {\"name\": \"Batchnorm_Dropout train\", \"type\": \"scatter\", \"x\": [1, 2, 3, 4, 5, 6, 7, 8, 9, 10], \"xaxis\": \"x3\", \"y\": [0.9563955664634705, 0.9850548505783081, 0.988054633140564, 0.9911825656890869, 0.991828978061676, 0.993933379650116, 0.9962497353553772, 0.9967594742774963, 0.9971191883087158, 0.9970847964286804], \"yaxis\": \"y3\"}, {\"name\": \"Batchnorm_Dropoutval\", \"type\": \"scatter\", \"x\": [1, 2, 3, 4, 5, 6, 7, 8, 9, 10], \"xaxis\": \"x3\", \"y\": [0.9870147705078125, 0.9917522668838501, 0.9936793446540833, 0.9944873452186584, 0.996496856212616, 0.9972955584526062, 0.9978703856468201, 0.9978797435760498, 0.9983696937561035, 0.9984827637672424], \"yaxis\": \"y3\"}],\n",
              "                        {\"annotations\": [{\"font\": {\"size\": 16}, \"showarrow\": false, \"text\": \"Loss\", \"x\": 0.5, \"xanchor\": \"center\", \"xref\": \"paper\", \"y\": 1.0, \"yanchor\": \"bottom\", \"yref\": \"paper\"}, {\"font\": {\"size\": 16}, \"showarrow\": false, \"text\": \"Recall\", \"x\": 0.5, \"xanchor\": \"center\", \"xref\": \"paper\", \"y\": 0.6111111111111112, \"yanchor\": \"bottom\", \"yref\": \"paper\"}, {\"font\": {\"size\": 16}, \"showarrow\": false, \"text\": \"AUC\", \"x\": 0.5, \"xanchor\": \"center\", \"xref\": \"paper\", \"y\": 0.22222222222222224, \"yanchor\": \"bottom\", \"yref\": \"paper\"}], \"height\": 1500, \"template\": {\"data\": {\"bar\": [{\"error_x\": {\"color\": \"#2a3f5f\"}, \"error_y\": {\"color\": \"#2a3f5f\"}, \"marker\": {\"line\": {\"color\": \"#E5ECF6\", \"width\": 0.5}}, \"type\": \"bar\"}], \"barpolar\": [{\"marker\": {\"line\": {\"color\": \"#E5ECF6\", \"width\": 0.5}}, \"type\": \"barpolar\"}], \"carpet\": [{\"aaxis\": {\"endlinecolor\": \"#2a3f5f\", \"gridcolor\": \"white\", \"linecolor\": \"white\", \"minorgridcolor\": \"white\", \"startlinecolor\": \"#2a3f5f\"}, \"baxis\": {\"endlinecolor\": \"#2a3f5f\", \"gridcolor\": \"white\", \"linecolor\": \"white\", \"minorgridcolor\": \"white\", \"startlinecolor\": \"#2a3f5f\"}, \"type\": \"carpet\"}], \"choropleth\": [{\"colorbar\": {\"outlinewidth\": 0, \"ticks\": \"\"}, \"type\": \"choropleth\"}], \"contour\": [{\"colorbar\": {\"outlinewidth\": 0, \"ticks\": \"\"}, \"colorscale\": [[0.0, \"#0d0887\"], [0.1111111111111111, \"#46039f\"], [0.2222222222222222, \"#7201a8\"], [0.3333333333333333, \"#9c179e\"], [0.4444444444444444, \"#bd3786\"], [0.5555555555555556, \"#d8576b\"], [0.6666666666666666, \"#ed7953\"], [0.7777777777777778, \"#fb9f3a\"], [0.8888888888888888, \"#fdca26\"], [1.0, \"#f0f921\"]], \"type\": \"contour\"}], \"contourcarpet\": [{\"colorbar\": {\"outlinewidth\": 0, \"ticks\": \"\"}, \"type\": \"contourcarpet\"}], \"heatmap\": [{\"colorbar\": {\"outlinewidth\": 0, \"ticks\": \"\"}, \"colorscale\": [[0.0, \"#0d0887\"], [0.1111111111111111, \"#46039f\"], [0.2222222222222222, \"#7201a8\"], [0.3333333333333333, \"#9c179e\"], [0.4444444444444444, \"#bd3786\"], [0.5555555555555556, \"#d8576b\"], [0.6666666666666666, \"#ed7953\"], [0.7777777777777778, \"#fb9f3a\"], [0.8888888888888888, \"#fdca26\"], [1.0, \"#f0f921\"]], \"type\": \"heatmap\"}], \"heatmapgl\": [{\"colorbar\": {\"outlinewidth\": 0, \"ticks\": \"\"}, \"colorscale\": [[0.0, \"#0d0887\"], [0.1111111111111111, \"#46039f\"], [0.2222222222222222, \"#7201a8\"], [0.3333333333333333, \"#9c179e\"], [0.4444444444444444, \"#bd3786\"], [0.5555555555555556, \"#d8576b\"], [0.6666666666666666, \"#ed7953\"], [0.7777777777777778, \"#fb9f3a\"], [0.8888888888888888, \"#fdca26\"], [1.0, \"#f0f921\"]], \"type\": \"heatmapgl\"}], \"histogram\": [{\"marker\": {\"colorbar\": {\"outlinewidth\": 0, \"ticks\": \"\"}}, \"type\": \"histogram\"}], \"histogram2d\": [{\"colorbar\": {\"outlinewidth\": 0, \"ticks\": \"\"}, \"colorscale\": [[0.0, \"#0d0887\"], [0.1111111111111111, \"#46039f\"], [0.2222222222222222, \"#7201a8\"], [0.3333333333333333, \"#9c179e\"], [0.4444444444444444, \"#bd3786\"], [0.5555555555555556, \"#d8576b\"], [0.6666666666666666, \"#ed7953\"], [0.7777777777777778, \"#fb9f3a\"], [0.8888888888888888, \"#fdca26\"], [1.0, \"#f0f921\"]], \"type\": \"histogram2d\"}], \"histogram2dcontour\": [{\"colorbar\": {\"outlinewidth\": 0, \"ticks\": \"\"}, \"colorscale\": [[0.0, \"#0d0887\"], [0.1111111111111111, \"#46039f\"], [0.2222222222222222, \"#7201a8\"], [0.3333333333333333, \"#9c179e\"], [0.4444444444444444, \"#bd3786\"], [0.5555555555555556, \"#d8576b\"], [0.6666666666666666, \"#ed7953\"], [0.7777777777777778, \"#fb9f3a\"], [0.8888888888888888, \"#fdca26\"], [1.0, \"#f0f921\"]], \"type\": \"histogram2dcontour\"}], \"mesh3d\": [{\"colorbar\": {\"outlinewidth\": 0, \"ticks\": \"\"}, \"type\": \"mesh3d\"}], \"parcoords\": [{\"line\": {\"colorbar\": {\"outlinewidth\": 0, \"ticks\": \"\"}}, \"type\": \"parcoords\"}], \"pie\": [{\"automargin\": true, \"type\": \"pie\"}], \"scatter\": [{\"marker\": {\"colorbar\": {\"outlinewidth\": 0, \"ticks\": \"\"}}, \"type\": \"scatter\"}], \"scatter3d\": [{\"line\": {\"colorbar\": {\"outlinewidth\": 0, \"ticks\": \"\"}}, \"marker\": {\"colorbar\": {\"outlinewidth\": 0, \"ticks\": \"\"}}, \"type\": \"scatter3d\"}], \"scattercarpet\": [{\"marker\": {\"colorbar\": {\"outlinewidth\": 0, \"ticks\": \"\"}}, \"type\": \"scattercarpet\"}], \"scattergeo\": [{\"marker\": {\"colorbar\": {\"outlinewidth\": 0, \"ticks\": \"\"}}, \"type\": \"scattergeo\"}], \"scattergl\": [{\"marker\": {\"colorbar\": {\"outlinewidth\": 0, \"ticks\": \"\"}}, \"type\": \"scattergl\"}], \"scattermapbox\": [{\"marker\": {\"colorbar\": {\"outlinewidth\": 0, \"ticks\": \"\"}}, \"type\": \"scattermapbox\"}], \"scatterpolar\": [{\"marker\": {\"colorbar\": {\"outlinewidth\": 0, \"ticks\": \"\"}}, \"type\": \"scatterpolar\"}], \"scatterpolargl\": [{\"marker\": {\"colorbar\": {\"outlinewidth\": 0, \"ticks\": \"\"}}, \"type\": \"scatterpolargl\"}], \"scatterternary\": [{\"marker\": {\"colorbar\": {\"outlinewidth\": 0, \"ticks\": \"\"}}, \"type\": \"scatterternary\"}], \"surface\": [{\"colorbar\": {\"outlinewidth\": 0, \"ticks\": \"\"}, \"colorscale\": [[0.0, \"#0d0887\"], [0.1111111111111111, \"#46039f\"], [0.2222222222222222, \"#7201a8\"], [0.3333333333333333, \"#9c179e\"], [0.4444444444444444, \"#bd3786\"], [0.5555555555555556, \"#d8576b\"], [0.6666666666666666, \"#ed7953\"], [0.7777777777777778, \"#fb9f3a\"], [0.8888888888888888, \"#fdca26\"], [1.0, \"#f0f921\"]], \"type\": \"surface\"}], \"table\": [{\"cells\": {\"fill\": {\"color\": \"#EBF0F8\"}, \"line\": {\"color\": \"white\"}}, \"header\": {\"fill\": {\"color\": \"#C8D4E3\"}, \"line\": {\"color\": \"white\"}}, \"type\": \"table\"}]}, \"layout\": {\"annotationdefaults\": {\"arrowcolor\": \"#2a3f5f\", \"arrowhead\": 0, \"arrowwidth\": 1}, \"coloraxis\": {\"colorbar\": {\"outlinewidth\": 0, \"ticks\": \"\"}}, \"colorscale\": {\"diverging\": [[0, \"#8e0152\"], [0.1, \"#c51b7d\"], [0.2, \"#de77ae\"], [0.3, \"#f1b6da\"], [0.4, \"#fde0ef\"], [0.5, \"#f7f7f7\"], [0.6, \"#e6f5d0\"], [0.7, \"#b8e186\"], [0.8, \"#7fbc41\"], [0.9, \"#4d9221\"], [1, \"#276419\"]], \"sequential\": [[0.0, \"#0d0887\"], [0.1111111111111111, \"#46039f\"], [0.2222222222222222, \"#7201a8\"], [0.3333333333333333, \"#9c179e\"], [0.4444444444444444, \"#bd3786\"], [0.5555555555555556, \"#d8576b\"], [0.6666666666666666, \"#ed7953\"], [0.7777777777777778, \"#fb9f3a\"], [0.8888888888888888, \"#fdca26\"], [1.0, \"#f0f921\"]], \"sequentialminus\": [[0.0, \"#0d0887\"], [0.1111111111111111, \"#46039f\"], [0.2222222222222222, \"#7201a8\"], [0.3333333333333333, \"#9c179e\"], [0.4444444444444444, \"#bd3786\"], [0.5555555555555556, \"#d8576b\"], [0.6666666666666666, \"#ed7953\"], [0.7777777777777778, \"#fb9f3a\"], [0.8888888888888888, \"#fdca26\"], [1.0, \"#f0f921\"]]}, \"colorway\": [\"#636efa\", \"#EF553B\", \"#00cc96\", \"#ab63fa\", \"#FFA15A\", \"#19d3f3\", \"#FF6692\", \"#B6E880\", \"#FF97FF\", \"#FECB52\"], \"font\": {\"color\": \"#2a3f5f\"}, \"geo\": {\"bgcolor\": \"white\", \"lakecolor\": \"white\", \"landcolor\": \"#E5ECF6\", \"showlakes\": true, \"showland\": true, \"subunitcolor\": \"white\"}, \"hoverlabel\": {\"align\": \"left\"}, \"hovermode\": \"closest\", \"mapbox\": {\"style\": \"light\"}, \"paper_bgcolor\": \"white\", \"plot_bgcolor\": \"#E5ECF6\", \"polar\": {\"angularaxis\": {\"gridcolor\": \"white\", \"linecolor\": \"white\", \"ticks\": \"\"}, \"bgcolor\": \"#E5ECF6\", \"radialaxis\": {\"gridcolor\": \"white\", \"linecolor\": \"white\", \"ticks\": \"\"}}, \"scene\": {\"xaxis\": {\"backgroundcolor\": \"#E5ECF6\", \"gridcolor\": \"white\", \"gridwidth\": 2, \"linecolor\": \"white\", \"showbackground\": true, \"ticks\": \"\", \"zerolinecolor\": \"white\"}, \"yaxis\": {\"backgroundcolor\": \"#E5ECF6\", \"gridcolor\": \"white\", \"gridwidth\": 2, \"linecolor\": \"white\", \"showbackground\": true, \"ticks\": \"\", \"zerolinecolor\": \"white\"}, \"zaxis\": {\"backgroundcolor\": \"#E5ECF6\", \"gridcolor\": \"white\", \"gridwidth\": 2, \"linecolor\": \"white\", \"showbackground\": true, \"ticks\": \"\", \"zerolinecolor\": \"white\"}}, \"shapedefaults\": {\"line\": {\"color\": \"#2a3f5f\"}}, \"ternary\": {\"aaxis\": {\"gridcolor\": \"white\", \"linecolor\": \"white\", \"ticks\": \"\"}, \"baxis\": {\"gridcolor\": \"white\", \"linecolor\": \"white\", \"ticks\": \"\"}, \"bgcolor\": \"#E5ECF6\", \"caxis\": {\"gridcolor\": \"white\", \"linecolor\": \"white\", \"ticks\": \"\"}}, \"title\": {\"x\": 0.05}, \"xaxis\": {\"automargin\": true, \"gridcolor\": \"white\", \"linecolor\": \"white\", \"ticks\": \"\", \"title\": {\"standoff\": 15}, \"zerolinecolor\": \"white\", \"zerolinewidth\": 2}, \"yaxis\": {\"automargin\": true, \"gridcolor\": \"white\", \"linecolor\": \"white\", \"ticks\": \"\", \"title\": {\"standoff\": 15}, \"zerolinecolor\": \"white\", \"zerolinewidth\": 2}}}, \"title\": {\"text\": \"Learning Curves\"}, \"xaxis\": {\"anchor\": \"y\", \"domain\": [0.0, 1.0], \"title\": {\"text\": \"Epochs\"}}, \"xaxis2\": {\"anchor\": \"y2\", \"domain\": [0.0, 1.0], \"title\": {\"text\": \"Epochs\"}}, \"xaxis3\": {\"anchor\": \"y3\", \"domain\": [0.0, 1.0], \"title\": {\"text\": \"Epochs\"}}, \"yaxis\": {\"anchor\": \"x\", \"domain\": [0.7777777777777778, 1.0], \"title\": {\"text\": \"Loss\"}}, \"yaxis2\": {\"anchor\": \"x2\", \"domain\": [0.3888888888888889, 0.6111111111111112], \"title\": {\"text\": \"Recall\"}}, \"yaxis3\": {\"anchor\": \"x3\", \"domain\": [0.0, 0.22222222222222224], \"title\": {\"text\": \"AUC\"}}},\n",
              "                        {\"responsive\": true}\n",
              "                    ).then(function(){\n",
              "                            \n",
              "var gd = document.getElementById('420ff7c8-8694-4a25-a9d3-8e490af4d12c');\n",
              "var x = new MutationObserver(function (mutations, observer) {{\n",
              "        var display = window.getComputedStyle(gd).display;\n",
              "        if (!display || display === 'none') {{\n",
              "            console.log([gd, 'removed!']);\n",
              "            Plotly.purge(gd);\n",
              "            observer.disconnect();\n",
              "        }}\n",
              "}});\n",
              "\n",
              "// Listen for the removal of the full notebook cells\n",
              "var notebookContainer = gd.closest('#notebook-container');\n",
              "if (notebookContainer) {{\n",
              "    x.observe(notebookContainer, {childList: true});\n",
              "}}\n",
              "\n",
              "// Listen for the clearing of the current output cell\n",
              "var outputEl = gd.closest('.output');\n",
              "if (outputEl) {{\n",
              "    x.observe(outputEl, {childList: true});\n",
              "}}\n",
              "\n",
              "                        })\n",
              "                };\n",
              "                \n",
              "            </script>\n",
              "        </div>\n",
              "</body>\n",
              "</html>"
            ]
          },
          "metadata": {}
        }
      ]
    },
    {
      "cell_type": "code",
      "metadata": {
        "execution": {
          "iopub.status.busy": "2021-09-05T08:12:04.485628Z",
          "iopub.execute_input": "2021-09-05T08:12:04.486010Z",
          "iopub.status.idle": "2021-09-05T08:12:17.806846Z",
          "shell.execute_reply.started": "2021-09-05T08:12:04.485970Z",
          "shell.execute_reply": "2021-09-05T08:12:17.805941Z"
        },
        "trusted": true,
        "id": "Yu46iOdXCKKr",
        "colab": {
          "base_uri": "https://localhost:8080/",
          "height": 542
        },
        "outputId": "a4aead7c-92fb-4047-ef4d-273a8f353ecf"
      },
      "source": [
        "predict_valid_rgb.reset()\n",
        "pred_batchnorm = model_batchnorm.predict(predict_valid_rgb)\n",
        "\n",
        "predict_valid_rgb.reset()\n",
        "pred_dropout = model_dropout.predict(predict_valid_rgb)\n",
        "\n",
        "y_true = [0 if x == 'Normal' else 1 for x in valid_data['Label']]\n",
        "\n",
        "plot_roc_curve(['BatchNorm', y_true, pred_batchnorm], ['BatchNorm_Dropout', y_true, pred_dropout])"
      ],
      "execution_count": null,
      "outputs": [
        {
          "output_type": "display_data",
          "data": {
            "text/html": [
              "<html>\n",
              "<head><meta charset=\"utf-8\" /></head>\n",
              "<body>\n",
              "    <div>\n",
              "            <script src=\"https://cdnjs.cloudflare.com/ajax/libs/mathjax/2.7.5/MathJax.js?config=TeX-AMS-MML_SVG\"></script><script type=\"text/javascript\">if (window.MathJax) {MathJax.Hub.Config({SVG: {font: \"STIX-Web\"}});}</script>\n",
              "                <script type=\"text/javascript\">window.PlotlyConfig = {MathJaxConfig: 'local'};</script>\n",
              "        <script src=\"https://cdn.plot.ly/plotly-latest.min.js\"></script>    \n",
              "            <div id=\"424ef0bb-e2a5-41dc-9863-56b6ebbecf56\" class=\"plotly-graph-div\" style=\"height:525px; width:100%;\"></div>\n",
              "            <script type=\"text/javascript\">\n",
              "                \n",
              "                    window.PLOTLYENV=window.PLOTLYENV || {};\n",
              "                    \n",
              "                if (document.getElementById(\"424ef0bb-e2a5-41dc-9863-56b6ebbecf56\")) {\n",
              "                    Plotly.newPlot(\n",
              "                        '424ef0bb-e2a5-41dc-9863-56b6ebbecf56',\n",
              "                        [{\"name\": \"BatchNorm\", \"type\": \"scatter\", \"x\": [0.0, 0.0, 0.0, 0.0037174721189591076, 0.0037174721189591076, 0.007434944237918215, 0.007434944237918215, 0.011152416356877323, 0.011152416356877323, 0.01486988847583643, 0.01486988847583643, 0.01858736059479554, 0.01858736059479554, 0.04460966542750929, 0.04460966542750929, 0.05947955390334572, 0.05947955390334572, 0.09293680297397769, 0.09293680297397769, 0.11524163568773234, 0.11524163568773234, 0.20446096654275092, 0.20446096654275092, 1.0], \"y\": [0.0, 0.0012674271229404308, 0.9455006337135615, 0.9455006337135615, 0.9543726235741445, 0.9543726235741445, 0.9657794676806084, 0.9657794676806084, 0.9695817490494296, 0.9695817490494296, 0.9847908745247148, 0.9847908745247148, 0.9923954372623575, 0.9923954372623575, 0.9936628643852978, 0.9936628643852978, 0.9949302915082383, 0.9949302915082383, 0.9974651457541192, 0.9974651457541192, 0.9987325728770595, 0.9987325728770595, 1.0, 1.0]}, {\"name\": \"BatchNorm_Dropout\", \"type\": \"scatter\", \"x\": [0.0, 0.0, 0.0, 0.0, 0.0, 0.0037174721189591076, 0.0037174721189591076, 0.007434944237918215, 0.007434944237918215, 0.011152416356877323, 0.011152416356877323, 0.01486988847583643, 0.01486988847583643, 0.022304832713754646, 0.022304832713754646, 0.026022304832713755, 0.026022304832713755, 0.02973977695167286, 0.02973977695167286, 0.03345724907063197, 0.03345724907063197, 0.03717472118959108, 0.03717472118959108, 0.07806691449814127, 0.07806691449814127, 0.08550185873605948, 0.08550185873605948, 0.10037174721189591, 0.10037174721189591, 0.15613382899628253, 0.15613382899628253, 0.15985130111524162, 0.15985130111524162, 1.0], \"y\": [0.0, 0.0012674271229404308, 0.1850443599493029, 0.18757921419518378, 0.9302915082382763, 0.9302915082382763, 0.9429657794676806, 0.9429657794676806, 0.9543726235741445, 0.9543726235741445, 0.9784537389100126, 0.9784537389100126, 0.982256020278834, 0.982256020278834, 0.9847908745247148, 0.9847908745247148, 0.9885931558935361, 0.9885931558935361, 0.991128010139417, 0.991128010139417, 0.9923954372623575, 0.9923954372623575, 0.9936628643852978, 0.9936628643852978, 0.9949302915082383, 0.9949302915082383, 0.9961977186311787, 0.9961977186311787, 0.9974651457541192, 0.9974651457541192, 0.9987325728770595, 0.9987325728770595, 1.0, 1.0]}],\n",
              "                        {\"template\": {\"data\": {\"bar\": [{\"error_x\": {\"color\": \"#2a3f5f\"}, \"error_y\": {\"color\": \"#2a3f5f\"}, \"marker\": {\"line\": {\"color\": \"#E5ECF6\", \"width\": 0.5}}, \"type\": \"bar\"}], \"barpolar\": [{\"marker\": {\"line\": {\"color\": \"#E5ECF6\", \"width\": 0.5}}, \"type\": \"barpolar\"}], \"carpet\": [{\"aaxis\": {\"endlinecolor\": \"#2a3f5f\", \"gridcolor\": \"white\", \"linecolor\": \"white\", \"minorgridcolor\": \"white\", \"startlinecolor\": \"#2a3f5f\"}, \"baxis\": {\"endlinecolor\": \"#2a3f5f\", \"gridcolor\": \"white\", \"linecolor\": \"white\", \"minorgridcolor\": \"white\", \"startlinecolor\": \"#2a3f5f\"}, \"type\": \"carpet\"}], \"choropleth\": [{\"colorbar\": {\"outlinewidth\": 0, \"ticks\": \"\"}, \"type\": \"choropleth\"}], \"contour\": [{\"colorbar\": {\"outlinewidth\": 0, \"ticks\": \"\"}, \"colorscale\": [[0.0, \"#0d0887\"], [0.1111111111111111, \"#46039f\"], [0.2222222222222222, \"#7201a8\"], [0.3333333333333333, \"#9c179e\"], [0.4444444444444444, \"#bd3786\"], [0.5555555555555556, \"#d8576b\"], [0.6666666666666666, \"#ed7953\"], [0.7777777777777778, \"#fb9f3a\"], [0.8888888888888888, \"#fdca26\"], [1.0, \"#f0f921\"]], \"type\": \"contour\"}], \"contourcarpet\": [{\"colorbar\": {\"outlinewidth\": 0, \"ticks\": \"\"}, \"type\": \"contourcarpet\"}], \"heatmap\": [{\"colorbar\": {\"outlinewidth\": 0, \"ticks\": \"\"}, \"colorscale\": [[0.0, \"#0d0887\"], [0.1111111111111111, \"#46039f\"], [0.2222222222222222, \"#7201a8\"], [0.3333333333333333, \"#9c179e\"], [0.4444444444444444, \"#bd3786\"], [0.5555555555555556, \"#d8576b\"], [0.6666666666666666, \"#ed7953\"], [0.7777777777777778, \"#fb9f3a\"], [0.8888888888888888, \"#fdca26\"], [1.0, \"#f0f921\"]], \"type\": \"heatmap\"}], \"heatmapgl\": [{\"colorbar\": {\"outlinewidth\": 0, \"ticks\": \"\"}, \"colorscale\": [[0.0, \"#0d0887\"], [0.1111111111111111, \"#46039f\"], [0.2222222222222222, \"#7201a8\"], [0.3333333333333333, \"#9c179e\"], [0.4444444444444444, \"#bd3786\"], [0.5555555555555556, \"#d8576b\"], [0.6666666666666666, \"#ed7953\"], [0.7777777777777778, \"#fb9f3a\"], [0.8888888888888888, \"#fdca26\"], [1.0, \"#f0f921\"]], \"type\": \"heatmapgl\"}], \"histogram\": [{\"marker\": {\"colorbar\": {\"outlinewidth\": 0, \"ticks\": \"\"}}, \"type\": \"histogram\"}], \"histogram2d\": [{\"colorbar\": {\"outlinewidth\": 0, \"ticks\": \"\"}, \"colorscale\": [[0.0, \"#0d0887\"], [0.1111111111111111, \"#46039f\"], [0.2222222222222222, \"#7201a8\"], [0.3333333333333333, \"#9c179e\"], [0.4444444444444444, \"#bd3786\"], [0.5555555555555556, \"#d8576b\"], [0.6666666666666666, \"#ed7953\"], [0.7777777777777778, \"#fb9f3a\"], [0.8888888888888888, \"#fdca26\"], [1.0, \"#f0f921\"]], \"type\": \"histogram2d\"}], \"histogram2dcontour\": [{\"colorbar\": {\"outlinewidth\": 0, \"ticks\": \"\"}, \"colorscale\": [[0.0, \"#0d0887\"], [0.1111111111111111, \"#46039f\"], [0.2222222222222222, \"#7201a8\"], [0.3333333333333333, \"#9c179e\"], [0.4444444444444444, \"#bd3786\"], [0.5555555555555556, \"#d8576b\"], [0.6666666666666666, \"#ed7953\"], [0.7777777777777778, \"#fb9f3a\"], [0.8888888888888888, \"#fdca26\"], [1.0, \"#f0f921\"]], \"type\": \"histogram2dcontour\"}], \"mesh3d\": [{\"colorbar\": {\"outlinewidth\": 0, \"ticks\": \"\"}, \"type\": \"mesh3d\"}], \"parcoords\": [{\"line\": {\"colorbar\": {\"outlinewidth\": 0, \"ticks\": \"\"}}, \"type\": \"parcoords\"}], \"pie\": [{\"automargin\": true, \"type\": \"pie\"}], \"scatter\": [{\"marker\": {\"colorbar\": {\"outlinewidth\": 0, \"ticks\": \"\"}}, \"type\": \"scatter\"}], \"scatter3d\": [{\"line\": {\"colorbar\": {\"outlinewidth\": 0, \"ticks\": \"\"}}, \"marker\": {\"colorbar\": {\"outlinewidth\": 0, \"ticks\": \"\"}}, \"type\": \"scatter3d\"}], \"scattercarpet\": [{\"marker\": {\"colorbar\": {\"outlinewidth\": 0, \"ticks\": \"\"}}, \"type\": \"scattercarpet\"}], \"scattergeo\": [{\"marker\": {\"colorbar\": {\"outlinewidth\": 0, \"ticks\": \"\"}}, \"type\": \"scattergeo\"}], \"scattergl\": [{\"marker\": {\"colorbar\": {\"outlinewidth\": 0, \"ticks\": \"\"}}, \"type\": \"scattergl\"}], \"scattermapbox\": [{\"marker\": {\"colorbar\": {\"outlinewidth\": 0, \"ticks\": \"\"}}, \"type\": \"scattermapbox\"}], \"scatterpolar\": [{\"marker\": {\"colorbar\": {\"outlinewidth\": 0, \"ticks\": \"\"}}, \"type\": \"scatterpolar\"}], \"scatterpolargl\": [{\"marker\": {\"colorbar\": {\"outlinewidth\": 0, \"ticks\": \"\"}}, \"type\": \"scatterpolargl\"}], \"scatterternary\": [{\"marker\": {\"colorbar\": {\"outlinewidth\": 0, \"ticks\": \"\"}}, \"type\": \"scatterternary\"}], \"surface\": [{\"colorbar\": {\"outlinewidth\": 0, \"ticks\": \"\"}, \"colorscale\": [[0.0, \"#0d0887\"], [0.1111111111111111, \"#46039f\"], [0.2222222222222222, \"#7201a8\"], [0.3333333333333333, \"#9c179e\"], [0.4444444444444444, \"#bd3786\"], [0.5555555555555556, \"#d8576b\"], [0.6666666666666666, \"#ed7953\"], [0.7777777777777778, \"#fb9f3a\"], [0.8888888888888888, \"#fdca26\"], [1.0, \"#f0f921\"]], \"type\": \"surface\"}], \"table\": [{\"cells\": {\"fill\": {\"color\": \"#EBF0F8\"}, \"line\": {\"color\": \"white\"}}, \"header\": {\"fill\": {\"color\": \"#C8D4E3\"}, \"line\": {\"color\": \"white\"}}, \"type\": \"table\"}]}, \"layout\": {\"annotationdefaults\": {\"arrowcolor\": \"#2a3f5f\", \"arrowhead\": 0, \"arrowwidth\": 1}, \"coloraxis\": {\"colorbar\": {\"outlinewidth\": 0, \"ticks\": \"\"}}, \"colorscale\": {\"diverging\": [[0, \"#8e0152\"], [0.1, \"#c51b7d\"], [0.2, \"#de77ae\"], [0.3, \"#f1b6da\"], [0.4, \"#fde0ef\"], [0.5, \"#f7f7f7\"], [0.6, \"#e6f5d0\"], [0.7, \"#b8e186\"], [0.8, \"#7fbc41\"], [0.9, \"#4d9221\"], [1, \"#276419\"]], \"sequential\": [[0.0, \"#0d0887\"], [0.1111111111111111, \"#46039f\"], [0.2222222222222222, \"#7201a8\"], [0.3333333333333333, \"#9c179e\"], [0.4444444444444444, \"#bd3786\"], [0.5555555555555556, \"#d8576b\"], [0.6666666666666666, \"#ed7953\"], [0.7777777777777778, \"#fb9f3a\"], [0.8888888888888888, \"#fdca26\"], [1.0, \"#f0f921\"]], \"sequentialminus\": [[0.0, \"#0d0887\"], [0.1111111111111111, \"#46039f\"], [0.2222222222222222, \"#7201a8\"], [0.3333333333333333, \"#9c179e\"], [0.4444444444444444, \"#bd3786\"], [0.5555555555555556, \"#d8576b\"], [0.6666666666666666, \"#ed7953\"], [0.7777777777777778, \"#fb9f3a\"], [0.8888888888888888, \"#fdca26\"], [1.0, \"#f0f921\"]]}, \"colorway\": [\"#636efa\", \"#EF553B\", \"#00cc96\", \"#ab63fa\", \"#FFA15A\", \"#19d3f3\", \"#FF6692\", \"#B6E880\", \"#FF97FF\", \"#FECB52\"], \"font\": {\"color\": \"#2a3f5f\"}, \"geo\": {\"bgcolor\": \"white\", \"lakecolor\": \"white\", \"landcolor\": \"#E5ECF6\", \"showlakes\": true, \"showland\": true, \"subunitcolor\": \"white\"}, \"hoverlabel\": {\"align\": \"left\"}, \"hovermode\": \"closest\", \"mapbox\": {\"style\": \"light\"}, \"paper_bgcolor\": \"white\", \"plot_bgcolor\": \"#E5ECF6\", \"polar\": {\"angularaxis\": {\"gridcolor\": \"white\", \"linecolor\": \"white\", \"ticks\": \"\"}, \"bgcolor\": \"#E5ECF6\", \"radialaxis\": {\"gridcolor\": \"white\", \"linecolor\": \"white\", \"ticks\": \"\"}}, \"scene\": {\"xaxis\": {\"backgroundcolor\": \"#E5ECF6\", \"gridcolor\": \"white\", \"gridwidth\": 2, \"linecolor\": \"white\", \"showbackground\": true, \"ticks\": \"\", \"zerolinecolor\": \"white\"}, \"yaxis\": {\"backgroundcolor\": \"#E5ECF6\", \"gridcolor\": \"white\", \"gridwidth\": 2, \"linecolor\": \"white\", \"showbackground\": true, \"ticks\": \"\", \"zerolinecolor\": \"white\"}, \"zaxis\": {\"backgroundcolor\": \"#E5ECF6\", \"gridcolor\": \"white\", \"gridwidth\": 2, \"linecolor\": \"white\", \"showbackground\": true, \"ticks\": \"\", \"zerolinecolor\": \"white\"}}, \"shapedefaults\": {\"line\": {\"color\": \"#2a3f5f\"}}, \"ternary\": {\"aaxis\": {\"gridcolor\": \"white\", \"linecolor\": \"white\", \"ticks\": \"\"}, \"baxis\": {\"gridcolor\": \"white\", \"linecolor\": \"white\", \"ticks\": \"\"}, \"bgcolor\": \"#E5ECF6\", \"caxis\": {\"gridcolor\": \"white\", \"linecolor\": \"white\", \"ticks\": \"\"}}, \"title\": {\"x\": 0.05}, \"xaxis\": {\"automargin\": true, \"gridcolor\": \"white\", \"linecolor\": \"white\", \"ticks\": \"\", \"title\": {\"standoff\": 15}, \"zerolinecolor\": \"white\", \"zerolinewidth\": 2}, \"yaxis\": {\"automargin\": true, \"gridcolor\": \"white\", \"linecolor\": \"white\", \"ticks\": \"\", \"title\": {\"standoff\": 15}, \"zerolinecolor\": \"white\", \"zerolinewidth\": 2}}}, \"title\": {\"text\": \"ROC Curve\"}, \"xaxis\": {\"title\": {\"text\": \"FPR\"}}, \"yaxis\": {\"title\": {\"text\": \"TPR\"}}},\n",
              "                        {\"responsive\": true}\n",
              "                    ).then(function(){\n",
              "                            \n",
              "var gd = document.getElementById('424ef0bb-e2a5-41dc-9863-56b6ebbecf56');\n",
              "var x = new MutationObserver(function (mutations, observer) {{\n",
              "        var display = window.getComputedStyle(gd).display;\n",
              "        if (!display || display === 'none') {{\n",
              "            console.log([gd, 'removed!']);\n",
              "            Plotly.purge(gd);\n",
              "            observer.disconnect();\n",
              "        }}\n",
              "}});\n",
              "\n",
              "// Listen for the removal of the full notebook cells\n",
              "var notebookContainer = gd.closest('#notebook-container');\n",
              "if (notebookContainer) {{\n",
              "    x.observe(notebookContainer, {childList: true});\n",
              "}}\n",
              "\n",
              "// Listen for the clearing of the current output cell\n",
              "var outputEl = gd.closest('.output');\n",
              "if (outputEl) {{\n",
              "    x.observe(outputEl, {childList: true});\n",
              "}}\n",
              "\n",
              "                        })\n",
              "                };\n",
              "                \n",
              "            </script>\n",
              "        </div>\n",
              "</body>\n",
              "</html>"
            ]
          },
          "metadata": {}
        }
      ]
    },
    {
      "cell_type": "code",
      "metadata": {
        "id": "LZIOG_WzyuQ5",
        "colab": {
          "base_uri": "https://localhost:8080/"
        },
        "outputId": "1a13d907-ea68-4a91-ff46-2e1dc765148d"
      },
      "source": [
        "evaluate_model(y_true, pred_batchnorm)"
      ],
      "execution_count": null,
      "outputs": [
        {
          "output_type": "stream",
          "name": "stdout",
          "text": [
            "===== Classification Report ======\n",
            "              precision    recall  f1-score   support\n",
            "\n",
            "           0       0.98      0.96      0.97       269\n",
            "           1       0.99      0.99      0.99       789\n",
            "\n",
            "    accuracy                           0.98      1058\n",
            "   macro avg       0.98      0.98      0.98      1058\n",
            "weighted avg       0.98      0.98      0.98      1058\n",
            "\n",
            "\n",
            "===== Confusion Matrix =====\n",
            "[[259  10]\n",
            " [  6 783]]\n",
            "\n",
            "===== Other Metrics =====\n",
            "ROC_AUC: 0.998708963394165\n"
          ]
        }
      ]
    },
    {
      "cell_type": "code",
      "metadata": {
        "id": "gntEPuQ0U7bC",
        "colab": {
          "base_uri": "https://localhost:8080/"
        },
        "outputId": "8571f426-6480-43a6-aa9e-cfb59f91d6c2"
      },
      "source": [
        "evaluate_model(y_true, pred_dropout)"
      ],
      "execution_count": null,
      "outputs": [
        {
          "output_type": "stream",
          "name": "stdout",
          "text": [
            "===== Classification Report ======\n",
            "              precision    recall  f1-score   support\n",
            "\n",
            "           0       0.96      0.97      0.97       269\n",
            "           1       0.99      0.98      0.99       789\n",
            "\n",
            "    accuracy                           0.98      1058\n",
            "   macro avg       0.97      0.98      0.98      1058\n",
            "weighted avg       0.98      0.98      0.98      1058\n",
            "\n",
            "\n",
            "===== Confusion Matrix =====\n",
            "[[262   7]\n",
            " [ 12 777]]\n",
            "\n",
            "===== Other Metrics =====\n",
            "ROC_AUC: 0.9984827637672424\n"
          ]
        }
      ]
    },
    {
      "cell_type": "markdown",
      "metadata": {
        "id": "l-qsD1GWtBQ7"
      },
      "source": [
        "Since the results between using batch normalization and batch normalization together with dropout are quite close, I'm going to stick with using dropout, in the hopes that it will result in a more generalized model."
      ]
    },
    {
      "cell_type": "markdown",
      "metadata": {
        "id": "qpUG0tMewS3K"
      },
      "source": [
        "## Reduce LR"
      ]
    },
    {
      "cell_type": "code",
      "metadata": {
        "colab": {
          "base_uri": "https://localhost:8080/"
        },
        "id": "qm3tosRJwUBc",
        "outputId": "5c326cb4-9ce7-469c-81ca-b12048db52ed"
      },
      "source": [
        "feature_extractor_layer = hub.KerasLayer(efficientnetv2_url,\n",
        "                                         trainable=False, # freeze the underlying patterns\n",
        "                                         name='feature_extraction_layer',\n",
        "                                         input_shape=(224, 224, 3,)) # define the input image shape\n",
        "\n",
        "model_reducedlr = tf.keras.Sequential([\n",
        "    feature_extractor_layer,\n",
        "    layers.BatchNormalization(),\n",
        "    layers.Dense(100),\n",
        "    layers.BatchNormalization(),\n",
        "    layers.Activation('relu'),\n",
        "    layers.Dropout(0.2),\n",
        "    layers.Dense(1, activation='sigmoid', name='output_layer')     \n",
        "])\n",
        "\n",
        "# Compile model\n",
        "model_reducedlr.compile(loss='binary_crossentropy',\n",
        "                        optimizer=Adam(1e-4),\n",
        "                        metrics=metrics)\n",
        "\n",
        "# Add reduced LR to callbacks\n",
        "reduce_lr = tf.keras.callbacks.ReduceLROnPlateau(monitor=\"val_loss\",  \n",
        "                                                 factor=0.2, # multiply the learning rate by 0.2 (reduce by 5x)\n",
        "                                                 patience=4,\n",
        "                                                 verbose=1, # print out when learning rate goes down \n",
        "                                                 min_lr=1e-7)\n",
        "\n",
        "early_stopping = tf.keras.callbacks.EarlyStopping(monitor='val_loss', \n",
        "                                                  patience=2, \n",
        "                                                  restore_best_weights=True)\n",
        "\n",
        "callbacks_reducedlr = [early_stopping, reduce_lr]\n",
        "\n",
        "# Train the model\n",
        "history_reducedlr = model_reducedlr.fit(non_aug_train_rgb, epochs=15,\n",
        "                                        validation_data=non_aug_valid_rgb,\n",
        "                                        steps_per_epoch=len(non_aug_train_rgb),\n",
        "                                        validation_steps=len(non_aug_valid_rgb),\n",
        "                                        callbacks=callbacks_reducedlr)"
      ],
      "execution_count": 17,
      "outputs": [
        {
          "output_type": "stream",
          "name": "stdout",
          "text": [
            "Epoch 1/15\n",
            "133/133 [==============================] - 87s 580ms/step - loss: 0.3638 - tp: 3404.0000 - fp: 149.0000 - tn: 1193.0000 - fn: 540.0000 - accuracy: 0.8496 - precision: 0.9581 - recall: 0.8631 - auc: 0.9444 - val_loss: 0.2756 - val_tp: 770.0000 - val_fp: 26.0000 - val_tn: 243.0000 - val_fn: 19.0000 - val_accuracy: 0.9575 - val_precision: 0.9673 - val_recall: 0.9759 - val_auc: 0.9888\n",
            "Epoch 2/15\n",
            "133/133 [==============================] - 75s 562ms/step - loss: 0.1927 - tp: 2958.0000 - fp: 53.0000 - tn: 1020.0000 - fn: 197.0000 - accuracy: 0.9409 - precision: 0.9824 - recall: 0.9376 - auc: 0.9873 - val_loss: 0.2009 - val_tp: 759.0000 - val_fp: 10.0000 - val_tn: 259.0000 - val_fn: 30.0000 - val_accuracy: 0.9622 - val_precision: 0.9870 - val_recall: 0.9620 - val_auc: 0.9951\n",
            "Epoch 3/15\n",
            "133/133 [==============================] - 76s 571ms/step - loss: 0.1463 - tp: 3025.0000 - fp: 53.0000 - tn: 1020.0000 - fn: 130.0000 - accuracy: 0.9567 - precision: 0.9828 - recall: 0.9588 - auc: 0.9905 - val_loss: 0.1370 - val_tp: 768.0000 - val_fp: 10.0000 - val_tn: 259.0000 - val_fn: 21.0000 - val_accuracy: 0.9707 - val_precision: 0.9871 - val_recall: 0.9734 - val_auc: 0.9966\n",
            "Epoch 4/15\n",
            "133/133 [==============================] - 76s 573ms/step - loss: 0.1197 - tp: 3058.0000 - fp: 47.0000 - tn: 1026.0000 - fn: 97.0000 - accuracy: 0.9659 - precision: 0.9849 - recall: 0.9693 - auc: 0.9931 - val_loss: 0.1035 - val_tp: 773.0000 - val_fp: 8.0000 - val_tn: 261.0000 - val_fn: 16.0000 - val_accuracy: 0.9773 - val_precision: 0.9898 - val_recall: 0.9797 - val_auc: 0.9975\n",
            "Epoch 5/15\n",
            "133/133 [==============================] - 75s 565ms/step - loss: 0.1036 - tp: 3079.0000 - fp: 52.0000 - tn: 1021.0000 - fn: 76.0000 - accuracy: 0.9697 - precision: 0.9834 - recall: 0.9759 - auc: 0.9953 - val_loss: 0.0854 - val_tp: 777.0000 - val_fp: 7.0000 - val_tn: 262.0000 - val_fn: 12.0000 - val_accuracy: 0.9820 - val_precision: 0.9911 - val_recall: 0.9848 - val_auc: 0.9980\n",
            "Epoch 6/15\n",
            "133/133 [==============================] - 74s 560ms/step - loss: 0.0885 - tp: 3092.0000 - fp: 29.0000 - tn: 1044.0000 - fn: 63.0000 - accuracy: 0.9782 - precision: 0.9907 - recall: 0.9800 - auc: 0.9968 - val_loss: 0.0744 - val_tp: 781.0000 - val_fp: 9.0000 - val_tn: 260.0000 - val_fn: 8.0000 - val_accuracy: 0.9839 - val_precision: 0.9886 - val_recall: 0.9899 - val_auc: 0.9980\n",
            "Epoch 7/15\n",
            "133/133 [==============================] - 75s 562ms/step - loss: 0.0846 - tp: 3088.0000 - fp: 39.0000 - tn: 1034.0000 - fn: 67.0000 - accuracy: 0.9749 - precision: 0.9875 - recall: 0.9788 - auc: 0.9966 - val_loss: 0.0690 - val_tp: 783.0000 - val_fp: 7.0000 - val_tn: 262.0000 - val_fn: 6.0000 - val_accuracy: 0.9877 - val_precision: 0.9911 - val_recall: 0.9924 - val_auc: 0.9984\n",
            "Epoch 8/15\n",
            "133/133 [==============================] - 75s 561ms/step - loss: 0.0731 - tp: 3111.0000 - fp: 32.0000 - tn: 1041.0000 - fn: 44.0000 - accuracy: 0.9820 - precision: 0.9898 - recall: 0.9861 - auc: 0.9979 - val_loss: 0.0629 - val_tp: 782.0000 - val_fp: 8.0000 - val_tn: 261.0000 - val_fn: 7.0000 - val_accuracy: 0.9858 - val_precision: 0.9899 - val_recall: 0.9911 - val_auc: 0.9986\n",
            "Epoch 9/15\n",
            "133/133 [==============================] - 75s 561ms/step - loss: 0.0768 - tp: 3107.0000 - fp: 42.0000 - tn: 1031.0000 - fn: 48.0000 - accuracy: 0.9787 - precision: 0.9867 - recall: 0.9848 - auc: 0.9970 - val_loss: 0.0598 - val_tp: 780.0000 - val_fp: 4.0000 - val_tn: 265.0000 - val_fn: 9.0000 - val_accuracy: 0.9877 - val_precision: 0.9949 - val_recall: 0.9886 - val_auc: 0.9985\n",
            "Epoch 10/15\n",
            "133/133 [==============================] - 76s 569ms/step - loss: 0.0658 - tp: 3111.0000 - fp: 27.0000 - tn: 1046.0000 - fn: 44.0000 - accuracy: 0.9832 - precision: 0.9914 - recall: 0.9861 - auc: 0.9980 - val_loss: 0.0562 - val_tp: 781.0000 - val_fp: 4.0000 - val_tn: 265.0000 - val_fn: 8.0000 - val_accuracy: 0.9887 - val_precision: 0.9949 - val_recall: 0.9899 - val_auc: 0.9989\n",
            "Epoch 11/15\n",
            "133/133 [==============================] - 75s 563ms/step - loss: 0.0546 - tp: 3125.0000 - fp: 20.0000 - tn: 1053.0000 - fn: 30.0000 - accuracy: 0.9882 - precision: 0.9936 - recall: 0.9905 - auc: 0.9989 - val_loss: 0.0547 - val_tp: 782.0000 - val_fp: 9.0000 - val_tn: 260.0000 - val_fn: 7.0000 - val_accuracy: 0.9849 - val_precision: 0.9886 - val_recall: 0.9911 - val_auc: 0.9986\n",
            "Epoch 12/15\n",
            "133/133 [==============================] - 74s 560ms/step - loss: 0.0556 - tp: 3121.0000 - fp: 29.0000 - tn: 1044.0000 - fn: 34.0000 - accuracy: 0.9851 - precision: 0.9908 - recall: 0.9892 - auc: 0.9987 - val_loss: 0.0520 - val_tp: 782.0000 - val_fp: 8.0000 - val_tn: 261.0000 - val_fn: 7.0000 - val_accuracy: 0.9858 - val_precision: 0.9899 - val_recall: 0.9911 - val_auc: 0.9987\n",
            "Epoch 13/15\n",
            "133/133 [==============================] - 73s 553ms/step - loss: 0.0502 - tp: 3123.0000 - fp: 16.0000 - tn: 1057.0000 - fn: 32.0000 - accuracy: 0.9886 - precision: 0.9949 - recall: 0.9899 - auc: 0.9989 - val_loss: 0.0488 - val_tp: 782.0000 - val_fp: 7.0000 - val_tn: 262.0000 - val_fn: 7.0000 - val_accuracy: 0.9868 - val_precision: 0.9911 - val_recall: 0.9911 - val_auc: 0.9989\n",
            "Epoch 14/15\n",
            "133/133 [==============================] - 74s 555ms/step - loss: 0.0462 - tp: 3126.0000 - fp: 18.0000 - tn: 1055.0000 - fn: 29.0000 - accuracy: 0.9889 - precision: 0.9943 - recall: 0.9908 - auc: 0.9992 - val_loss: 0.0464 - val_tp: 783.0000 - val_fp: 8.0000 - val_tn: 261.0000 - val_fn: 6.0000 - val_accuracy: 0.9868 - val_precision: 0.9899 - val_recall: 0.9924 - val_auc: 0.9989\n",
            "Epoch 15/15\n",
            "133/133 [==============================] - 74s 554ms/step - loss: 0.0399 - tp: 3134.0000 - fp: 10.0000 - tn: 1063.0000 - fn: 21.0000 - accuracy: 0.9927 - precision: 0.9968 - recall: 0.9933 - auc: 0.9993 - val_loss: 0.0455 - val_tp: 782.0000 - val_fp: 7.0000 - val_tn: 262.0000 - val_fn: 7.0000 - val_accuracy: 0.9868 - val_precision: 0.9911 - val_recall: 0.9911 - val_auc: 0.9990\n"
          ]
        }
      ]
    },
    {
      "cell_type": "code",
      "metadata": {
        "id": "IEFk8E7xtJa1"
      },
      "source": [
        "plot_learning_curves(['Tuned_Final', history_reducedlr])"
      ],
      "execution_count": null,
      "outputs": []
    },
    {
      "cell_type": "markdown",
      "metadata": {
        "id": "jJYDcKsrCKKt"
      },
      "source": [
        "## Hyperparameter Tuning"
      ]
    },
    {
      "cell_type": "markdown",
      "metadata": {
        "id": "qMfW7l4PCKKt"
      },
      "source": [
        "For this particular section, I made it in another notebook. I highly recommend you check it out here: "
      ]
    },
    {
      "cell_type": "markdown",
      "metadata": {
        "id": "6TIMXIoDCKKu"
      },
      "source": [
        "# Final Testing"
      ]
    },
    {
      "cell_type": "markdown",
      "metadata": {
        "id": "N-KzdXoLCKKu"
      },
      "source": [
        "After looking at the results of the hyperparameter tuning ..."
      ]
    },
    {
      "cell_type": "code",
      "metadata": {
        "colab": {
          "base_uri": "https://localhost:8080/"
        },
        "id": "qmT3lpnHuj8G",
        "outputId": "1829df31-8fac-48cf-99c9-5b8efbcfd04a"
      },
      "source": [
        "non_aug_test = non_aug_gen.flow_from_dataframe(\n",
        "    dataframe=final_test_df,\n",
        "    directory=TEST_DIR,\n",
        "    x_col='X_ray_image_name',\n",
        "    y_col='Label',\n",
        "    target_size=(224, 224),\n",
        "    batch_size=32,\n",
        "    class_mode='binary',\n",
        "    color_mode='grayscale',\n",
        "    shuffle=False\n",
        ")"
      ],
      "execution_count": 22,
      "outputs": [
        {
          "output_type": "stream",
          "name": "stdout",
          "text": [
            "Found 624 validated image filenames belonging to 2 classes.\n"
          ]
        }
      ]
    },
    {
      "cell_type": "code",
      "metadata": {
        "colab": {
          "base_uri": "https://localhost:8080/",
          "height": 542
        },
        "id": "2X9P3ATOzTNC",
        "outputId": "699b8d71-49f5-4088-a1b3-7de8c8516831"
      },
      "source": [
        "# Tuned model\n",
        "predict_test_rgb.reset()\n",
        "pred_test_tuned = model_reducedlr.predict(predict_test_rgb)\n",
        "\n",
        "# Baseline model\n",
        "non_aug_test.reset()\n",
        "pred_test = model_1.predict(non_aug_test)\n",
        "\n",
        "y_test = [0 if x == 'Normal' else 1 for x in final_test_df['Label']]\n",
        "\n",
        "plot_roc_curve(['Tuned Model', y_test, pred_test_tuned], ['Baseline Model', y_test, pred_test])"
      ],
      "execution_count": 23,
      "outputs": [
        {
          "output_type": "display_data",
          "data": {
            "text/html": [
              "<html>\n",
              "<head><meta charset=\"utf-8\" /></head>\n",
              "<body>\n",
              "    <div>\n",
              "            <script src=\"https://cdnjs.cloudflare.com/ajax/libs/mathjax/2.7.5/MathJax.js?config=TeX-AMS-MML_SVG\"></script><script type=\"text/javascript\">if (window.MathJax) {MathJax.Hub.Config({SVG: {font: \"STIX-Web\"}});}</script>\n",
              "                <script type=\"text/javascript\">window.PlotlyConfig = {MathJaxConfig: 'local'};</script>\n",
              "        <script src=\"https://cdn.plot.ly/plotly-latest.min.js\"></script>    \n",
              "            <div id=\"d840f995-ec8d-4e94-a0fc-35b90aaee9ff\" class=\"plotly-graph-div\" style=\"height:525px; width:100%;\"></div>\n",
              "            <script type=\"text/javascript\">\n",
              "                \n",
              "                    window.PLOTLYENV=window.PLOTLYENV || {};\n",
              "                    \n",
              "                if (document.getElementById(\"d840f995-ec8d-4e94-a0fc-35b90aaee9ff\")) {\n",
              "                    Plotly.newPlot(\n",
              "                        'd840f995-ec8d-4e94-a0fc-35b90aaee9ff',\n",
              "                        [{\"name\": \"Tuned Model\", \"type\": \"scatter\", \"x\": [0.0, 0.0, 0.0, 0.0, 0.0, 0.004273504273504274, 0.004273504273504274, 0.008547008547008548, 0.008547008547008548, 0.01282051282051282, 0.01282051282051282, 0.017094017094017096, 0.017094017094017096, 0.017094017094017096, 0.017094017094017096, 0.021367521367521368, 0.021367521367521368, 0.02564102564102564, 0.02564102564102564, 0.02564102564102564, 0.02564102564102564, 0.029914529914529916, 0.029914529914529916, 0.03418803418803419, 0.03418803418803419, 0.042735042735042736, 0.042735042735042736, 0.04700854700854701, 0.04700854700854701, 0.05128205128205128, 0.05128205128205128, 0.05555555555555555, 0.05555555555555555, 0.05982905982905983, 0.05982905982905983, 0.0641025641025641, 0.0641025641025641, 0.07264957264957266, 0.07264957264957266, 0.0811965811965812, 0.0811965811965812, 0.08547008547008547, 0.08547008547008547, 0.09401709401709402, 0.09401709401709402, 0.10256410256410256, 0.10256410256410256, 0.11538461538461539, 0.11538461538461539, 0.12393162393162394, 0.12393162393162394, 0.1282051282051282, 0.1282051282051282, 0.13247863247863248, 0.13247863247863248, 0.14102564102564102, 0.14102564102564102, 0.14957264957264957, 0.14957264957264957, 0.15384615384615385, 0.15384615384615385, 0.1581196581196581, 0.16666666666666666, 0.16666666666666666, 0.17094017094017094, 0.17094017094017094, 0.1794871794871795, 0.1794871794871795, 0.19230769230769232, 0.19230769230769232, 0.19658119658119658, 0.19658119658119658, 0.20085470085470086, 0.20085470085470086, 0.20512820512820512, 0.20512820512820512, 0.2094017094017094, 0.2094017094017094, 0.23931623931623933, 0.23931623931623933, 0.2564102564102564, 0.2564102564102564, 0.29914529914529914, 0.29914529914529914, 0.31196581196581197, 0.31196581196581197, 0.32051282051282054, 0.32051282051282054, 0.358974358974359, 0.358974358974359, 0.36752136752136755, 0.36752136752136755, 0.3974358974358974, 0.405982905982906, 0.5256410256410257, 0.5256410256410257, 0.5299145299145299, 0.5299145299145299, 0.5811965811965812, 0.5811965811965812, 0.594017094017094, 0.594017094017094, 1.0], \"y\": [0.0, 0.002564102564102564, 0.1564102564102564, 0.16153846153846155, 0.19487179487179487, 0.19487179487179487, 0.19743589743589743, 0.19743589743589743, 0.3153846153846154, 0.3153846153846154, 0.3435897435897436, 0.3435897435897436, 0.35128205128205126, 0.3564102564102564, 0.36153846153846153, 0.36153846153846153, 0.36923076923076925, 0.36923076923076925, 0.46923076923076923, 0.47435897435897434, 0.48205128205128206, 0.48205128205128206, 0.5307692307692308, 0.5307692307692308, 0.541025641025641, 0.541025641025641, 0.5512820512820513, 0.5512820512820513, 0.7512820512820513, 0.7512820512820513, 0.7692307692307693, 0.7692307692307693, 0.7923076923076923, 0.7923076923076923, 0.8, 0.8, 0.8205128205128205, 0.8205128205128205, 0.8538461538461538, 0.8538461538461538, 0.8666666666666667, 0.8666666666666667, 0.8794871794871795, 0.8794871794871795, 0.882051282051282, 0.882051282051282, 0.8897435897435897, 0.8897435897435897, 0.8948717948717949, 0.8948717948717949, 0.8974358974358975, 0.8974358974358975, 0.9, 0.9, 0.9102564102564102, 0.9102564102564102, 0.9179487179487179, 0.9179487179487179, 0.9282051282051282, 0.9282051282051282, 0.9333333333333333, 0.9333333333333333, 0.9333333333333333, 0.9358974358974359, 0.9358974358974359, 0.9384615384615385, 0.9384615384615385, 0.9461538461538461, 0.9461538461538461, 0.9487179487179487, 0.9487179487179487, 0.9538461538461539, 0.9538461538461539, 0.958974358974359, 0.958974358974359, 0.9641025641025641, 0.9641025641025641, 0.9666666666666667, 0.9666666666666667, 0.9692307692307692, 0.9692307692307692, 0.9717948717948718, 0.9717948717948718, 0.9769230769230769, 0.9769230769230769, 0.9794871794871794, 0.9794871794871794, 0.982051282051282, 0.982051282051282, 0.9846153846153847, 0.9846153846153847, 0.9897435897435898, 0.9897435897435898, 0.9897435897435898, 0.9897435897435898, 0.9923076923076923, 0.9923076923076923, 0.9948717948717949, 0.9948717948717949, 0.9974358974358974, 0.9974358974358974, 1.0, 1.0]}, {\"name\": \"Baseline Model\", \"type\": \"scatter\", \"x\": [0.0, 0.0, 0.0, 0.008547008547008548, 0.008547008547008548, 0.008547008547008548, 0.008547008547008548, 0.008547008547008548, 0.01282051282051282, 0.01282051282051282, 0.017094017094017096, 0.017094017094017096, 0.017094017094017096, 0.017094017094017096, 0.021367521367521368, 0.021367521367521368, 0.021367521367521368, 0.021367521367521368, 0.02564102564102564, 0.02564102564102564, 0.03418803418803419, 0.03418803418803419, 0.038461538461538464, 0.038461538461538464, 0.038461538461538464, 0.038461538461538464, 0.04700854700854701, 0.04700854700854701, 0.05128205128205128, 0.05128205128205128, 0.05555555555555555, 0.05555555555555555, 0.05982905982905983, 0.05982905982905983, 0.0641025641025641, 0.0641025641025641, 0.06837606837606838, 0.06837606837606838, 0.07264957264957266, 0.07264957264957266, 0.07692307692307693, 0.07692307692307693, 0.0811965811965812, 0.0811965811965812, 0.08547008547008547, 0.08547008547008547, 0.09401709401709402, 0.09401709401709402, 0.09829059829059829, 0.09829059829059829, 0.10256410256410256, 0.10256410256410256, 0.10683760683760683, 0.10683760683760683, 0.1111111111111111, 0.1111111111111111, 0.1282051282051282, 0.1282051282051282, 0.13247863247863248, 0.13247863247863248, 0.13675213675213677, 0.13675213675213677, 0.14102564102564102, 0.14102564102564102, 0.14957264957264957, 0.14957264957264957, 0.15384615384615385, 0.15384615384615385, 0.1581196581196581, 0.1581196581196581, 0.1623931623931624, 0.1623931623931624, 0.17094017094017094, 0.17094017094017094, 0.1752136752136752, 0.1752136752136752, 0.1794871794871795, 0.1794871794871795, 0.18803418803418803, 0.18803418803418803, 0.19230769230769232, 0.19230769230769232, 0.19658119658119658, 0.19658119658119658, 0.21367521367521367, 0.21367521367521367, 0.21794871794871795, 0.21794871794871795, 0.2264957264957265, 0.2264957264957265, 0.2264957264957265, 0.2264957264957265, 0.23076923076923078, 0.23076923076923078, 0.23931623931623933, 0.23931623931623933, 0.24358974358974358, 0.24358974358974358, 0.24786324786324787, 0.24786324786324787, 0.2606837606837607, 0.2606837606837607, 0.2606837606837607, 0.2692307692307692, 0.2692307692307692, 0.27350427350427353, 0.27350427350427353, 0.28205128205128205, 0.2863247863247863, 0.2863247863247863, 0.2905982905982906, 0.2905982905982906, 0.29914529914529914, 0.29914529914529914, 0.3034188034188034, 0.3034188034188034, 0.31196581196581197, 0.31196581196581197, 0.3162393162393162, 0.3162393162393162, 0.32905982905982906, 0.32905982905982906, 0.33760683760683763, 0.33760683760683763, 0.3418803418803419, 0.3418803418803419, 0.34615384615384615, 0.34615384615384615, 0.3504273504273504, 0.3504273504273504, 0.358974358974359, 0.37606837606837606, 0.37606837606837606, 0.3888888888888889, 0.3888888888888889, 0.4017094017094017, 0.4017094017094017, 0.4230769230769231, 0.4230769230769231, 0.44871794871794873, 0.44871794871794873, 0.4658119658119658, 0.4658119658119658, 0.47863247863247865, 0.47863247863247865, 0.48717948717948717, 0.48717948717948717, 0.5, 0.5, 0.5085470085470085, 0.5085470085470085, 0.5299145299145299, 0.5299145299145299, 0.5512820512820513, 0.5512820512820513, 0.6794871794871795, 0.688034188034188, 0.7264957264957265, 0.7264957264957265, 1.0], \"y\": [0.0, 0.002564102564102564, 0.005128205128205128, 0.010256410256410256, 0.038461538461538464, 0.04358974358974359, 0.0641025641025641, 0.06923076923076923, 0.06923076923076923, 0.13076923076923078, 0.13076923076923078, 0.14615384615384616, 0.15128205128205127, 0.20256410256410257, 0.20256410256410257, 0.21025641025641026, 0.2153846153846154, 0.23076923076923078, 0.23076923076923078, 0.23333333333333334, 0.23333333333333334, 0.258974358974359, 0.258974358974359, 0.31794871794871793, 0.3230769230769231, 0.3717948717948718, 0.3717948717948718, 0.40512820512820513, 0.40512820512820513, 0.4256410256410256, 0.4256410256410256, 0.441025641025641, 0.441025641025641, 0.48205128205128206, 0.48205128205128206, 0.4846153846153846, 0.4846153846153846, 0.517948717948718, 0.517948717948718, 0.5538461538461539, 0.5538461538461539, 0.617948717948718, 0.617948717948718, 0.6641025641025641, 0.6641025641025641, 0.6897435897435897, 0.6897435897435897, 0.7, 0.7, 0.7025641025641025, 0.7025641025641025, 0.7076923076923077, 0.7076923076923077, 0.7205128205128205, 0.7205128205128205, 0.7384615384615385, 0.7384615384615385, 0.7435897435897436, 0.7435897435897436, 0.7461538461538462, 0.7461538461538462, 0.7487179487179487, 0.7487179487179487, 0.7512820512820513, 0.7512820512820513, 0.7692307692307693, 0.7692307692307693, 0.7769230769230769, 0.7769230769230769, 0.7846153846153846, 0.7846153846153846, 0.7948717948717948, 0.7948717948717948, 0.8025641025641026, 0.8025641025641026, 0.8076923076923077, 0.8076923076923077, 0.8153846153846154, 0.8153846153846154, 0.8179487179487179, 0.8179487179487179, 0.8256410256410256, 0.8256410256410256, 0.841025641025641, 0.841025641025641, 0.8487179487179487, 0.8487179487179487, 0.8512820512820513, 0.8512820512820513, 0.8589743589743589, 0.8641025641025641, 0.8717948717948718, 0.8717948717948718, 0.8743589743589744, 0.8743589743589744, 0.8769230769230769, 0.8769230769230769, 0.8794871794871795, 0.8794871794871795, 0.882051282051282, 0.882051282051282, 0.8871794871794871, 0.8897435897435897, 0.8897435897435897, 0.8923076923076924, 0.8923076923076924, 0.8974358974358975, 0.8974358974358975, 0.8974358974358975, 0.9076923076923077, 0.9076923076923077, 0.9153846153846154, 0.9153846153846154, 0.9179487179487179, 0.9179487179487179, 0.9256410256410257, 0.9256410256410257, 0.9307692307692308, 0.9307692307692308, 0.9333333333333333, 0.9333333333333333, 0.9358974358974359, 0.9358974358974359, 0.9384615384615385, 0.9384615384615385, 0.9461538461538461, 0.9461538461538461, 0.9487179487179487, 0.9487179487179487, 0.9512820512820512, 0.9512820512820512, 0.9512820512820512, 0.9564102564102565, 0.9564102564102565, 0.958974358974359, 0.958974358974359, 0.9615384615384616, 0.9615384615384616, 0.9641025641025641, 0.9641025641025641, 0.9717948717948718, 0.9717948717948718, 0.9743589743589743, 0.9743589743589743, 0.9769230769230769, 0.9769230769230769, 0.9794871794871794, 0.9794871794871794, 0.982051282051282, 0.982051282051282, 0.9897435897435898, 0.9897435897435898, 0.9923076923076923, 0.9923076923076923, 0.9974358974358974, 0.9974358974358974, 0.9974358974358974, 0.9974358974358974, 1.0, 1.0]}],\n",
              "                        {\"template\": {\"data\": {\"bar\": [{\"error_x\": {\"color\": \"#2a3f5f\"}, \"error_y\": {\"color\": \"#2a3f5f\"}, \"marker\": {\"line\": {\"color\": \"#E5ECF6\", \"width\": 0.5}}, \"type\": \"bar\"}], \"barpolar\": [{\"marker\": {\"line\": {\"color\": \"#E5ECF6\", \"width\": 0.5}}, \"type\": \"barpolar\"}], \"carpet\": [{\"aaxis\": {\"endlinecolor\": \"#2a3f5f\", \"gridcolor\": \"white\", \"linecolor\": \"white\", \"minorgridcolor\": \"white\", \"startlinecolor\": \"#2a3f5f\"}, \"baxis\": {\"endlinecolor\": \"#2a3f5f\", \"gridcolor\": \"white\", \"linecolor\": \"white\", \"minorgridcolor\": \"white\", \"startlinecolor\": \"#2a3f5f\"}, \"type\": \"carpet\"}], \"choropleth\": [{\"colorbar\": {\"outlinewidth\": 0, \"ticks\": \"\"}, \"type\": \"choropleth\"}], \"contour\": [{\"colorbar\": {\"outlinewidth\": 0, \"ticks\": \"\"}, \"colorscale\": [[0.0, \"#0d0887\"], [0.1111111111111111, \"#46039f\"], [0.2222222222222222, \"#7201a8\"], [0.3333333333333333, \"#9c179e\"], [0.4444444444444444, \"#bd3786\"], [0.5555555555555556, \"#d8576b\"], [0.6666666666666666, \"#ed7953\"], [0.7777777777777778, \"#fb9f3a\"], [0.8888888888888888, \"#fdca26\"], [1.0, \"#f0f921\"]], \"type\": \"contour\"}], \"contourcarpet\": [{\"colorbar\": {\"outlinewidth\": 0, \"ticks\": \"\"}, \"type\": \"contourcarpet\"}], \"heatmap\": [{\"colorbar\": {\"outlinewidth\": 0, \"ticks\": \"\"}, \"colorscale\": [[0.0, \"#0d0887\"], [0.1111111111111111, \"#46039f\"], [0.2222222222222222, \"#7201a8\"], [0.3333333333333333, \"#9c179e\"], [0.4444444444444444, \"#bd3786\"], [0.5555555555555556, \"#d8576b\"], [0.6666666666666666, \"#ed7953\"], [0.7777777777777778, \"#fb9f3a\"], [0.8888888888888888, \"#fdca26\"], [1.0, \"#f0f921\"]], \"type\": \"heatmap\"}], \"heatmapgl\": [{\"colorbar\": {\"outlinewidth\": 0, \"ticks\": \"\"}, \"colorscale\": [[0.0, \"#0d0887\"], [0.1111111111111111, \"#46039f\"], [0.2222222222222222, \"#7201a8\"], [0.3333333333333333, \"#9c179e\"], [0.4444444444444444, \"#bd3786\"], [0.5555555555555556, \"#d8576b\"], [0.6666666666666666, \"#ed7953\"], [0.7777777777777778, \"#fb9f3a\"], [0.8888888888888888, \"#fdca26\"], [1.0, \"#f0f921\"]], \"type\": \"heatmapgl\"}], \"histogram\": [{\"marker\": {\"colorbar\": {\"outlinewidth\": 0, \"ticks\": \"\"}}, \"type\": \"histogram\"}], \"histogram2d\": [{\"colorbar\": {\"outlinewidth\": 0, \"ticks\": \"\"}, \"colorscale\": [[0.0, \"#0d0887\"], [0.1111111111111111, \"#46039f\"], [0.2222222222222222, \"#7201a8\"], [0.3333333333333333, \"#9c179e\"], [0.4444444444444444, \"#bd3786\"], [0.5555555555555556, \"#d8576b\"], [0.6666666666666666, \"#ed7953\"], [0.7777777777777778, \"#fb9f3a\"], [0.8888888888888888, \"#fdca26\"], [1.0, \"#f0f921\"]], \"type\": \"histogram2d\"}], \"histogram2dcontour\": [{\"colorbar\": {\"outlinewidth\": 0, \"ticks\": \"\"}, \"colorscale\": [[0.0, \"#0d0887\"], [0.1111111111111111, \"#46039f\"], [0.2222222222222222, \"#7201a8\"], [0.3333333333333333, \"#9c179e\"], [0.4444444444444444, \"#bd3786\"], [0.5555555555555556, \"#d8576b\"], [0.6666666666666666, \"#ed7953\"], [0.7777777777777778, \"#fb9f3a\"], [0.8888888888888888, \"#fdca26\"], [1.0, \"#f0f921\"]], \"type\": \"histogram2dcontour\"}], \"mesh3d\": [{\"colorbar\": {\"outlinewidth\": 0, \"ticks\": \"\"}, \"type\": \"mesh3d\"}], \"parcoords\": [{\"line\": {\"colorbar\": {\"outlinewidth\": 0, \"ticks\": \"\"}}, \"type\": \"parcoords\"}], \"pie\": [{\"automargin\": true, \"type\": \"pie\"}], \"scatter\": [{\"marker\": {\"colorbar\": {\"outlinewidth\": 0, \"ticks\": \"\"}}, \"type\": \"scatter\"}], \"scatter3d\": [{\"line\": {\"colorbar\": {\"outlinewidth\": 0, \"ticks\": \"\"}}, \"marker\": {\"colorbar\": {\"outlinewidth\": 0, \"ticks\": \"\"}}, \"type\": \"scatter3d\"}], \"scattercarpet\": [{\"marker\": {\"colorbar\": {\"outlinewidth\": 0, \"ticks\": \"\"}}, \"type\": \"scattercarpet\"}], \"scattergeo\": [{\"marker\": {\"colorbar\": {\"outlinewidth\": 0, \"ticks\": \"\"}}, \"type\": \"scattergeo\"}], \"scattergl\": [{\"marker\": {\"colorbar\": {\"outlinewidth\": 0, \"ticks\": \"\"}}, \"type\": \"scattergl\"}], \"scattermapbox\": [{\"marker\": {\"colorbar\": {\"outlinewidth\": 0, \"ticks\": \"\"}}, \"type\": \"scattermapbox\"}], \"scatterpolar\": [{\"marker\": {\"colorbar\": {\"outlinewidth\": 0, \"ticks\": \"\"}}, \"type\": \"scatterpolar\"}], \"scatterpolargl\": [{\"marker\": {\"colorbar\": {\"outlinewidth\": 0, \"ticks\": \"\"}}, \"type\": \"scatterpolargl\"}], \"scatterternary\": [{\"marker\": {\"colorbar\": {\"outlinewidth\": 0, \"ticks\": \"\"}}, \"type\": \"scatterternary\"}], \"surface\": [{\"colorbar\": {\"outlinewidth\": 0, \"ticks\": \"\"}, \"colorscale\": [[0.0, \"#0d0887\"], [0.1111111111111111, \"#46039f\"], [0.2222222222222222, \"#7201a8\"], [0.3333333333333333, \"#9c179e\"], [0.4444444444444444, \"#bd3786\"], [0.5555555555555556, \"#d8576b\"], [0.6666666666666666, \"#ed7953\"], [0.7777777777777778, \"#fb9f3a\"], [0.8888888888888888, \"#fdca26\"], [1.0, \"#f0f921\"]], \"type\": \"surface\"}], \"table\": [{\"cells\": {\"fill\": {\"color\": \"#EBF0F8\"}, \"line\": {\"color\": \"white\"}}, \"header\": {\"fill\": {\"color\": \"#C8D4E3\"}, \"line\": {\"color\": \"white\"}}, \"type\": \"table\"}]}, \"layout\": {\"annotationdefaults\": {\"arrowcolor\": \"#2a3f5f\", \"arrowhead\": 0, \"arrowwidth\": 1}, \"coloraxis\": {\"colorbar\": {\"outlinewidth\": 0, \"ticks\": \"\"}}, \"colorscale\": {\"diverging\": [[0, \"#8e0152\"], [0.1, \"#c51b7d\"], [0.2, \"#de77ae\"], [0.3, \"#f1b6da\"], [0.4, \"#fde0ef\"], [0.5, \"#f7f7f7\"], [0.6, \"#e6f5d0\"], [0.7, \"#b8e186\"], [0.8, \"#7fbc41\"], [0.9, \"#4d9221\"], [1, \"#276419\"]], \"sequential\": [[0.0, \"#0d0887\"], [0.1111111111111111, \"#46039f\"], [0.2222222222222222, \"#7201a8\"], [0.3333333333333333, \"#9c179e\"], [0.4444444444444444, \"#bd3786\"], [0.5555555555555556, \"#d8576b\"], [0.6666666666666666, \"#ed7953\"], [0.7777777777777778, \"#fb9f3a\"], [0.8888888888888888, \"#fdca26\"], [1.0, \"#f0f921\"]], \"sequentialminus\": [[0.0, \"#0d0887\"], [0.1111111111111111, \"#46039f\"], [0.2222222222222222, \"#7201a8\"], [0.3333333333333333, \"#9c179e\"], [0.4444444444444444, \"#bd3786\"], [0.5555555555555556, \"#d8576b\"], [0.6666666666666666, \"#ed7953\"], [0.7777777777777778, \"#fb9f3a\"], [0.8888888888888888, \"#fdca26\"], [1.0, \"#f0f921\"]]}, \"colorway\": [\"#636efa\", \"#EF553B\", \"#00cc96\", \"#ab63fa\", \"#FFA15A\", \"#19d3f3\", \"#FF6692\", \"#B6E880\", \"#FF97FF\", \"#FECB52\"], \"font\": {\"color\": \"#2a3f5f\"}, \"geo\": {\"bgcolor\": \"white\", \"lakecolor\": \"white\", \"landcolor\": \"#E5ECF6\", \"showlakes\": true, \"showland\": true, \"subunitcolor\": \"white\"}, \"hoverlabel\": {\"align\": \"left\"}, \"hovermode\": \"closest\", \"mapbox\": {\"style\": \"light\"}, \"paper_bgcolor\": \"white\", \"plot_bgcolor\": \"#E5ECF6\", \"polar\": {\"angularaxis\": {\"gridcolor\": \"white\", \"linecolor\": \"white\", \"ticks\": \"\"}, \"bgcolor\": \"#E5ECF6\", \"radialaxis\": {\"gridcolor\": \"white\", \"linecolor\": \"white\", \"ticks\": \"\"}}, \"scene\": {\"xaxis\": {\"backgroundcolor\": \"#E5ECF6\", \"gridcolor\": \"white\", \"gridwidth\": 2, \"linecolor\": \"white\", \"showbackground\": true, \"ticks\": \"\", \"zerolinecolor\": \"white\"}, \"yaxis\": {\"backgroundcolor\": \"#E5ECF6\", \"gridcolor\": \"white\", \"gridwidth\": 2, \"linecolor\": \"white\", \"showbackground\": true, \"ticks\": \"\", \"zerolinecolor\": \"white\"}, \"zaxis\": {\"backgroundcolor\": \"#E5ECF6\", \"gridcolor\": \"white\", \"gridwidth\": 2, \"linecolor\": \"white\", \"showbackground\": true, \"ticks\": \"\", \"zerolinecolor\": \"white\"}}, \"shapedefaults\": {\"line\": {\"color\": \"#2a3f5f\"}}, \"ternary\": {\"aaxis\": {\"gridcolor\": \"white\", \"linecolor\": \"white\", \"ticks\": \"\"}, \"baxis\": {\"gridcolor\": \"white\", \"linecolor\": \"white\", \"ticks\": \"\"}, \"bgcolor\": \"#E5ECF6\", \"caxis\": {\"gridcolor\": \"white\", \"linecolor\": \"white\", \"ticks\": \"\"}}, \"title\": {\"x\": 0.05}, \"xaxis\": {\"automargin\": true, \"gridcolor\": \"white\", \"linecolor\": \"white\", \"ticks\": \"\", \"title\": {\"standoff\": 15}, \"zerolinecolor\": \"white\", \"zerolinewidth\": 2}, \"yaxis\": {\"automargin\": true, \"gridcolor\": \"white\", \"linecolor\": \"white\", \"ticks\": \"\", \"title\": {\"standoff\": 15}, \"zerolinecolor\": \"white\", \"zerolinewidth\": 2}}}, \"title\": {\"text\": \"ROC Curve\"}, \"xaxis\": {\"title\": {\"text\": \"FPR\"}}, \"yaxis\": {\"title\": {\"text\": \"TPR\"}}},\n",
              "                        {\"responsive\": true}\n",
              "                    ).then(function(){\n",
              "                            \n",
              "var gd = document.getElementById('d840f995-ec8d-4e94-a0fc-35b90aaee9ff');\n",
              "var x = new MutationObserver(function (mutations, observer) {{\n",
              "        var display = window.getComputedStyle(gd).display;\n",
              "        if (!display || display === 'none') {{\n",
              "            console.log([gd, 'removed!']);\n",
              "            Plotly.purge(gd);\n",
              "            observer.disconnect();\n",
              "        }}\n",
              "}});\n",
              "\n",
              "// Listen for the removal of the full notebook cells\n",
              "var notebookContainer = gd.closest('#notebook-container');\n",
              "if (notebookContainer) {{\n",
              "    x.observe(notebookContainer, {childList: true});\n",
              "}}\n",
              "\n",
              "// Listen for the clearing of the current output cell\n",
              "var outputEl = gd.closest('.output');\n",
              "if (outputEl) {{\n",
              "    x.observe(outputEl, {childList: true});\n",
              "}}\n",
              "\n",
              "                        })\n",
              "                };\n",
              "                \n",
              "            </script>\n",
              "        </div>\n",
              "</body>\n",
              "</html>"
            ]
          },
          "metadata": {}
        }
      ]
    },
    {
      "cell_type": "code",
      "metadata": {
        "colab": {
          "base_uri": "https://localhost:8080/"
        },
        "id": "XgZixEcH6Wa6",
        "outputId": "c1a55e16-8738-4d1f-d2f4-e531337a0136"
      },
      "source": [
        "# Baseline model\n",
        "evaluate_model(y_test, pred_test, threshold=1-0.02)"
      ],
      "execution_count": 24,
      "outputs": [
        {
          "output_type": "stream",
          "name": "stdout",
          "text": [
            "===== Classification Report ======\n",
            "              precision    recall  f1-score   support\n",
            "\n",
            "           0       0.79      0.76      0.77       234\n",
            "           1       0.86      0.88      0.87       390\n",
            "\n",
            "    accuracy                           0.83       624\n",
            "   macro avg       0.82      0.82      0.82       624\n",
            "weighted avg       0.83      0.83      0.83       624\n",
            "\n",
            "\n",
            "===== Confusion Matrix =====\n",
            "[[177  57]\n",
            " [ 48 342]]\n",
            "\n",
            "===== Other Metrics =====\n",
            "ROC_AUC: 0.8805664777755737\n"
          ]
        }
      ]
    },
    {
      "cell_type": "code",
      "metadata": {
        "colab": {
          "base_uri": "https://localhost:8080/"
        },
        "id": "m5K0U5CIWi3_",
        "outputId": "697aee98-28fa-4686-a27a-e590ed3ecaea"
      },
      "source": [
        "# Final model results\n",
        "evaluate_model(y_test, pred_test_tuned, threshold=1-0.07)"
      ],
      "execution_count": 44,
      "outputs": [
        {
          "output_type": "stream",
          "name": "stdout",
          "text": [
            "===== Classification Report ======\n",
            "              precision    recall  f1-score   support\n",
            "\n",
            "           0       0.93      0.79      0.85       234\n",
            "           1       0.88      0.97      0.92       390\n",
            "\n",
            "    accuracy                           0.90       624\n",
            "   macro avg       0.91      0.88      0.89       624\n",
            "weighted avg       0.90      0.90      0.90       624\n",
            "\n",
            "\n",
            "===== Confusion Matrix =====\n",
            "[[184  50]\n",
            " [ 13 377]]\n",
            "\n",
            "===== Other Metrics =====\n",
            "ROC_AUC: 0.9423405528068542\n"
          ]
        }
      ]
    },
    {
      "cell_type": "code",
      "metadata": {
        "id": "hn58OqMjsmXF"
      },
      "source": [
        "# Save model and model weights\n",
        "model_reducedlr.save_weights('final_weights.h5')\n",
        "model_reducedlr.save('final_model.h5')"
      ],
      "execution_count": 26,
      "outputs": []
    },
    {
      "cell_type": "markdown",
      "metadata": {
        "id": "09gKDrT3CKKw"
      },
      "source": [
        "# Last words"
      ]
    },
    {
      "cell_type": "markdown",
      "metadata": {
        "id": "XEeg6nCwCKKw"
      },
      "source": [
        "From the above results, our tuned model definitely showed some improvements compared to our baseline model. Our AUC score improved by **~5%**, with an average improvement in our recall score by **~3%**. About **30 less** cases of false negatives and **30 more** cases of true positives!\n",
        "\n",
        "To further enhance my model, I might try using ensemble methods to get an optimal model that scores the highest recall without overfitting the data, but as of right now, I have limited time and resources to do that. \n",
        "\n",
        "For now, I think our current model performed quite well, achieving a recall score of ~88% and an AUC score of ~95%."
      ]
    }
  ]
}