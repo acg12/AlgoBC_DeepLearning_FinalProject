{
  "nbformat": 4,
  "nbformat_minor": 0,
  "metadata": {
    "colab": {
      "name": "01_Problem_Statement.ipynb",
      "provenance": [],
      "authorship_tag": "ABX9TyMtAVTUGm13QgdZ74K0Gt0y",
      "include_colab_link": true
    },
    "kernelspec": {
      "name": "python3",
      "display_name": "Python 3"
    },
    "language_info": {
      "name": "python"
    }
  },
  "cells": [
    {
      "cell_type": "markdown",
      "metadata": {
        "id": "view-in-github",
        "colab_type": "text"
      },
      "source": [
        "<a href=\"https://colab.research.google.com/github/acg12/AlgoBC_DeepLearning_FinalProject/blob/main/notebooks/01_Problem_Statement.ipynb\" target=\"_parent\"><img src=\"https://colab.research.google.com/assets/colab-badge.svg\" alt=\"Open In Colab\"/></a>"
      ]
    },
    {
      "cell_type": "markdown",
      "metadata": {
        "id": "PfFGrzU_S1ec"
      },
      "source": [
        "# Problem Statement"
      ]
    },
    {
      "cell_type": "markdown",
      "metadata": {
        "id": "7T06O8-DS3p6"
      },
      "source": [
        "**Context**\n",
        "\n",
        "Taken from the WHO website, pneumonia is a form of acute respiratory infection that affects the lungs. The lungs are made up of small sacs called alveoli, which inflates with air when a person breathes. When an individual has pneumonia, the alveoli are filled with pus and fluid, which makes breathing painful and limits oxygen intake.\n",
        "\n",
        "Pneumonia is the single largest infectious cause of death in children worldwide. Pneumonia killed 808,694 children under the age of 5 in 2017, accounting for 15% of all deaths of children under five years old. Pneumonia affects children and families everywhere, but is most prevalent in South Asia and sub-Saharan Africa. Children can be protected from pneumonia, it can be prevented with simple interventions, and treated with low-cost, low-tech medication and care. "
      ]
    },
    {
      "cell_type": "markdown",
      "metadata": {
        "id": "iB1vsdi6TaGt"
      },
      "source": [
        "**Business Objective**\n",
        "\n",
        "The objective of this project is to predict whether a person has a pneumonia-like disease or not, to make it easier and faster for healthcare workers, like doctors, to diagnose chest x-rays."
      ]
    },
    {
      "cell_type": "markdown",
      "metadata": {
        "id": "GN_KeQdIT-J9"
      },
      "source": [
        "**Deep Learning Task**\n",
        "\n",
        "This project will use supervised learning algorithms (classification), as the target output has already been labeled. Given the chest x-rays of various people, we will try to predict whether he/she has a pneumonia-like disease or not."
      ]
    },
    {
      "cell_type": "markdown",
      "metadata": {
        "id": "4IEKZBmTUS0A"
      },
      "source": [
        "**Performance Measures**\n",
        "\n",
        "The metrics I will use here are ROC AUC and recall, which are great metrics for classification. I used ROC AUC because the dataset is imbalanced (the positive class is the majority), and I used recall, because I want my model to be able to predict the most number of positive cases (true positives, lungs infected by pneumonia, and predicted true) and the least number of false negative cases (false negatives, lungs infected by pneumonia, and predicted false)."
      ]
    }
  ]
}