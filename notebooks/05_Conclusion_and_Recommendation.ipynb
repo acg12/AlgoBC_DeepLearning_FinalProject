{
  "nbformat": 4,
  "nbformat_minor": 0,
  "metadata": {
    "colab": {
      "name": "05_Conclusion_and_Recommendation.ipynb",
      "provenance": [],
      "authorship_tag": "ABX9TyMEQ3070EZNujKeyeIPOkLS",
      "include_colab_link": true
    },
    "kernelspec": {
      "name": "python3",
      "display_name": "Python 3"
    },
    "language_info": {
      "name": "python"
    }
  },
  "cells": [
    {
      "cell_type": "markdown",
      "metadata": {
        "id": "view-in-github",
        "colab_type": "text"
      },
      "source": [
        "<a href=\"https://colab.research.google.com/github/acg12/AlgoBC_DeepLearning_FinalProject/blob/main/notebooks/05_Conclusion_and_Recommendation.ipynb\" target=\"_parent\"><img src=\"https://colab.research.google.com/assets/colab-badge.svg\" alt=\"Open In Colab\"/></a>"
      ]
    },
    {
      "cell_type": "markdown",
      "metadata": {
        "id": "tcZEPvOmgW-F"
      },
      "source": [
        "# Conclusion"
      ]
    },
    {
      "cell_type": "markdown",
      "metadata": {
        "id": "zONY0-5zgauR"
      },
      "source": [
        "After testing several models, I concluded that the EfficientNetV2-B0 model performed the best and achieved a weighted recall score of ~88% and an AUC score of ~95% on unseen data, which is an improvement from the baseline model. Our AUC score improved by ~5%, with an improvement of weighted average recall score of ~3% There was also an improvement of about 30 less cases of false negatives and 30 more cases of true positives!\n"
      ]
    },
    {
      "cell_type": "markdown",
      "metadata": {
        "id": "3alpZWc_gjq7"
      },
      "source": [
        "# Recommendation"
      ]
    },
    {
      "cell_type": "markdown",
      "metadata": {
        "id": "mhx89pU9glac"
      },
      "source": [
        "The work I have done is far from perfect; there are still many improvements that can be made in the future, such as: \n",
        "- Spend more time on the hyperparameter tuning process\n",
        "- Using the ensemble method to create one optimal model"
      ]
    }
  ]
}